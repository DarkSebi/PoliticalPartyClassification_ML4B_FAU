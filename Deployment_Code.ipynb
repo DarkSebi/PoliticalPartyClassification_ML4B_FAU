{
 "cells": [
  {
   "cell_type": "markdown",
   "metadata": {},
   "source": [
    "# import modules"
   ]
  },
  {
   "cell_type": "code",
   "execution_count": 1,
   "metadata": {},
   "outputs": [],
   "source": [
    "!pip install -q -U json-lines\n",
    "\n",
    "import json\n",
    "import os\n",
    "import pandas as pd\n",
    "import tarfile\n",
    "import json_lines\n",
    "from tqdm.notebook import tqdm\n",
    "from pprint import pprint\n",
    "import glob\n",
    "import matplotlib.pyplot as plt\n",
    "import numpy as np"
   ]
  },
  {
   "cell_type": "markdown",
   "metadata": {},
   "source": [
    "# read party, tweets, mentions and hashtags"
   ]
  },
  {
   "cell_type": "code",
   "execution_count": 2,
   "metadata": {},
   "outputs": [
    {
     "data": {
      "application/vnd.jupyter.widget-view+json": {
       "model_id": "4fb2d242e227455f8563b0082925cd8f",
       "version_major": 2,
       "version_minor": 0
      },
      "text/plain": [
       "HBox(children=(HTML(value=''), FloatProgress(value=0.0, max=727.0), HTML(value='')))"
      ]
     },
     "metadata": {},
     "output_type": "display_data"
    },
    {
     "name": "stdout",
     "output_type": "stream",
     "text": [
      "\n",
      "Number of error-requests: 0\n",
      "Read 1806094 Tweets sucussfully.\n",
      "mentions 0\n",
      "hashtags 0\n"
     ]
    }
   ],
   "source": [
    "files123 = glob.glob('./data/*.jl')\n",
    "\n",
    "partyname_n_tweets = []\n",
    "partyname_mentions = []\n",
    "partyname_hash = []\n",
    "error = []\n",
    "\n",
    "i = 0\n",
    "\n",
    "for file in tqdm(files123): # responsible for visual output\n",
    "\n",
    "    #if(i == 300):\n",
    "        #continue\n",
    "    #i += 1\n",
    "    \n",
    "    with json_lines.open(file) as f:\n",
    "        for item in f:\n",
    "            try:\n",
    "                if item['response']['meta']['result_count'] == 0: \n",
    "                    continue\n",
    "                elif item['account_data']['Partei'] == \"Fraktionslos\":\n",
    "                    continue\n",
    "                if item['http_status'] == 200:\n",
    "                    \n",
    "                    #get party name\n",
    "                    partei = item[\"account_data\"][\"Partei\"]\n",
    "                    \n",
    "                    #get all tweets per person\n",
    "                    tweets_array = item[\"response\"][\"data\"]\n",
    "                    \n",
    "                    for tweet in tweets_array: #range(0,len(tweets_array)-1):\n",
    "                       # print(type(tweet))\n",
    "                        if(\"referenced_tweets\" in tweet): # tweet is a dictionary\n",
    "                            tweet_type = tweet[\"referenced_tweets\"]\n",
    "                            if(tweet_type[0][\"type\"] == \"retweeted\"):\n",
    "                                continue\n",
    "                        partyname_n_tweets.append({\"Partei\": partei, \"Tweet\": tweet[\"text\"]}) # hashtags, mentions in eigene Arrays\n",
    "                        \n",
    "                        #if(\"entities\" in tweet): \n",
    "                            #entities = tweet[\"entities\"]\n",
    "                            #if(\"mentions\" in entities):\n",
    "                                #mentions = entities[\"mentions\"]\n",
    "                                #for ment in mentions:\n",
    "                                        #mention = ment[\"username\"]\n",
    "                                        #partyname_mentions.append({\"Partei\": partei, \"mentions\": mention})\n",
    "                            #if(\"hashtags\" in entities):\n",
    "                                #hashtags = entities[\"hashtags\"]\n",
    "                                #for tag in hashtags:\n",
    "                                        #hashtag = tag[\"tag\"]\n",
    "                                        #partyname_hash.append({\"Partei\": partei, \"hashtags\": hashtag})\n",
    "                                        \n",
    "                else:\n",
    "                    error.append(item)\n",
    "                    print(\"yikes\")\n",
    "                    \n",
    "            except Exception as e:\n",
    "                raise e\n",
    "                           \n",
    "print(\"Number of error-requests:\", len(error))\n",
    "print(\"Read\", len(partyname_n_tweets), \"Tweets sucussfully.\")\n",
    "print(\"mentions\", len(partyname_mentions))\n",
    "print(\"hashtags\", len(partyname_hash))"
   ]
  },
  {
   "cell_type": "markdown",
   "metadata": {},
   "source": [
    "# import nltk and sklearn"
   ]
  },
  {
   "cell_type": "code",
   "execution_count": 5,
   "metadata": {},
   "outputs": [],
   "source": [
    "#weitere imports\n",
    "import re\n",
    "import nltk\n",
    "import string\n",
    "from nltk.stem.porter import PorterStemmer\n",
    "from sklearn.feature_extraction.text import TfidfVectorizer\n",
    "from sklearn.pipeline import Pipeline\n",
    "from sklearn.feature_selection import SelectKBest, chi2\n",
    "from sklearn.model_selection import train_test_split\n",
    "\n",
    "#import ML LIB\n",
    "from sklearn.svm import LinearSVC\n",
    "from sklearn.tree import DecisionTreeClassifier\n",
    "from sklearn.ensemble import RandomForestClassifier\n",
    "from sklearn.neural_network import MLPClassifier\n",
    "from sklearn.ensemble import GradientBoostingClassifier\n",
    "from sklearn.neighbors import KNeighborsClassifier\n",
    "\n",
    "#import Evaluation Metrics\n",
    "from sklearn.metrics import classification_report\n",
    "from sklearn.metrics import accuracy_score\n",
    "from sklearn.metrics import confusion_matrix"
   ]
  },
  {
   "cell_type": "code",
   "execution_count": 6,
   "metadata": {},
   "outputs": [
    {
     "name": "stderr",
     "output_type": "stream",
     "text": [
      "[nltk_data] Downloading package stopwords to\n",
      "[nltk_data]     C:\\Users\\Runjie\\AppData\\Roaming\\nltk_data...\n",
      "[nltk_data]   Package stopwords is already up-to-date!\n"
     ]
    }
   ],
   "source": [
    "#get stemmer, stop_words\n",
    "stemmer = nltk.stem.SnowballStemmer(\"german\")\n",
    "nltk.download(\"stopwords\")\n",
    "stop_words=set(nltk.corpus.stopwords.words(\"german\"))"
   ]
  },
  {
   "cell_type": "code",
   "execution_count": 4,
   "metadata": {},
   "outputs": [
    {
     "data": {
      "text/html": [
       "<div>\n",
       "<style scoped>\n",
       "    .dataframe tbody tr th:only-of-type {\n",
       "        vertical-align: middle;\n",
       "    }\n",
       "\n",
       "    .dataframe tbody tr th {\n",
       "        vertical-align: top;\n",
       "    }\n",
       "\n",
       "    .dataframe thead th {\n",
       "        text-align: right;\n",
       "    }\n",
       "</style>\n",
       "<table border=\"1\" class=\"dataframe\">\n",
       "  <thead>\n",
       "    <tr style=\"text-align: right;\">\n",
       "      <th></th>\n",
       "      <th>Partei</th>\n",
       "      <th>Tweet</th>\n",
       "    </tr>\n",
       "  </thead>\n",
       "  <tbody>\n",
       "    <tr>\n",
       "      <th>0</th>\n",
       "      <td>Bündnis 90/Die Grünen</td>\n",
       "      <td>@green_clarity99 Danke dir!</td>\n",
       "    </tr>\n",
       "    <tr>\n",
       "      <th>1</th>\n",
       "      <td>Bündnis 90/Die Grünen</td>\n",
       "      <td>Die Industrie ist das Rückgrat unseres Wohlsta...</td>\n",
       "    </tr>\n",
       "    <tr>\n",
       "      <th>2</th>\n",
       "      <td>Bündnis 90/Die Grünen</td>\n",
       "      <td>@peter_simone @RenateKuenast Herzlichen Dank l...</td>\n",
       "    </tr>\n",
       "    <tr>\n",
       "      <th>3</th>\n",
       "      <td>Bündnis 90/Die Grünen</td>\n",
       "      <td>Ebenfalls herzlichen Glückwunsch, liebe @Renat...</td>\n",
       "    </tr>\n",
       "    <tr>\n",
       "      <th>4</th>\n",
       "      <td>Bündnis 90/Die Grünen</td>\n",
       "      <td>@BernhardPoetter treffend: „🌍 CO2-Rückgang 202...</td>\n",
       "    </tr>\n",
       "    <tr>\n",
       "      <th>...</th>\n",
       "      <td>...</td>\n",
       "      <td>...</td>\n",
       "    </tr>\n",
       "    <tr>\n",
       "      <th>1806089</th>\n",
       "      <td>CDU</td>\n",
       "      <td>Mit bis zu 20 Mio € wird das ⁦@BMBF_Bund⁩ künf...</td>\n",
       "    </tr>\n",
       "    <tr>\n",
       "      <th>1806090</th>\n",
       "      <td>CDU</td>\n",
       "      <td>Die Simulation ist neben Theorie und Experimen...</td>\n",
       "    </tr>\n",
       "    <tr>\n",
       "      <th>1806091</th>\n",
       "      <td>CDU</td>\n",
       "      <td>Schule darf keine „digitalen Analphabeten“ erz...</td>\n",
       "    </tr>\n",
       "    <tr>\n",
       "      <th>1806092</th>\n",
       "      <td>CDU</td>\n",
       "      <td>@StefanKaufmann @helmholtz_de 👍</td>\n",
       "    </tr>\n",
       "    <tr>\n",
       "      <th>1806093</th>\n",
       "      <td>CDU</td>\n",
       "      <td>Bei der Springer Medizin Gala 2018 darf ich fü...</td>\n",
       "    </tr>\n",
       "  </tbody>\n",
       "</table>\n",
       "<p>1806094 rows × 2 columns</p>\n",
       "</div>"
      ],
      "text/plain": [
       "                        Partei  \\\n",
       "0        Bündnis 90/Die Grünen   \n",
       "1        Bündnis 90/Die Grünen   \n",
       "2        Bündnis 90/Die Grünen   \n",
       "3        Bündnis 90/Die Grünen   \n",
       "4        Bündnis 90/Die Grünen   \n",
       "...                        ...   \n",
       "1806089                    CDU   \n",
       "1806090                    CDU   \n",
       "1806091                    CDU   \n",
       "1806092                    CDU   \n",
       "1806093                    CDU   \n",
       "\n",
       "                                                     Tweet  \n",
       "0                              @green_clarity99 Danke dir!  \n",
       "1        Die Industrie ist das Rückgrat unseres Wohlsta...  \n",
       "2        @peter_simone @RenateKuenast Herzlichen Dank l...  \n",
       "3        Ebenfalls herzlichen Glückwunsch, liebe @Renat...  \n",
       "4        @BernhardPoetter treffend: „🌍 CO2-Rückgang 202...  \n",
       "...                                                    ...  \n",
       "1806089  Mit bis zu 20 Mio € wird das ⁦@BMBF_Bund⁩ künf...  \n",
       "1806090  Die Simulation ist neben Theorie und Experimen...  \n",
       "1806091  Schule darf keine „digitalen Analphabeten“ erz...  \n",
       "1806092                    @StefanKaufmann @helmholtz_de 👍  \n",
       "1806093  Bei der Springer Medizin Gala 2018 darf ich fü...  \n",
       "\n",
       "[1806094 rows x 2 columns]"
      ]
     },
     "execution_count": 4,
     "metadata": {},
     "output_type": "execute_result"
    }
   ],
   "source": [
    "alles_df = pd.DataFrame(partyname_n_tweets)\n",
    "alles_df"
   ]
  },
  {
   "cell_type": "code",
   "execution_count": 7,
   "metadata": {},
   "outputs": [
    {
     "data": {
      "text/plain": [
       "Bündnis 90/Die Grünen    433846\n",
       "SPD                      354097\n",
       "CDU                      336243\n",
       "Die Linke                326787\n",
       "FDP                      182542\n",
       "AfD                      102382\n",
       "CSU                       70197\n",
       "Name: Partei, dtype: int64"
      ]
     },
     "execution_count": 7,
     "metadata": {},
     "output_type": "execute_result"
    }
   ],
   "source": [
    "alles_df[\"Partei\"].value_counts()"
   ]
  },
  {
   "cell_type": "code",
   "execution_count": 8,
   "metadata": {},
   "outputs": [
    {
     "data": {
      "text/plain": [
       "1806094"
      ]
     },
     "execution_count": 8,
     "metadata": {},
     "output_type": "execute_result"
    }
   ],
   "source": [
    "len(alles_df)"
   ]
  },
  {
   "cell_type": "code",
   "execution_count": 10,
   "metadata": {},
   "outputs": [],
   "source": [
    "import re\n",
    "import string\n",
    "\n",
    "def remove_URL(text):\n",
    "    url = re.compile(r\"https?://\\S+|www\\.\\S+\")\n",
    "    return url.sub(r\"\", text)\n",
    "\n",
    "def remove_punct(text):\n",
    "    translator = str.maketrans(\"\", \"\", string.punctuation)\n",
    "    return text.translate(translator)\n",
    "\n",
    "def remove_stopwords(text):\n",
    "    filtered_words = [word.lower() for word in text.split() if word.lower() not in stop_words]\n",
    "    return \" \".join(filtered_words)"
   ]
  },
  {
   "cell_type": "code",
   "execution_count": 11,
   "metadata": {},
   "outputs": [
    {
     "data": {
      "text/plain": [
       "'!\"#$%&\\'()*+,-./:;<=>?@[\\\\]^_`{|}~'"
      ]
     },
     "execution_count": 11,
     "metadata": {},
     "output_type": "execute_result"
    }
   ],
   "source": [
    "string.punctuation"
   ]
  },
  {
   "cell_type": "code",
   "execution_count": 12,
   "metadata": {},
   "outputs": [
    {
     "data": {
      "text/plain": [
       "{'aber',\n",
       " 'alle',\n",
       " 'allem',\n",
       " 'allen',\n",
       " 'aller',\n",
       " 'alles',\n",
       " 'als',\n",
       " 'also',\n",
       " 'am',\n",
       " 'an',\n",
       " 'ander',\n",
       " 'andere',\n",
       " 'anderem',\n",
       " 'anderen',\n",
       " 'anderer',\n",
       " 'anderes',\n",
       " 'anderm',\n",
       " 'andern',\n",
       " 'anderr',\n",
       " 'anders',\n",
       " 'auch',\n",
       " 'auf',\n",
       " 'aus',\n",
       " 'bei',\n",
       " 'bin',\n",
       " 'bis',\n",
       " 'bist',\n",
       " 'da',\n",
       " 'damit',\n",
       " 'dann',\n",
       " 'das',\n",
       " 'dass',\n",
       " 'dasselbe',\n",
       " 'dazu',\n",
       " 'daß',\n",
       " 'dein',\n",
       " 'deine',\n",
       " 'deinem',\n",
       " 'deinen',\n",
       " 'deiner',\n",
       " 'deines',\n",
       " 'dem',\n",
       " 'demselben',\n",
       " 'den',\n",
       " 'denn',\n",
       " 'denselben',\n",
       " 'der',\n",
       " 'derer',\n",
       " 'derselbe',\n",
       " 'derselben',\n",
       " 'des',\n",
       " 'desselben',\n",
       " 'dessen',\n",
       " 'dich',\n",
       " 'die',\n",
       " 'dies',\n",
       " 'diese',\n",
       " 'dieselbe',\n",
       " 'dieselben',\n",
       " 'diesem',\n",
       " 'diesen',\n",
       " 'dieser',\n",
       " 'dieses',\n",
       " 'dir',\n",
       " 'doch',\n",
       " 'dort',\n",
       " 'du',\n",
       " 'durch',\n",
       " 'ein',\n",
       " 'eine',\n",
       " 'einem',\n",
       " 'einen',\n",
       " 'einer',\n",
       " 'eines',\n",
       " 'einig',\n",
       " 'einige',\n",
       " 'einigem',\n",
       " 'einigen',\n",
       " 'einiger',\n",
       " 'einiges',\n",
       " 'einmal',\n",
       " 'er',\n",
       " 'es',\n",
       " 'etwas',\n",
       " 'euch',\n",
       " 'euer',\n",
       " 'eure',\n",
       " 'eurem',\n",
       " 'euren',\n",
       " 'eurer',\n",
       " 'eures',\n",
       " 'für',\n",
       " 'gegen',\n",
       " 'gewesen',\n",
       " 'hab',\n",
       " 'habe',\n",
       " 'haben',\n",
       " 'hat',\n",
       " 'hatte',\n",
       " 'hatten',\n",
       " 'hier',\n",
       " 'hin',\n",
       " 'hinter',\n",
       " 'ich',\n",
       " 'ihm',\n",
       " 'ihn',\n",
       " 'ihnen',\n",
       " 'ihr',\n",
       " 'ihre',\n",
       " 'ihrem',\n",
       " 'ihren',\n",
       " 'ihrer',\n",
       " 'ihres',\n",
       " 'im',\n",
       " 'in',\n",
       " 'indem',\n",
       " 'ins',\n",
       " 'ist',\n",
       " 'jede',\n",
       " 'jedem',\n",
       " 'jeden',\n",
       " 'jeder',\n",
       " 'jedes',\n",
       " 'jene',\n",
       " 'jenem',\n",
       " 'jenen',\n",
       " 'jener',\n",
       " 'jenes',\n",
       " 'jetzt',\n",
       " 'kann',\n",
       " 'kein',\n",
       " 'keine',\n",
       " 'keinem',\n",
       " 'keinen',\n",
       " 'keiner',\n",
       " 'keines',\n",
       " 'können',\n",
       " 'könnte',\n",
       " 'machen',\n",
       " 'man',\n",
       " 'manche',\n",
       " 'manchem',\n",
       " 'manchen',\n",
       " 'mancher',\n",
       " 'manches',\n",
       " 'mein',\n",
       " 'meine',\n",
       " 'meinem',\n",
       " 'meinen',\n",
       " 'meiner',\n",
       " 'meines',\n",
       " 'mich',\n",
       " 'mir',\n",
       " 'mit',\n",
       " 'muss',\n",
       " 'musste',\n",
       " 'nach',\n",
       " 'nicht',\n",
       " 'nichts',\n",
       " 'noch',\n",
       " 'nun',\n",
       " 'nur',\n",
       " 'ob',\n",
       " 'oder',\n",
       " 'ohne',\n",
       " 'sehr',\n",
       " 'sein',\n",
       " 'seine',\n",
       " 'seinem',\n",
       " 'seinen',\n",
       " 'seiner',\n",
       " 'seines',\n",
       " 'selbst',\n",
       " 'sich',\n",
       " 'sie',\n",
       " 'sind',\n",
       " 'so',\n",
       " 'solche',\n",
       " 'solchem',\n",
       " 'solchen',\n",
       " 'solcher',\n",
       " 'solches',\n",
       " 'soll',\n",
       " 'sollte',\n",
       " 'sondern',\n",
       " 'sonst',\n",
       " 'um',\n",
       " 'und',\n",
       " 'uns',\n",
       " 'unser',\n",
       " 'unsere',\n",
       " 'unserem',\n",
       " 'unseren',\n",
       " 'unseres',\n",
       " 'unter',\n",
       " 'viel',\n",
       " 'vom',\n",
       " 'von',\n",
       " 'vor',\n",
       " 'war',\n",
       " 'waren',\n",
       " 'warst',\n",
       " 'was',\n",
       " 'weg',\n",
       " 'weil',\n",
       " 'weiter',\n",
       " 'welche',\n",
       " 'welchem',\n",
       " 'welchen',\n",
       " 'welcher',\n",
       " 'welches',\n",
       " 'wenn',\n",
       " 'werde',\n",
       " 'werden',\n",
       " 'wie',\n",
       " 'wieder',\n",
       " 'will',\n",
       " 'wir',\n",
       " 'wird',\n",
       " 'wirst',\n",
       " 'wo',\n",
       " 'wollen',\n",
       " 'wollte',\n",
       " 'während',\n",
       " 'würde',\n",
       " 'würden',\n",
       " 'zu',\n",
       " 'zum',\n",
       " 'zur',\n",
       " 'zwar',\n",
       " 'zwischen',\n",
       " 'über'}"
      ]
     },
     "execution_count": 12,
     "metadata": {},
     "output_type": "execute_result"
    }
   ],
   "source": [
    "stop_words"
   ]
  },
  {
   "cell_type": "code",
   "execution_count": 13,
   "metadata": {},
   "outputs": [],
   "source": [
    "alles_df[\"Tweet\"] = alles_df.Tweet.map(remove_URL) #map(lambdax: remove_URL(x))\n",
    "alles_df[\"Tweet\"] = alles_df.Tweet.map(remove_punct)\n",
    "alles_df[\"Tweet\"] = alles_df.Tweet.map(remove_stopwords)"
   ]
  },
  {
   "cell_type": "code",
   "execution_count": null,
   "metadata": {},
   "outputs": [],
   "source": []
  },
  {
   "cell_type": "code",
   "execution_count": 19,
   "metadata": {},
   "outputs": [],
   "source": [
    "X_train, X_test, y_train, y_test = train_test_split(alles_df[\"Tweet\"], alles_df.Partei, test_size = 0.3, random_state=111)"
   ]
  },
  {
   "cell_type": "code",
   "execution_count": null,
   "metadata": {},
   "outputs": [],
   "source": []
  },
  {
   "cell_type": "markdown",
   "metadata": {},
   "source": [
    "# SVM"
   ]
  },
  {
   "cell_type": "code",
   "execution_count": 29,
   "metadata": {},
   "outputs": [],
   "source": [
    "#ngram_range = how many words to consider, 1, 2 --> look at every seperate word, and a pair of 2 words: not good --> bad\n",
    "pipeline = Pipeline([(\"vect\", TfidfVectorizer(ngram_range=(1, 2), stop_words=None, sublinear_tf=True, max_df=0.75, lowercase = False)), \n",
    "                     (\"chi\", SelectKBest(chi2, k=50000)),\n",
    "                     (\"clf\", LinearSVC(C=1.0, penalty=\"l1\", max_iter=6000, dual=False))])"
   ]
  },
  {
   "cell_type": "code",
   "execution_count": 30,
   "metadata": {},
   "outputs": [],
   "source": [
    "model = pipeline.fit(X_train, y_train)"
   ]
  },
  {
   "cell_type": "code",
   "execution_count": 31,
   "metadata": {},
   "outputs": [],
   "source": [
    "vectorizer = model.named_steps[\"vect\"]\n",
    "chi = model.named_steps[\"chi\"]\n",
    "clf = model.named_steps[\"clf\"]"
   ]
  },
  {
   "cell_type": "code",
   "execution_count": 32,
   "metadata": {},
   "outputs": [],
   "source": [
    "feature_names = vectorizer.get_feature_names()\n",
    "feature_names = [feature_names[i] for i in chi.get_support(indices = True)]\n",
    "feature_names = np.asarray(feature_names)"
   ]
  },
  {
   "cell_type": "code",
   "execution_count": 33,
   "metadata": {},
   "outputs": [
    {
     "name": "stdout",
     "output_type": "stream",
     "text": [
      "top 30 keywords per class:\n",
      "AfD: grünixchen socialismkills repswalwell bessermenschen merkelland2018 altparteienstaat lockdownkrise brandnerunterwegs syrienreise niewiedersozialismus hollnagel gezabschaffen altparteien staatsfunk kestner klimawahn intelligenzgibtsnichtimbioladen nurdieafd toterjournalismus afdsthueringen teammünzenmaier afd17 traudichdeutschland altparteienstaat2019 buntland ramelüringen afdimbundestag afdwählen nurnochafd afdwirkt\n",
      "\n",
      "\n",
      "Bündnis 90/Die Grünen: aliabunimah marclueger lobbyistengaben enveryucel به erststimmemutlu israel09 no2isis ursulakramer12 از stefanpoloczek weareinthistogether mehrmainz lkosnabrueck parteispendenaffäre buergerschafthst bdk11 greencongress patientnnen hlk ditibkoeln selcukrsirin greenrunners no2hate ssr kreistagvr zukunftentscheidetsichhier mutludirekt prayforthem bü\n",
      "\n",
      "\n",
      "CDU: 2rg lsauerwald international order rheinwied fgiarra66 cducsubt get ostprignitzruppin kolumne welt tigarus86 windhagen neersen fightcancelculture grossjenny kgedialog hohensteinernstthal dasistintegration team kge wirhandeln willich teamröttgen jetztvoran steineke bjoernsuelter neustaat nick2013 moltkezitate euerpaul stephanuskreis nolinke\n",
      "\n",
      "\n",
      "CSU: wk248 mein vorschlag voxdhdl natopastavanger15 csuam13 ichflippegleichaus wmaser csuam14 erwerbstätige klasse jazubayern chancenstattschulden mellcolm wallersdorfer wallersdorf schweinfurter dibncc ralfduemmel fcn respektjetzt außenpolitisch erwachsen pro iphone brehminberlin klimabeauftragte fdpbt fazwirtschaft anja17 fcbayernnews aspdercsu rt csubt bwk247 dhdl\n",
      "\n",
      "\n",
      "Die Linke: cccamp urhrdialog twitterkurds linkebayern guerillaknitting duverdienstmehr kommunalkrise linkebpt freitagumeins dtag refugeehackathon wlib öff investitionen dad14eu dld13 asherwolf insidebundestag dld17 linkesh gov20 neuelinkemehrheiten masi gottlosetype lexialex searchers2015 linksfraktion btadavaeo goldkronach verstehbahnhof ltlt\n",
      "\n",
      "\n",
      "FDP: digilib tke1860 tcd freiheitszonen mpt15 philjaeker winfriedfelser kinderchancengeld kulturgüterschützen reneweurope schräg stall smartgermany prometheusinst fabiangrischkat ts2017 juanrequesens tl masz rstraub46 team beer halloübermorgen fdplgby tweetenespañol aldegroup notitsen liberalenews cl fdpbt cj tb\n",
      "\n",
      "\n",
      "SPD: alemaniaparati europaistdieantwort deditte longcovid doroistda ontheroth bonncapitals noticeamptakedown socpace heikoc rbnk beingmenow ullinissen originalchemnitz knockthevote sarscov kulturbb zukunftwirdinbrandenburggemacht schaut webseite solidarischesland eudebate2014 entdecken osten plabberpapp yfj ahennecke kampmannroth tap bissigerfisch leonidragozin hellernorbert\n",
      "\n",
      "\n"
     ]
    }
   ],
   "source": [
    "#target_names = [\"Bündnis 90/Die Grünen\", \"SPD\", \"CDU\", \"Die Linke\", \"FDP\", \"AfD\", \"CSU\"]\n",
    "target_names = clf.classes_\n",
    "print(\"top 30 keywords per class:\")\n",
    "for i, label in enumerate(target_names):\n",
    "    top30 = np.argsort(clf.coef_[i])[-30:]\n",
    "    print(\"%s: %s\" % (label, \" \".join(feature_names[top30])))\n",
    "    print(\"\\n\")"
   ]
  },
  {
   "cell_type": "code",
   "execution_count": 34,
   "metadata": {},
   "outputs": [],
   "source": [
    "prediction = model.predict(X_test)"
   ]
  },
  {
   "cell_type": "code",
   "execution_count": 35,
   "metadata": {},
   "outputs": [
    {
     "name": "stdout",
     "output_type": "stream",
     "text": [
      "******SVM classification report (fulltext, all data)******\n",
      "accuracy: 0.588148659447907\n",
      "                       precision    recall  f1-score   support\n",
      "\n",
      "                  AfD     0.6765    0.6159    0.6448     30818\n",
      "Bündnis 90/Die Grünen     0.5374    0.6654    0.5946    130070\n",
      "                  CDU     0.5613    0.5732    0.5672    100514\n",
      "                  CSU     0.6779    0.3698    0.4786     21044\n",
      "            Die Linke     0.6289    0.6250    0.6269     98403\n",
      "                  FDP     0.7154    0.5066    0.5932     54510\n",
      "                  SPD     0.5738    0.5506    0.5620    106470\n",
      "\n",
      "             accuracy                         0.5881    541829\n",
      "            macro avg     0.6244    0.5581    0.5810    541829\n",
      "         weighted avg     0.5969    0.5881    0.5872    541829\n",
      "\n"
     ]
    }
   ],
   "source": [
    "print(\"******SVM classification report (fulltext, all data)******\")\n",
    "print(\"accuracy:\", accuracy_score(y_test, prediction))\n",
    "print(classification_report(y_test, prediction, target_names=target_names, digits=4))"
   ]
  },
  {
   "cell_type": "code",
   "execution_count": 36,
   "metadata": {},
   "outputs": [
    {
     "name": "stdout",
     "output_type": "stream",
     "text": [
      "************************SVM confusion matrix (fulltext, all data)************************\n"
     ]
    },
    {
     "data": {
      "text/html": [
       "<style  type=\"text/css\" >\n",
       "#T_35852fbd_c0d9_11eb_9fe6_305a3a083b3frow0_col0,#T_35852fbd_c0d9_11eb_9fe6_305a3a083b3frow0_col1,#T_35852fbd_c0d9_11eb_9fe6_305a3a083b3frow0_col2,#T_35852fbd_c0d9_11eb_9fe6_305a3a083b3frow0_col3,#T_35852fbd_c0d9_11eb_9fe6_305a3a083b3frow0_col4,#T_35852fbd_c0d9_11eb_9fe6_305a3a083b3frow0_col5,#T_35852fbd_c0d9_11eb_9fe6_305a3a083b3frow0_col6,#T_35852fbd_c0d9_11eb_9fe6_305a3a083b3frow1_col0,#T_35852fbd_c0d9_11eb_9fe6_305a3a083b3frow1_col1,#T_35852fbd_c0d9_11eb_9fe6_305a3a083b3frow1_col2,#T_35852fbd_c0d9_11eb_9fe6_305a3a083b3frow1_col3,#T_35852fbd_c0d9_11eb_9fe6_305a3a083b3frow1_col4,#T_35852fbd_c0d9_11eb_9fe6_305a3a083b3frow1_col5,#T_35852fbd_c0d9_11eb_9fe6_305a3a083b3frow1_col6,#T_35852fbd_c0d9_11eb_9fe6_305a3a083b3frow2_col0,#T_35852fbd_c0d9_11eb_9fe6_305a3a083b3frow2_col1,#T_35852fbd_c0d9_11eb_9fe6_305a3a083b3frow2_col2,#T_35852fbd_c0d9_11eb_9fe6_305a3a083b3frow2_col3,#T_35852fbd_c0d9_11eb_9fe6_305a3a083b3frow2_col4,#T_35852fbd_c0d9_11eb_9fe6_305a3a083b3frow2_col5,#T_35852fbd_c0d9_11eb_9fe6_305a3a083b3frow2_col6,#T_35852fbd_c0d9_11eb_9fe6_305a3a083b3frow3_col0,#T_35852fbd_c0d9_11eb_9fe6_305a3a083b3frow3_col1,#T_35852fbd_c0d9_11eb_9fe6_305a3a083b3frow3_col2,#T_35852fbd_c0d9_11eb_9fe6_305a3a083b3frow3_col3,#T_35852fbd_c0d9_11eb_9fe6_305a3a083b3frow3_col4,#T_35852fbd_c0d9_11eb_9fe6_305a3a083b3frow3_col5,#T_35852fbd_c0d9_11eb_9fe6_305a3a083b3frow3_col6,#T_35852fbd_c0d9_11eb_9fe6_305a3a083b3frow4_col0,#T_35852fbd_c0d9_11eb_9fe6_305a3a083b3frow4_col1,#T_35852fbd_c0d9_11eb_9fe6_305a3a083b3frow4_col2,#T_35852fbd_c0d9_11eb_9fe6_305a3a083b3frow4_col3,#T_35852fbd_c0d9_11eb_9fe6_305a3a083b3frow4_col4,#T_35852fbd_c0d9_11eb_9fe6_305a3a083b3frow4_col5,#T_35852fbd_c0d9_11eb_9fe6_305a3a083b3frow4_col6,#T_35852fbd_c0d9_11eb_9fe6_305a3a083b3frow5_col0,#T_35852fbd_c0d9_11eb_9fe6_305a3a083b3frow5_col1,#T_35852fbd_c0d9_11eb_9fe6_305a3a083b3frow5_col2,#T_35852fbd_c0d9_11eb_9fe6_305a3a083b3frow5_col3,#T_35852fbd_c0d9_11eb_9fe6_305a3a083b3frow5_col4,#T_35852fbd_c0d9_11eb_9fe6_305a3a083b3frow5_col5,#T_35852fbd_c0d9_11eb_9fe6_305a3a083b3frow5_col6,#T_35852fbd_c0d9_11eb_9fe6_305a3a083b3frow6_col0,#T_35852fbd_c0d9_11eb_9fe6_305a3a083b3frow6_col1,#T_35852fbd_c0d9_11eb_9fe6_305a3a083b3frow6_col2,#T_35852fbd_c0d9_11eb_9fe6_305a3a083b3frow6_col3,#T_35852fbd_c0d9_11eb_9fe6_305a3a083b3frow6_col4,#T_35852fbd_c0d9_11eb_9fe6_305a3a083b3frow6_col5,#T_35852fbd_c0d9_11eb_9fe6_305a3a083b3frow6_col6{\n",
       "            text-align:  center;\n",
       "        }</style><table id=\"T_35852fbd_c0d9_11eb_9fe6_305a3a083b3f\" ><thead>    <tr>        <th class=\"blank level0\" ></th>        <th class=\"col_heading level0 col0\" >pred:AfD</th>        <th class=\"col_heading level0 col1\" >pred:Bündnis 90/Die Grünen</th>        <th class=\"col_heading level0 col2\" >pred:CDU</th>        <th class=\"col_heading level0 col3\" >pred:CSU</th>        <th class=\"col_heading level0 col4\" >pred:Die Linke</th>        <th class=\"col_heading level0 col5\" >pred:FDP</th>        <th class=\"col_heading level0 col6\" >pred:SPD</th>    </tr></thead><tbody>\n",
       "                <tr>\n",
       "                        <th id=\"T_35852fbd_c0d9_11eb_9fe6_305a3a083b3flevel0_row0\" class=\"row_heading level0 row0\" >true:AfD</th>\n",
       "                        <td id=\"T_35852fbd_c0d9_11eb_9fe6_305a3a083b3frow0_col0\" class=\"data row0 col0\" >18982</td>\n",
       "                        <td id=\"T_35852fbd_c0d9_11eb_9fe6_305a3a083b3frow0_col1\" class=\"data row0 col1\" >4034</td>\n",
       "                        <td id=\"T_35852fbd_c0d9_11eb_9fe6_305a3a083b3frow0_col2\" class=\"data row0 col2\" >2609</td>\n",
       "                        <td id=\"T_35852fbd_c0d9_11eb_9fe6_305a3a083b3frow0_col3\" class=\"data row0 col3\" >82</td>\n",
       "                        <td id=\"T_35852fbd_c0d9_11eb_9fe6_305a3a083b3frow0_col4\" class=\"data row0 col4\" >2369</td>\n",
       "                        <td id=\"T_35852fbd_c0d9_11eb_9fe6_305a3a083b3frow0_col5\" class=\"data row0 col5\" >762</td>\n",
       "                        <td id=\"T_35852fbd_c0d9_11eb_9fe6_305a3a083b3frow0_col6\" class=\"data row0 col6\" >1980</td>\n",
       "            </tr>\n",
       "            <tr>\n",
       "                        <th id=\"T_35852fbd_c0d9_11eb_9fe6_305a3a083b3flevel0_row1\" class=\"row_heading level0 row1\" >true:Bündnis 90/Die Grünen</th>\n",
       "                        <td id=\"T_35852fbd_c0d9_11eb_9fe6_305a3a083b3frow1_col0\" class=\"data row1 col0\" >2128</td>\n",
       "                        <td id=\"T_35852fbd_c0d9_11eb_9fe6_305a3a083b3frow1_col1\" class=\"data row1 col1\" >86550</td>\n",
       "                        <td id=\"T_35852fbd_c0d9_11eb_9fe6_305a3a083b3frow1_col2\" class=\"data row1 col2\" >11470</td>\n",
       "                        <td id=\"T_35852fbd_c0d9_11eb_9fe6_305a3a083b3frow1_col3\" class=\"data row1 col3\" >970</td>\n",
       "                        <td id=\"T_35852fbd_c0d9_11eb_9fe6_305a3a083b3frow1_col4\" class=\"data row1 col4\" >12996</td>\n",
       "                        <td id=\"T_35852fbd_c0d9_11eb_9fe6_305a3a083b3frow1_col5\" class=\"data row1 col5\" >2988</td>\n",
       "                        <td id=\"T_35852fbd_c0d9_11eb_9fe6_305a3a083b3frow1_col6\" class=\"data row1 col6\" >12968</td>\n",
       "            </tr>\n",
       "            <tr>\n",
       "                        <th id=\"T_35852fbd_c0d9_11eb_9fe6_305a3a083b3flevel0_row2\" class=\"row_heading level0 row2\" >true:CDU</th>\n",
       "                        <td id=\"T_35852fbd_c0d9_11eb_9fe6_305a3a083b3frow2_col0\" class=\"data row2 col0\" >1925</td>\n",
       "                        <td id=\"T_35852fbd_c0d9_11eb_9fe6_305a3a083b3frow2_col1\" class=\"data row2 col1\" >17765</td>\n",
       "                        <td id=\"T_35852fbd_c0d9_11eb_9fe6_305a3a083b3frow2_col2\" class=\"data row2 col2\" >57615</td>\n",
       "                        <td id=\"T_35852fbd_c0d9_11eb_9fe6_305a3a083b3frow2_col3\" class=\"data row2 col3\" >1045</td>\n",
       "                        <td id=\"T_35852fbd_c0d9_11eb_9fe6_305a3a083b3frow2_col4\" class=\"data row2 col4\" >6997</td>\n",
       "                        <td id=\"T_35852fbd_c0d9_11eb_9fe6_305a3a083b3frow2_col5\" class=\"data row2 col5\" >2321</td>\n",
       "                        <td id=\"T_35852fbd_c0d9_11eb_9fe6_305a3a083b3frow2_col6\" class=\"data row2 col6\" >12846</td>\n",
       "            </tr>\n",
       "            <tr>\n",
       "                        <th id=\"T_35852fbd_c0d9_11eb_9fe6_305a3a083b3flevel0_row3\" class=\"row_heading level0 row3\" >true:CSU</th>\n",
       "                        <td id=\"T_35852fbd_c0d9_11eb_9fe6_305a3a083b3frow3_col0\" class=\"data row3 col0\" >325</td>\n",
       "                        <td id=\"T_35852fbd_c0d9_11eb_9fe6_305a3a083b3frow3_col1\" class=\"data row3 col1\" >4203</td>\n",
       "                        <td id=\"T_35852fbd_c0d9_11eb_9fe6_305a3a083b3frow3_col2\" class=\"data row3 col2\" >3654</td>\n",
       "                        <td id=\"T_35852fbd_c0d9_11eb_9fe6_305a3a083b3frow3_col3\" class=\"data row3 col3\" >7783</td>\n",
       "                        <td id=\"T_35852fbd_c0d9_11eb_9fe6_305a3a083b3frow3_col4\" class=\"data row3 col4\" >1307</td>\n",
       "                        <td id=\"T_35852fbd_c0d9_11eb_9fe6_305a3a083b3frow3_col5\" class=\"data row3 col5\" >1232</td>\n",
       "                        <td id=\"T_35852fbd_c0d9_11eb_9fe6_305a3a083b3frow3_col6\" class=\"data row3 col6\" >2540</td>\n",
       "            </tr>\n",
       "            <tr>\n",
       "                        <th id=\"T_35852fbd_c0d9_11eb_9fe6_305a3a083b3flevel0_row4\" class=\"row_heading level0 row4\" >true:Die Linke</th>\n",
       "                        <td id=\"T_35852fbd_c0d9_11eb_9fe6_305a3a083b3frow4_col0\" class=\"data row4 col0\" >1748</td>\n",
       "                        <td id=\"T_35852fbd_c0d9_11eb_9fe6_305a3a083b3frow4_col1\" class=\"data row4 col1\" >17986</td>\n",
       "                        <td id=\"T_35852fbd_c0d9_11eb_9fe6_305a3a083b3frow4_col2\" class=\"data row4 col2\" >7485</td>\n",
       "                        <td id=\"T_35852fbd_c0d9_11eb_9fe6_305a3a083b3frow4_col3\" class=\"data row4 col3\" >387</td>\n",
       "                        <td id=\"T_35852fbd_c0d9_11eb_9fe6_305a3a083b3frow4_col4\" class=\"data row4 col4\" >61502</td>\n",
       "                        <td id=\"T_35852fbd_c0d9_11eb_9fe6_305a3a083b3frow4_col5\" class=\"data row4 col5\" >1337</td>\n",
       "                        <td id=\"T_35852fbd_c0d9_11eb_9fe6_305a3a083b3frow4_col6\" class=\"data row4 col6\" >7958</td>\n",
       "            </tr>\n",
       "            <tr>\n",
       "                        <th id=\"T_35852fbd_c0d9_11eb_9fe6_305a3a083b3flevel0_row5\" class=\"row_heading level0 row5\" >true:FDP</th>\n",
       "                        <td id=\"T_35852fbd_c0d9_11eb_9fe6_305a3a083b3frow5_col0\" class=\"data row5 col0\" >1230</td>\n",
       "                        <td id=\"T_35852fbd_c0d9_11eb_9fe6_305a3a083b3frow5_col1\" class=\"data row5 col1\" >9742</td>\n",
       "                        <td id=\"T_35852fbd_c0d9_11eb_9fe6_305a3a083b3frow5_col2\" class=\"data row5 col2\" >6215</td>\n",
       "                        <td id=\"T_35852fbd_c0d9_11eb_9fe6_305a3a083b3frow5_col3\" class=\"data row5 col3\" >505</td>\n",
       "                        <td id=\"T_35852fbd_c0d9_11eb_9fe6_305a3a083b3frow5_col4\" class=\"data row5 col4\" >3938</td>\n",
       "                        <td id=\"T_35852fbd_c0d9_11eb_9fe6_305a3a083b3frow5_col5\" class=\"data row5 col5\" >27617</td>\n",
       "                        <td id=\"T_35852fbd_c0d9_11eb_9fe6_305a3a083b3frow5_col6\" class=\"data row5 col6\" >5263</td>\n",
       "            </tr>\n",
       "            <tr>\n",
       "                        <th id=\"T_35852fbd_c0d9_11eb_9fe6_305a3a083b3flevel0_row6\" class=\"row_heading level0 row6\" >true:SPD</th>\n",
       "                        <td id=\"T_35852fbd_c0d9_11eb_9fe6_305a3a083b3frow6_col0\" class=\"data row6 col0\" >1722</td>\n",
       "                        <td id=\"T_35852fbd_c0d9_11eb_9fe6_305a3a083b3frow6_col1\" class=\"data row6 col1\" >20776</td>\n",
       "                        <td id=\"T_35852fbd_c0d9_11eb_9fe6_305a3a083b3frow6_col2\" class=\"data row6 col2\" >13602</td>\n",
       "                        <td id=\"T_35852fbd_c0d9_11eb_9fe6_305a3a083b3frow6_col3\" class=\"data row6 col3\" >709</td>\n",
       "                        <td id=\"T_35852fbd_c0d9_11eb_9fe6_305a3a083b3frow6_col4\" class=\"data row6 col4\" >8686</td>\n",
       "                        <td id=\"T_35852fbd_c0d9_11eb_9fe6_305a3a083b3frow6_col5\" class=\"data row6 col5\" >2348</td>\n",
       "                        <td id=\"T_35852fbd_c0d9_11eb_9fe6_305a3a083b3frow6_col6\" class=\"data row6 col6\" >58627</td>\n",
       "            </tr>\n",
       "    </tbody></table>"
      ],
      "text/plain": [
       "<pandas.io.formats.style.Styler at 0x1c5680c5400>"
      ]
     },
     "execution_count": 36,
     "metadata": {},
     "output_type": "execute_result"
    }
   ],
   "source": [
    "print(\"************************SVM confusion matrix (fulltext, all data)************************\")\n",
    "cm = pd.DataFrame(\n",
    "    confusion_matrix(y_test, prediction, labels=target_names),\n",
    "    index = [\"true:{:}\".format(x) for x in target_names],\n",
    "    columns = [\"pred:{:}\".format(x) for x in target_names]\n",
    ")\n",
    "cm.style.set_properties(**{'text-align': 'center'})"
   ]
  },
  {
   "cell_type": "code",
   "execution_count": null,
   "metadata": {},
   "outputs": [],
   "source": []
  },
  {
   "cell_type": "markdown",
   "metadata": {},
   "source": [
    "# Decision Tree"
   ]
  },
  {
   "cell_type": "code",
   "execution_count": 40,
   "metadata": {},
   "outputs": [],
   "source": [
    "#ngram_range = how many words to consider, 1, 2 --> look at every seperate word, and a pair of 2 words: not good --> bad\n",
    "pipelineDT = Pipeline([(\"vect\", TfidfVectorizer(ngram_range=(1, 2), stop_words=None, sublinear_tf=True, max_df=0.75, lowercase = False)), \n",
    "                     (\"chi\", SelectKBest(chi2, k=10000)),\n",
    "                     (\"clf\", DecisionTreeClassifier(random_state = 111))])"
   ]
  },
  {
   "cell_type": "code",
   "execution_count": 41,
   "metadata": {},
   "outputs": [],
   "source": [
    "modelDT = pipelineDT.fit(X_train, y_train)"
   ]
  },
  {
   "cell_type": "code",
   "execution_count": 42,
   "metadata": {},
   "outputs": [],
   "source": [
    "vectorizerDT = modelDT.named_steps[\"vect\"]\n",
    "chiDT = modelDT.named_steps[\"chi\"]\n",
    "clfDT = modelDT.named_steps[\"clf\"]"
   ]
  },
  {
   "cell_type": "code",
   "execution_count": 43,
   "metadata": {},
   "outputs": [],
   "source": [
    "predictionDT = modelDT.predict(X_test)"
   ]
  },
  {
   "cell_type": "code",
   "execution_count": 44,
   "metadata": {},
   "outputs": [
    {
     "name": "stdout",
     "output_type": "stream",
     "text": [
      "******Decision Tree classification report (fulltext, all data)******\n",
      "accuracy: 0.4073093171461845\n",
      "                       precision    recall  f1-score   support\n",
      "\n",
      "                  AfD     0.4935    0.4009    0.4424     30818\n",
      "Bündnis 90/Die Grünen     0.3846    0.5214    0.4427    130070\n",
      "                  CDU     0.3984    0.3711    0.3843    100514\n",
      "                  CSU     0.2756    0.2425    0.2580     21044\n",
      "            Die Linke     0.4640    0.3752    0.4149     98403\n",
      "                  FDP     0.4380    0.3756    0.4044     54510\n",
      "                  SPD     0.3991    0.3824    0.3906    106470\n",
      "\n",
      "             accuracy                         0.4073    541829\n",
      "            macro avg     0.4076    0.3813    0.3910    541829\n",
      "         weighted avg     0.4118    0.4073    0.4055    541829\n",
      "\n"
     ]
    }
   ],
   "source": [
    "print(\"******Decision Tree classification report (fulltext, all data)******\")\n",
    "print(\"accuracy:\", accuracy_score(y_test, predictionDT))\n",
    "print(classification_report(y_test, predictionDT, target_names=target_names, digits=4))"
   ]
  },
  {
   "cell_type": "code",
   "execution_count": 45,
   "metadata": {},
   "outputs": [
    {
     "name": "stdout",
     "output_type": "stream",
     "text": [
      "************************Decision Tree confusion matrix (fulltext, all data)************************\n"
     ]
    },
    {
     "data": {
      "text/html": [
       "<style  type=\"text/css\" >\n",
       "#T_5a5948db_c0ec_11eb_a319_305a3a083b3frow0_col0,#T_5a5948db_c0ec_11eb_a319_305a3a083b3frow0_col1,#T_5a5948db_c0ec_11eb_a319_305a3a083b3frow0_col2,#T_5a5948db_c0ec_11eb_a319_305a3a083b3frow0_col3,#T_5a5948db_c0ec_11eb_a319_305a3a083b3frow0_col4,#T_5a5948db_c0ec_11eb_a319_305a3a083b3frow0_col5,#T_5a5948db_c0ec_11eb_a319_305a3a083b3frow0_col6,#T_5a5948db_c0ec_11eb_a319_305a3a083b3frow1_col0,#T_5a5948db_c0ec_11eb_a319_305a3a083b3frow1_col1,#T_5a5948db_c0ec_11eb_a319_305a3a083b3frow1_col2,#T_5a5948db_c0ec_11eb_a319_305a3a083b3frow1_col3,#T_5a5948db_c0ec_11eb_a319_305a3a083b3frow1_col4,#T_5a5948db_c0ec_11eb_a319_305a3a083b3frow1_col5,#T_5a5948db_c0ec_11eb_a319_305a3a083b3frow1_col6,#T_5a5948db_c0ec_11eb_a319_305a3a083b3frow2_col0,#T_5a5948db_c0ec_11eb_a319_305a3a083b3frow2_col1,#T_5a5948db_c0ec_11eb_a319_305a3a083b3frow2_col2,#T_5a5948db_c0ec_11eb_a319_305a3a083b3frow2_col3,#T_5a5948db_c0ec_11eb_a319_305a3a083b3frow2_col4,#T_5a5948db_c0ec_11eb_a319_305a3a083b3frow2_col5,#T_5a5948db_c0ec_11eb_a319_305a3a083b3frow2_col6,#T_5a5948db_c0ec_11eb_a319_305a3a083b3frow3_col0,#T_5a5948db_c0ec_11eb_a319_305a3a083b3frow3_col1,#T_5a5948db_c0ec_11eb_a319_305a3a083b3frow3_col2,#T_5a5948db_c0ec_11eb_a319_305a3a083b3frow3_col3,#T_5a5948db_c0ec_11eb_a319_305a3a083b3frow3_col4,#T_5a5948db_c0ec_11eb_a319_305a3a083b3frow3_col5,#T_5a5948db_c0ec_11eb_a319_305a3a083b3frow3_col6,#T_5a5948db_c0ec_11eb_a319_305a3a083b3frow4_col0,#T_5a5948db_c0ec_11eb_a319_305a3a083b3frow4_col1,#T_5a5948db_c0ec_11eb_a319_305a3a083b3frow4_col2,#T_5a5948db_c0ec_11eb_a319_305a3a083b3frow4_col3,#T_5a5948db_c0ec_11eb_a319_305a3a083b3frow4_col4,#T_5a5948db_c0ec_11eb_a319_305a3a083b3frow4_col5,#T_5a5948db_c0ec_11eb_a319_305a3a083b3frow4_col6,#T_5a5948db_c0ec_11eb_a319_305a3a083b3frow5_col0,#T_5a5948db_c0ec_11eb_a319_305a3a083b3frow5_col1,#T_5a5948db_c0ec_11eb_a319_305a3a083b3frow5_col2,#T_5a5948db_c0ec_11eb_a319_305a3a083b3frow5_col3,#T_5a5948db_c0ec_11eb_a319_305a3a083b3frow5_col4,#T_5a5948db_c0ec_11eb_a319_305a3a083b3frow5_col5,#T_5a5948db_c0ec_11eb_a319_305a3a083b3frow5_col6,#T_5a5948db_c0ec_11eb_a319_305a3a083b3frow6_col0,#T_5a5948db_c0ec_11eb_a319_305a3a083b3frow6_col1,#T_5a5948db_c0ec_11eb_a319_305a3a083b3frow6_col2,#T_5a5948db_c0ec_11eb_a319_305a3a083b3frow6_col3,#T_5a5948db_c0ec_11eb_a319_305a3a083b3frow6_col4,#T_5a5948db_c0ec_11eb_a319_305a3a083b3frow6_col5,#T_5a5948db_c0ec_11eb_a319_305a3a083b3frow6_col6{\n",
       "            text-align:  center;\n",
       "        }</style><table id=\"T_5a5948db_c0ec_11eb_a319_305a3a083b3f\" ><thead>    <tr>        <th class=\"blank level0\" ></th>        <th class=\"col_heading level0 col0\" >pred:AfD</th>        <th class=\"col_heading level0 col1\" >pred:Bündnis 90/Die Grünen</th>        <th class=\"col_heading level0 col2\" >pred:CDU</th>        <th class=\"col_heading level0 col3\" >pred:CSU</th>        <th class=\"col_heading level0 col4\" >pred:Die Linke</th>        <th class=\"col_heading level0 col5\" >pred:FDP</th>        <th class=\"col_heading level0 col6\" >pred:SPD</th>    </tr></thead><tbody>\n",
       "                <tr>\n",
       "                        <th id=\"T_5a5948db_c0ec_11eb_a319_305a3a083b3flevel0_row0\" class=\"row_heading level0 row0\" >true:AfD</th>\n",
       "                        <td id=\"T_5a5948db_c0ec_11eb_a319_305a3a083b3frow0_col0\" class=\"data row0 col0\" >12354</td>\n",
       "                        <td id=\"T_5a5948db_c0ec_11eb_a319_305a3a083b3frow0_col1\" class=\"data row0 col1\" >6656</td>\n",
       "                        <td id=\"T_5a5948db_c0ec_11eb_a319_305a3a083b3frow0_col2\" class=\"data row0 col2\" >3389</td>\n",
       "                        <td id=\"T_5a5948db_c0ec_11eb_a319_305a3a083b3frow0_col3\" class=\"data row0 col3\" >459</td>\n",
       "                        <td id=\"T_5a5948db_c0ec_11eb_a319_305a3a083b3frow0_col4\" class=\"data row0 col4\" >2931</td>\n",
       "                        <td id=\"T_5a5948db_c0ec_11eb_a319_305a3a083b3frow0_col5\" class=\"data row0 col5\" >1634</td>\n",
       "                        <td id=\"T_5a5948db_c0ec_11eb_a319_305a3a083b3frow0_col6\" class=\"data row0 col6\" >3395</td>\n",
       "            </tr>\n",
       "            <tr>\n",
       "                        <th id=\"T_5a5948db_c0ec_11eb_a319_305a3a083b3flevel0_row1\" class=\"row_heading level0 row1\" >true:Bündnis 90/Die Grünen</th>\n",
       "                        <td id=\"T_5a5948db_c0ec_11eb_a319_305a3a083b3frow1_col0\" class=\"data row1 col0\" >3162</td>\n",
       "                        <td id=\"T_5a5948db_c0ec_11eb_a319_305a3a083b3frow1_col1\" class=\"data row1 col1\" >67823</td>\n",
       "                        <td id=\"T_5a5948db_c0ec_11eb_a319_305a3a083b3frow1_col2\" class=\"data row1 col2\" >16352</td>\n",
       "                        <td id=\"T_5a5948db_c0ec_11eb_a319_305a3a083b3frow1_col3\" class=\"data row1 col3\" >3490</td>\n",
       "                        <td id=\"T_5a5948db_c0ec_11eb_a319_305a3a083b3frow1_col4\" class=\"data row1 col4\" >13777</td>\n",
       "                        <td id=\"T_5a5948db_c0ec_11eb_a319_305a3a083b3frow1_col5\" class=\"data row1 col5\" >7151</td>\n",
       "                        <td id=\"T_5a5948db_c0ec_11eb_a319_305a3a083b3frow1_col6\" class=\"data row1 col6\" >18315</td>\n",
       "            </tr>\n",
       "            <tr>\n",
       "                        <th id=\"T_5a5948db_c0ec_11eb_a319_305a3a083b3flevel0_row2\" class=\"row_heading level0 row2\" >true:CDU</th>\n",
       "                        <td id=\"T_5a5948db_c0ec_11eb_a319_305a3a083b3frow2_col0\" class=\"data row2 col0\" >2593</td>\n",
       "                        <td id=\"T_5a5948db_c0ec_11eb_a319_305a3a083b3frow2_col1\" class=\"data row2 col1\" >25833</td>\n",
       "                        <td id=\"T_5a5948db_c0ec_11eb_a319_305a3a083b3frow2_col2\" class=\"data row2 col2\" >37301</td>\n",
       "                        <td id=\"T_5a5948db_c0ec_11eb_a319_305a3a083b3frow2_col3\" class=\"data row2 col3\" >3110</td>\n",
       "                        <td id=\"T_5a5948db_c0ec_11eb_a319_305a3a083b3frow2_col4\" class=\"data row2 col4\" >9443</td>\n",
       "                        <td id=\"T_5a5948db_c0ec_11eb_a319_305a3a083b3frow2_col5\" class=\"data row2 col5\" >5523</td>\n",
       "                        <td id=\"T_5a5948db_c0ec_11eb_a319_305a3a083b3frow2_col6\" class=\"data row2 col6\" >16711</td>\n",
       "            </tr>\n",
       "            <tr>\n",
       "                        <th id=\"T_5a5948db_c0ec_11eb_a319_305a3a083b3flevel0_row3\" class=\"row_heading level0 row3\" >true:CSU</th>\n",
       "                        <td id=\"T_5a5948db_c0ec_11eb_a319_305a3a083b3frow3_col0\" class=\"data row3 col0\" >478</td>\n",
       "                        <td id=\"T_5a5948db_c0ec_11eb_a319_305a3a083b3frow3_col1\" class=\"data row3 col1\" >5699</td>\n",
       "                        <td id=\"T_5a5948db_c0ec_11eb_a319_305a3a083b3frow3_col2\" class=\"data row3 col2\" >3418</td>\n",
       "                        <td id=\"T_5a5948db_c0ec_11eb_a319_305a3a083b3frow3_col3\" class=\"data row3 col3\" >5103</td>\n",
       "                        <td id=\"T_5a5948db_c0ec_11eb_a319_305a3a083b3frow3_col4\" class=\"data row3 col4\" >1739</td>\n",
       "                        <td id=\"T_5a5948db_c0ec_11eb_a319_305a3a083b3frow3_col5\" class=\"data row3 col5\" >1457</td>\n",
       "                        <td id=\"T_5a5948db_c0ec_11eb_a319_305a3a083b3frow3_col6\" class=\"data row3 col6\" >3150</td>\n",
       "            </tr>\n",
       "            <tr>\n",
       "                        <th id=\"T_5a5948db_c0ec_11eb_a319_305a3a083b3flevel0_row4\" class=\"row_heading level0 row4\" >true:Die Linke</th>\n",
       "                        <td id=\"T_5a5948db_c0ec_11eb_a319_305a3a083b3frow4_col0\" class=\"data row4 col0\" >2520</td>\n",
       "                        <td id=\"T_5a5948db_c0ec_11eb_a319_305a3a083b3frow4_col1\" class=\"data row4 col1\" >27728</td>\n",
       "                        <td id=\"T_5a5948db_c0ec_11eb_a319_305a3a083b3frow4_col2\" class=\"data row4 col2\" >11343</td>\n",
       "                        <td id=\"T_5a5948db_c0ec_11eb_a319_305a3a083b3frow4_col3\" class=\"data row4 col3\" >2006</td>\n",
       "                        <td id=\"T_5a5948db_c0ec_11eb_a319_305a3a083b3frow4_col4\" class=\"data row4 col4\" >36925</td>\n",
       "                        <td id=\"T_5a5948db_c0ec_11eb_a319_305a3a083b3frow4_col5\" class=\"data row4 col5\" >4909</td>\n",
       "                        <td id=\"T_5a5948db_c0ec_11eb_a319_305a3a083b3frow4_col6\" class=\"data row4 col6\" >12972</td>\n",
       "            </tr>\n",
       "            <tr>\n",
       "                        <th id=\"T_5a5948db_c0ec_11eb_a319_305a3a083b3flevel0_row5\" class=\"row_heading level0 row5\" >true:FDP</th>\n",
       "                        <td id=\"T_5a5948db_c0ec_11eb_a319_305a3a083b3frow5_col0\" class=\"data row5 col0\" >1394</td>\n",
       "                        <td id=\"T_5a5948db_c0ec_11eb_a319_305a3a083b3frow5_col1\" class=\"data row5 col1\" >13138</td>\n",
       "                        <td id=\"T_5a5948db_c0ec_11eb_a319_305a3a083b3frow5_col2\" class=\"data row5 col2\" >6496</td>\n",
       "                        <td id=\"T_5a5948db_c0ec_11eb_a319_305a3a083b3frow5_col3\" class=\"data row5 col3\" >1604</td>\n",
       "                        <td id=\"T_5a5948db_c0ec_11eb_a319_305a3a083b3frow5_col4\" class=\"data row5 col4\" >4648</td>\n",
       "                        <td id=\"T_5a5948db_c0ec_11eb_a319_305a3a083b3frow5_col5\" class=\"data row5 col5\" >20475</td>\n",
       "                        <td id=\"T_5a5948db_c0ec_11eb_a319_305a3a083b3frow5_col6\" class=\"data row5 col6\" >6755</td>\n",
       "            </tr>\n",
       "            <tr>\n",
       "                        <th id=\"T_5a5948db_c0ec_11eb_a319_305a3a083b3flevel0_row6\" class=\"row_heading level0 row6\" >true:SPD</th>\n",
       "                        <td id=\"T_5a5948db_c0ec_11eb_a319_305a3a083b3frow6_col0\" class=\"data row6 col0\" >2533</td>\n",
       "                        <td id=\"T_5a5948db_c0ec_11eb_a319_305a3a083b3frow6_col1\" class=\"data row6 col1\" >29451</td>\n",
       "                        <td id=\"T_5a5948db_c0ec_11eb_a319_305a3a083b3frow6_col2\" class=\"data row6 col2\" >15321</td>\n",
       "                        <td id=\"T_5a5948db_c0ec_11eb_a319_305a3a083b3frow6_col3\" class=\"data row6 col3\" >2742</td>\n",
       "                        <td id=\"T_5a5948db_c0ec_11eb_a319_305a3a083b3frow6_col4\" class=\"data row6 col4\" >10110</td>\n",
       "                        <td id=\"T_5a5948db_c0ec_11eb_a319_305a3a083b3frow6_col5\" class=\"data row6 col5\" >5602</td>\n",
       "                        <td id=\"T_5a5948db_c0ec_11eb_a319_305a3a083b3frow6_col6\" class=\"data row6 col6\" >40711</td>\n",
       "            </tr>\n",
       "    </tbody></table>"
      ],
      "text/plain": [
       "<pandas.io.formats.style.Styler at 0x1c563128070>"
      ]
     },
     "execution_count": 45,
     "metadata": {},
     "output_type": "execute_result"
    }
   ],
   "source": [
    "print(\"************************Decision Tree confusion matrix (fulltext, all data)************************\")\n",
    "cm = pd.DataFrame(\n",
    "    confusion_matrix(y_test, predictionDT, labels=target_names),\n",
    "    index = [\"true:{:}\".format(x) for x in target_names],\n",
    "    columns = [\"pred:{:}\".format(x) for x in target_names]\n",
    ")\n",
    "cm.style.set_properties(**{'text-align': 'center'})"
   ]
  },
  {
   "cell_type": "code",
   "execution_count": null,
   "metadata": {},
   "outputs": [],
   "source": []
  },
  {
   "cell_type": "markdown",
   "metadata": {},
   "source": [
    "# MLP"
   ]
  },
  {
   "cell_type": "code",
   "execution_count": 46,
   "metadata": {},
   "outputs": [],
   "source": [
    "#ngram_range = how many words to consider, 1, 2 --> look at every seperate word, and a pair of 2 words: not good --> bad\n",
    "pipelineMLP = Pipeline([(\"vect\", TfidfVectorizer(ngram_range=(1, 2), stop_words=None, sublinear_tf=True, max_df=0.75, lowercase = False)), \n",
    "                     (\"chi\", SelectKBest(chi2, k=10000)),\n",
    "                     #(\"clf\", MLPClassifier(max_iter = 6000, random_state = 111))])\n",
    "                     (\"clf\", MLPClassifier(hidden_layer_sizes=(7,7), max_iter = 6000, random_state = 111))])"
   ]
  },
  {
   "cell_type": "code",
   "execution_count": 47,
   "metadata": {},
   "outputs": [],
   "source": [
    "modelMLP = pipelineMLP.fit(X_train, y_train)"
   ]
  },
  {
   "cell_type": "code",
   "execution_count": 48,
   "metadata": {},
   "outputs": [],
   "source": [
    "vectorizerMLP = modelMLP.named_steps[\"vect\"]\n",
    "chiMLP = modelMLP.named_steps[\"chi\"]\n",
    "clfMLP = modelMLP.named_steps[\"clf\"]"
   ]
  },
  {
   "cell_type": "code",
   "execution_count": 49,
   "metadata": {},
   "outputs": [],
   "source": [
    "predictionMLP = modelMLP.predict(X_test)"
   ]
  },
  {
   "cell_type": "code",
   "execution_count": 50,
   "metadata": {},
   "outputs": [
    {
     "name": "stdout",
     "output_type": "stream",
     "text": [
      "number of layers: 4\n"
     ]
    }
   ],
   "source": [
    "print(\"number of layers:\", clfMLP.n_layers_)"
   ]
  },
  {
   "cell_type": "code",
   "execution_count": 51,
   "metadata": {},
   "outputs": [],
   "source": [
    "target_names = clfMLP.classes_"
   ]
  },
  {
   "cell_type": "code",
   "execution_count": 52,
   "metadata": {},
   "outputs": [
    {
     "name": "stdout",
     "output_type": "stream",
     "text": [
      "******Multilayer Perceptron classification report (fulltext, all data)******\n",
      "accuracy: 0.5293773496804343\n",
      "                       precision    recall  f1-score   support\n",
      "\n",
      "                  AfD     0.6796    0.5526    0.6095     30818\n",
      "Bündnis 90/Die Grünen     0.4618    0.6456    0.5385    130070\n",
      "                  CDU     0.5260    0.4908    0.5078    100514\n",
      "                  CSU     0.7049    0.2953    0.4162     21044\n",
      "            Die Linke     0.5886    0.5376    0.5620     98403\n",
      "                  FDP     0.6932    0.4488    0.5448     54510\n",
      "                  SPD     0.4937    0.4970    0.4953    106470\n",
      "\n",
      "             accuracy                         0.5294    541829\n",
      "            macro avg     0.5925    0.4954    0.5249    541829\n",
      "         weighted avg     0.5481    0.5294    0.5285    541829\n",
      "\n"
     ]
    }
   ],
   "source": [
    "print(\"******Multilayer Perceptron classification report (fulltext, all data)******\")\n",
    "print(\"accuracy:\", accuracy_score(y_test, predictionMLP))\n",
    "print(classification_report(y_test, predictionMLP, target_names=target_names, digits=4))"
   ]
  },
  {
   "cell_type": "code",
   "execution_count": 53,
   "metadata": {},
   "outputs": [
    {
     "name": "stdout",
     "output_type": "stream",
     "text": [
      "***Multilayer Perceptron (two hidden layer, each has 7 neurons) confusion matrix (fulltext, all data)***\n"
     ]
    },
    {
     "data": {
      "text/html": [
       "<style  type=\"text/css\" >\n",
       "#T_d1721e47_c0f4_11eb_aedb_305a3a083b3frow0_col0,#T_d1721e47_c0f4_11eb_aedb_305a3a083b3frow0_col1,#T_d1721e47_c0f4_11eb_aedb_305a3a083b3frow0_col2,#T_d1721e47_c0f4_11eb_aedb_305a3a083b3frow0_col3,#T_d1721e47_c0f4_11eb_aedb_305a3a083b3frow0_col4,#T_d1721e47_c0f4_11eb_aedb_305a3a083b3frow0_col5,#T_d1721e47_c0f4_11eb_aedb_305a3a083b3frow0_col6,#T_d1721e47_c0f4_11eb_aedb_305a3a083b3frow1_col0,#T_d1721e47_c0f4_11eb_aedb_305a3a083b3frow1_col1,#T_d1721e47_c0f4_11eb_aedb_305a3a083b3frow1_col2,#T_d1721e47_c0f4_11eb_aedb_305a3a083b3frow1_col3,#T_d1721e47_c0f4_11eb_aedb_305a3a083b3frow1_col4,#T_d1721e47_c0f4_11eb_aedb_305a3a083b3frow1_col5,#T_d1721e47_c0f4_11eb_aedb_305a3a083b3frow1_col6,#T_d1721e47_c0f4_11eb_aedb_305a3a083b3frow2_col0,#T_d1721e47_c0f4_11eb_aedb_305a3a083b3frow2_col1,#T_d1721e47_c0f4_11eb_aedb_305a3a083b3frow2_col2,#T_d1721e47_c0f4_11eb_aedb_305a3a083b3frow2_col3,#T_d1721e47_c0f4_11eb_aedb_305a3a083b3frow2_col4,#T_d1721e47_c0f4_11eb_aedb_305a3a083b3frow2_col5,#T_d1721e47_c0f4_11eb_aedb_305a3a083b3frow2_col6,#T_d1721e47_c0f4_11eb_aedb_305a3a083b3frow3_col0,#T_d1721e47_c0f4_11eb_aedb_305a3a083b3frow3_col1,#T_d1721e47_c0f4_11eb_aedb_305a3a083b3frow3_col2,#T_d1721e47_c0f4_11eb_aedb_305a3a083b3frow3_col3,#T_d1721e47_c0f4_11eb_aedb_305a3a083b3frow3_col4,#T_d1721e47_c0f4_11eb_aedb_305a3a083b3frow3_col5,#T_d1721e47_c0f4_11eb_aedb_305a3a083b3frow3_col6,#T_d1721e47_c0f4_11eb_aedb_305a3a083b3frow4_col0,#T_d1721e47_c0f4_11eb_aedb_305a3a083b3frow4_col1,#T_d1721e47_c0f4_11eb_aedb_305a3a083b3frow4_col2,#T_d1721e47_c0f4_11eb_aedb_305a3a083b3frow4_col3,#T_d1721e47_c0f4_11eb_aedb_305a3a083b3frow4_col4,#T_d1721e47_c0f4_11eb_aedb_305a3a083b3frow4_col5,#T_d1721e47_c0f4_11eb_aedb_305a3a083b3frow4_col6,#T_d1721e47_c0f4_11eb_aedb_305a3a083b3frow5_col0,#T_d1721e47_c0f4_11eb_aedb_305a3a083b3frow5_col1,#T_d1721e47_c0f4_11eb_aedb_305a3a083b3frow5_col2,#T_d1721e47_c0f4_11eb_aedb_305a3a083b3frow5_col3,#T_d1721e47_c0f4_11eb_aedb_305a3a083b3frow5_col4,#T_d1721e47_c0f4_11eb_aedb_305a3a083b3frow5_col5,#T_d1721e47_c0f4_11eb_aedb_305a3a083b3frow5_col6,#T_d1721e47_c0f4_11eb_aedb_305a3a083b3frow6_col0,#T_d1721e47_c0f4_11eb_aedb_305a3a083b3frow6_col1,#T_d1721e47_c0f4_11eb_aedb_305a3a083b3frow6_col2,#T_d1721e47_c0f4_11eb_aedb_305a3a083b3frow6_col3,#T_d1721e47_c0f4_11eb_aedb_305a3a083b3frow6_col4,#T_d1721e47_c0f4_11eb_aedb_305a3a083b3frow6_col5,#T_d1721e47_c0f4_11eb_aedb_305a3a083b3frow6_col6{\n",
       "            text-align:  center;\n",
       "        }</style><table id=\"T_d1721e47_c0f4_11eb_aedb_305a3a083b3f\" ><thead>    <tr>        <th class=\"blank level0\" ></th>        <th class=\"col_heading level0 col0\" >pred:AfD</th>        <th class=\"col_heading level0 col1\" >pred:Bündnis 90/Die Grünen</th>        <th class=\"col_heading level0 col2\" >pred:CDU</th>        <th class=\"col_heading level0 col3\" >pred:CSU</th>        <th class=\"col_heading level0 col4\" >pred:Die Linke</th>        <th class=\"col_heading level0 col5\" >pred:FDP</th>        <th class=\"col_heading level0 col6\" >pred:SPD</th>    </tr></thead><tbody>\n",
       "                <tr>\n",
       "                        <th id=\"T_d1721e47_c0f4_11eb_aedb_305a3a083b3flevel0_row0\" class=\"row_heading level0 row0\" >true:AfD</th>\n",
       "                        <td id=\"T_d1721e47_c0f4_11eb_aedb_305a3a083b3frow0_col0\" class=\"data row0 col0\" >17029</td>\n",
       "                        <td id=\"T_d1721e47_c0f4_11eb_aedb_305a3a083b3frow0_col1\" class=\"data row0 col1\" >5296</td>\n",
       "                        <td id=\"T_d1721e47_c0f4_11eb_aedb_305a3a083b3frow0_col2\" class=\"data row0 col2\" >3145</td>\n",
       "                        <td id=\"T_d1721e47_c0f4_11eb_aedb_305a3a083b3frow0_col3\" class=\"data row0 col3\" >74</td>\n",
       "                        <td id=\"T_d1721e47_c0f4_11eb_aedb_305a3a083b3frow0_col4\" class=\"data row0 col4\" >2852</td>\n",
       "                        <td id=\"T_d1721e47_c0f4_11eb_aedb_305a3a083b3frow0_col5\" class=\"data row0 col5\" >846</td>\n",
       "                        <td id=\"T_d1721e47_c0f4_11eb_aedb_305a3a083b3frow0_col6\" class=\"data row0 col6\" >1576</td>\n",
       "            </tr>\n",
       "            <tr>\n",
       "                        <th id=\"T_d1721e47_c0f4_11eb_aedb_305a3a083b3flevel0_row1\" class=\"row_heading level0 row1\" >true:Bündnis 90/Die Grünen</th>\n",
       "                        <td id=\"T_d1721e47_c0f4_11eb_aedb_305a3a083b3frow1_col0\" class=\"data row1 col0\" >1755</td>\n",
       "                        <td id=\"T_d1721e47_c0f4_11eb_aedb_305a3a083b3frow1_col1\" class=\"data row1 col1\" >83977</td>\n",
       "                        <td id=\"T_d1721e47_c0f4_11eb_aedb_305a3a083b3frow1_col2\" class=\"data row1 col2\" >11425</td>\n",
       "                        <td id=\"T_d1721e47_c0f4_11eb_aedb_305a3a083b3frow1_col3\" class=\"data row1 col3\" >498</td>\n",
       "                        <td id=\"T_d1721e47_c0f4_11eb_aedb_305a3a083b3frow1_col4\" class=\"data row1 col4\" >12951</td>\n",
       "                        <td id=\"T_d1721e47_c0f4_11eb_aedb_305a3a083b3frow1_col5\" class=\"data row1 col5\" >3186</td>\n",
       "                        <td id=\"T_d1721e47_c0f4_11eb_aedb_305a3a083b3frow1_col6\" class=\"data row1 col6\" >16278</td>\n",
       "            </tr>\n",
       "            <tr>\n",
       "                        <th id=\"T_d1721e47_c0f4_11eb_aedb_305a3a083b3flevel0_row2\" class=\"row_heading level0 row2\" >true:CDU</th>\n",
       "                        <td id=\"T_d1721e47_c0f4_11eb_aedb_305a3a083b3frow2_col0\" class=\"data row2 col0\" >1874</td>\n",
       "                        <td id=\"T_d1721e47_c0f4_11eb_aedb_305a3a083b3frow2_col1\" class=\"data row2 col1\" >23251</td>\n",
       "                        <td id=\"T_d1721e47_c0f4_11eb_aedb_305a3a083b3frow2_col2\" class=\"data row2 col2\" >49330</td>\n",
       "                        <td id=\"T_d1721e47_c0f4_11eb_aedb_305a3a083b3frow2_col3\" class=\"data row2 col3\" >794</td>\n",
       "                        <td id=\"T_d1721e47_c0f4_11eb_aedb_305a3a083b3frow2_col4\" class=\"data row2 col4\" >7062</td>\n",
       "                        <td id=\"T_d1721e47_c0f4_11eb_aedb_305a3a083b3frow2_col5\" class=\"data row2 col5\" >2102</td>\n",
       "                        <td id=\"T_d1721e47_c0f4_11eb_aedb_305a3a083b3frow2_col6\" class=\"data row2 col6\" >16101</td>\n",
       "            </tr>\n",
       "            <tr>\n",
       "                        <th id=\"T_d1721e47_c0f4_11eb_aedb_305a3a083b3flevel0_row3\" class=\"row_heading level0 row3\" >true:CSU</th>\n",
       "                        <td id=\"T_d1721e47_c0f4_11eb_aedb_305a3a083b3frow3_col0\" class=\"data row3 col0\" >259</td>\n",
       "                        <td id=\"T_d1721e47_c0f4_11eb_aedb_305a3a083b3frow3_col1\" class=\"data row3 col1\" >4634</td>\n",
       "                        <td id=\"T_d1721e47_c0f4_11eb_aedb_305a3a083b3frow3_col2\" class=\"data row3 col2\" >3118</td>\n",
       "                        <td id=\"T_d1721e47_c0f4_11eb_aedb_305a3a083b3frow3_col3\" class=\"data row3 col3\" >6214</td>\n",
       "                        <td id=\"T_d1721e47_c0f4_11eb_aedb_305a3a083b3frow3_col4\" class=\"data row3 col4\" >1364</td>\n",
       "                        <td id=\"T_d1721e47_c0f4_11eb_aedb_305a3a083b3frow3_col5\" class=\"data row3 col5\" >1552</td>\n",
       "                        <td id=\"T_d1721e47_c0f4_11eb_aedb_305a3a083b3frow3_col6\" class=\"data row3 col6\" >3903</td>\n",
       "            </tr>\n",
       "            <tr>\n",
       "                        <th id=\"T_d1721e47_c0f4_11eb_aedb_305a3a083b3flevel0_row4\" class=\"row_heading level0 row4\" >true:Die Linke</th>\n",
       "                        <td id=\"T_d1721e47_c0f4_11eb_aedb_305a3a083b3frow4_col0\" class=\"data row4 col0\" >1557</td>\n",
       "                        <td id=\"T_d1721e47_c0f4_11eb_aedb_305a3a083b3frow4_col1\" class=\"data row4 col1\" >24653</td>\n",
       "                        <td id=\"T_d1721e47_c0f4_11eb_aedb_305a3a083b3frow4_col2\" class=\"data row4 col2\" >7599</td>\n",
       "                        <td id=\"T_d1721e47_c0f4_11eb_aedb_305a3a083b3frow4_col3\" class=\"data row4 col3\" >283</td>\n",
       "                        <td id=\"T_d1721e47_c0f4_11eb_aedb_305a3a083b3frow4_col4\" class=\"data row4 col4\" >52905</td>\n",
       "                        <td id=\"T_d1721e47_c0f4_11eb_aedb_305a3a083b3frow4_col5\" class=\"data row4 col5\" >1049</td>\n",
       "                        <td id=\"T_d1721e47_c0f4_11eb_aedb_305a3a083b3frow4_col6\" class=\"data row4 col6\" >10357</td>\n",
       "            </tr>\n",
       "            <tr>\n",
       "                        <th id=\"T_d1721e47_c0f4_11eb_aedb_305a3a083b3flevel0_row5\" class=\"row_heading level0 row5\" >true:FDP</th>\n",
       "                        <td id=\"T_d1721e47_c0f4_11eb_aedb_305a3a083b3frow5_col0\" class=\"data row5 col0\" >1239</td>\n",
       "                        <td id=\"T_d1721e47_c0f4_11eb_aedb_305a3a083b3frow5_col1\" class=\"data row5 col1\" >12992</td>\n",
       "                        <td id=\"T_d1721e47_c0f4_11eb_aedb_305a3a083b3frow5_col2\" class=\"data row5 col2\" >5639</td>\n",
       "                        <td id=\"T_d1721e47_c0f4_11eb_aedb_305a3a083b3frow5_col3\" class=\"data row5 col3\" >443</td>\n",
       "                        <td id=\"T_d1721e47_c0f4_11eb_aedb_305a3a083b3frow5_col4\" class=\"data row5 col4\" >3691</td>\n",
       "                        <td id=\"T_d1721e47_c0f4_11eb_aedb_305a3a083b3frow5_col5\" class=\"data row5 col5\" >24464</td>\n",
       "                        <td id=\"T_d1721e47_c0f4_11eb_aedb_305a3a083b3frow5_col6\" class=\"data row5 col6\" >6042</td>\n",
       "            </tr>\n",
       "            <tr>\n",
       "                        <th id=\"T_d1721e47_c0f4_11eb_aedb_305a3a083b3flevel0_row6\" class=\"row_heading level0 row6\" >true:SPD</th>\n",
       "                        <td id=\"T_d1721e47_c0f4_11eb_aedb_305a3a083b3frow6_col0\" class=\"data row6 col0\" >1346</td>\n",
       "                        <td id=\"T_d1721e47_c0f4_11eb_aedb_305a3a083b3frow6_col1\" class=\"data row6 col1\" >27028</td>\n",
       "                        <td id=\"T_d1721e47_c0f4_11eb_aedb_305a3a083b3frow6_col2\" class=\"data row6 col2\" >13524</td>\n",
       "                        <td id=\"T_d1721e47_c0f4_11eb_aedb_305a3a083b3frow6_col3\" class=\"data row6 col3\" >510</td>\n",
       "                        <td id=\"T_d1721e47_c0f4_11eb_aedb_305a3a083b3frow6_col4\" class=\"data row6 col4\" >9056</td>\n",
       "                        <td id=\"T_d1721e47_c0f4_11eb_aedb_305a3a083b3frow6_col5\" class=\"data row6 col5\" >2093</td>\n",
       "                        <td id=\"T_d1721e47_c0f4_11eb_aedb_305a3a083b3frow6_col6\" class=\"data row6 col6\" >52913</td>\n",
       "            </tr>\n",
       "    </tbody></table>"
      ],
      "text/plain": [
       "<pandas.io.formats.style.Styler at 0x1c63f76f220>"
      ]
     },
     "execution_count": 53,
     "metadata": {},
     "output_type": "execute_result"
    }
   ],
   "source": [
    "print(\"***Multilayer Perceptron (two hidden layer, each has 7 neurons) confusion matrix (fulltext, all data)***\")\n",
    "cm = pd.DataFrame(\n",
    "    confusion_matrix(y_test, predictionMLP, labels=target_names),\n",
    "    index = [\"true:{:}\".format(x) for x in target_names],\n",
    "    columns = [\"pred:{:}\".format(x) for x in target_names]\n",
    ")\n",
    "cm.style.set_properties(**{'text-align': 'center'})"
   ]
  },
  {
   "cell_type": "code",
   "execution_count": null,
   "metadata": {},
   "outputs": [],
   "source": []
  },
  {
   "cell_type": "markdown",
   "metadata": {},
   "source": [
    "# Gradio"
   ]
  },
  {
   "cell_type": "code",
   "execution_count": 56,
   "metadata": {},
   "outputs": [],
   "source": [
    "!pip install -U -q gradio"
   ]
  },
  {
   "cell_type": "code",
   "execution_count": 57,
   "metadata": {},
   "outputs": [],
   "source": [
    "import gradio as gr"
   ]
  },
  {
   "cell_type": "code",
   "execution_count": 62,
   "metadata": {},
   "outputs": [],
   "source": [
    "def makeprediction(tweet):\n",
    "    realtest = []\n",
    "    realtest.append(tweet)\n",
    "    realtest_series = pd.Series(realtest)\n",
    "    \n",
    "    #data preparation\n",
    "    realtest_series = realtest_series.map(remove_URL) #map(lambdax: remove_URL(x))\n",
    "    realtest_series = realtest_series.map(remove_punct)\n",
    "    realtest_series = realtest_series.map(remove_stopwords)\n",
    "    \n",
    "    \n",
    "    \n",
    "    prediction_SVM = model.predict(realtest_series)\n",
    "    prediction_DT = modelDT.predict(realtest_series)\n",
    "    prediction_MLP = modelMLP.predict(realtest_series)\n",
    "    \n",
    "    \n",
    "    result = \"SVM: \" + prediction_SVM + \";  \" + \"DT: \" + prediction_DT + \";  \" + \"MLP: \" + prediction_MLP\n",
    "    \n",
    "    return result"
   ]
  },
  {
   "cell_type": "code",
   "execution_count": 63,
   "metadata": {},
   "outputs": [
    {
     "name": "stdout",
     "output_type": "stream",
     "text": [
      "Running locally at: http://127.0.0.1:7861/\n",
      "This share link will expire in 24 hours. If you need a permanent link, visit: https://gradio.app/introducing-hosted (NEW!)\n",
      "Running on External URL: https://28504.gradio.app\n",
      "Interface loading below...\n"
     ]
    },
    {
     "data": {
      "text/html": [
       "\n",
       "        <iframe\n",
       "            width=\"900\"\n",
       "            height=\"500\"\n",
       "            src=\"https://28504.gradio.app\"\n",
       "            frameborder=\"0\"\n",
       "            allowfullscreen\n",
       "        ></iframe>\n",
       "        "
      ],
      "text/plain": [
       "<IPython.lib.display.IFrame at 0x1c71e9930d0>"
      ]
     },
     "metadata": {},
     "output_type": "display_data"
    },
    {
     "data": {
      "text/plain": [
       "(<Flask 'gradio.networking'>,\n",
       " 'http://127.0.0.1:7861/',\n",
       " 'https://28504.gradio.app')"
      ]
     },
     "execution_count": 63,
     "metadata": {},
     "output_type": "execute_result"
    }
   ],
   "source": [
    "iface = gr.Interface(fn=makeprediction, inputs=\"text\", outputs=\"text\", interpretation=\"default\")\n",
    "iface.launch(share=True)"
   ]
  },
  {
   "cell_type": "code",
   "execution_count": null,
   "metadata": {},
   "outputs": [],
   "source": []
  },
  {
   "cell_type": "code",
   "execution_count": null,
   "metadata": {},
   "outputs": [],
   "source": []
  },
  {
   "cell_type": "code",
   "execution_count": null,
   "metadata": {},
   "outputs": [],
   "source": []
  }
 ],
 "metadata": {
  "kernelspec": {
   "display_name": "Python 3",
   "language": "python",
   "name": "python3"
  },
  "language_info": {
   "codemirror_mode": {
    "name": "ipython",
    "version": 3
   },
   "file_extension": ".py",
   "mimetype": "text/x-python",
   "name": "python",
   "nbconvert_exporter": "python",
   "pygments_lexer": "ipython3",
   "version": "3.8.5"
  }
 },
 "nbformat": 4,
 "nbformat_minor": 4
}
