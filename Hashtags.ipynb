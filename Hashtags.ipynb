{
 "cells": [
  {
   "cell_type": "markdown",
   "metadata": {},
   "source": [
    "# import modules"
   ]
  },
  {
   "cell_type": "code",
   "execution_count": 2,
   "metadata": {},
   "outputs": [],
   "source": [
    "#1\n",
    "!pip install -q -U json-lines\n",
    "\n",
    "import json\n",
    "import os\n",
    "import pandas as pd\n",
    "import tarfile\n",
    "import json_lines\n",
    "from tqdm.notebook import tqdm\n",
    "from pprint import pprint\n",
    "import glob\n",
    "import matplotlib.pyplot as plt\n",
    "import numpy as np"
   ]
  },
  {
   "cell_type": "markdown",
   "metadata": {},
   "source": [
    "# read party, tweets, mentions and hashtags"
   ]
  },
  {
   "cell_type": "code",
   "execution_count": 3,
   "metadata": {},
   "outputs": [
    {
     "data": {
      "application/vnd.jupyter.widget-view+json": {
       "model_id": "fd1e2eb00f874064a252068a88f91a74",
       "version_major": 2,
       "version_minor": 0
      },
      "text/plain": [
       "HBox(children=(HTML(value=''), FloatProgress(value=0.0, max=727.0), HTML(value='')))"
      ]
     },
     "metadata": {},
     "output_type": "display_data"
    },
    {
     "name": "stdout",
     "output_type": "stream",
     "text": [
      "\n",
      "Number of error-requests: 0\n",
      "Read 0 Tweets sucussfully.\n",
      "mentions 0\n",
      "hashtags 0\n"
     ]
    }
   ],
   "source": [
    "#2\n",
    "#funktioniert: get Party name + Tweets\n",
    "files123 = glob.glob('./data/*.jl')\n",
    "\n",
    "alles = []\n",
    "partyname_n_tweets = []\n",
    "partyname_mentions = []\n",
    "partyname_hash = []\n",
    "error = []\n",
    "\n",
    "AfD = 0\n",
    "Grünen = 0\n",
    "CDU = 0\n",
    "CSU = 0\n",
    "Linke = 0\n",
    "FDP = 0\n",
    "SPD = 0\n",
    "maxWert = 50000\n",
    "\n",
    "for file in tqdm(files123): # responsible for visual output\n",
    "\n",
    "    with json_lines.open(file) as f:\n",
    "        for item in f:\n",
    "            try:\n",
    "                if item['response']['meta']['result_count'] == 0: \n",
    "                    continue\n",
    "                elif item['account_data']['Partei'] == \"Fraktionslos\":\n",
    "                    continue\n",
    "                if item['http_status'] == 200:\n",
    "                    \n",
    "                    #get party name\n",
    "                    partei = item[\"account_data\"][\"Partei\"]\n",
    "                    \n",
    "                    #get all tweets per person\n",
    "                    tweets_array = item[\"response\"][\"data\"]\n",
    "                    \n",
    "                    for tweet in tweets_array: #range(0,len(tweets_array)-1):\n",
    "                        hashtagArray = \"\"\n",
    "                        \n",
    "                       # print(type(tweet))\n",
    "                        if(\"referenced_tweets\" in tweet): # tweet is a dictionary\n",
    "                            tweet_type = tweet[\"referenced_tweets\"]\n",
    "                            if(tweet_type[0][\"type\"] == \"retweeted\"):\n",
    "                                continue\n",
    "                        \n",
    "                        if(\"entities\" in tweet): \n",
    "                            entities = tweet[\"entities\"]\n",
    "\n",
    "                            if(\"hashtags\" in entities):\n",
    "                                hashtags = entities[\"hashtags\"]\n",
    "                                for tag in hashtags:\n",
    "                                        hashtag = tag[\"tag\"]\n",
    "                                        hashtagArray = hashtagArray + \" \" + hashtag\n",
    "                \n",
    "                            if(not (hashtagArray == \"\")):\n",
    "                        \n",
    "                                if (partei == \"AfD\" and AfD < maxWert):\n",
    "                                    AfD += 1\n",
    "                                elif (partei == \"Bündnis 90/Die Grünen\" and Grünen < maxWert):\n",
    "                                    Grünen += 1\n",
    "                                elif (partei == \"CDU\" and CDU < maxWert):\n",
    "                                    CDU += 1\n",
    "                                elif (partei == \"CSU\" and CSU < maxWert):\n",
    "                                    CSU += 1\n",
    "                                elif (partei == \"Die Linke\" and Linke < maxWert):\n",
    "                                    Linke += 1\n",
    "                                elif (partei == \"FDP\" and FDP < maxWert):\n",
    "                                    FDP += 1\n",
    "                                elif (partei == \"SPD\" and SPD < maxWert):\n",
    "                                    SPD += 1\n",
    "                                else:\n",
    "                                    continue\n",
    "                                    \n",
    "                                alles.append({\"Partei\": partei, \"hashtags\": hashtagArray})\n",
    "                \n",
    "                else:\n",
    "                    error.append(item)\n",
    "                    print(\"yikes\")\n",
    "                    \n",
    "            except Exception as e:\n",
    "                raise e\n",
    "                           \n",
    "print(\"Number of error-requests:\", len(error))\n",
    "print(\"Read\", len(partyname_n_tweets), \"Tweets sucussfully.\")\n",
    "print(\"mentions\", len(partyname_mentions))\n",
    "print(\"hashtags\", len(partyname_hash))"
   ]
  },
  {
   "cell_type": "markdown",
   "metadata": {},
   "source": [
    "# Data Preprocessing"
   ]
  },
  {
   "cell_type": "code",
   "execution_count": 4,
   "metadata": {},
   "outputs": [],
   "source": [
    "#imports\n",
    "import re\n",
    "import nltk\n",
    "from nltk.stem.porter import PorterStemmer\n",
    "from sklearn.feature_extraction.text import TfidfVectorizer\n",
    "from sklearn.pipeline import Pipeline\n",
    "from sklearn.feature_selection import SelectKBest, chi2\n",
    "from sklearn.model_selection import train_test_split\n",
    "\n",
    "#import ML LIB\n",
    "from sklearn.svm import LinearSVC\n",
    "from sklearn.tree import DecisionTreeClassifier\n",
    "from sklearn.ensemble import RandomForestClassifier\n",
    "from sklearn.neural_network import MLPClassifier\n",
    "from sklearn.ensemble import GradientBoostingClassifier\n",
    "from sklearn.neighbors import KNeighborsClassifier\n",
    "\n",
    "#import Evaluation Metrics\n",
    "from sklearn.metrics import classification_report\n",
    "from sklearn.metrics import accuracy_score\n",
    "from sklearn.metrics import confusion_matrix"
   ]
  },
  {
   "cell_type": "code",
   "execution_count": 5,
   "metadata": {},
   "outputs": [
    {
     "data": {
      "text/html": [
       "<div>\n",
       "<style scoped>\n",
       "    .dataframe tbody tr th:only-of-type {\n",
       "        vertical-align: middle;\n",
       "    }\n",
       "\n",
       "    .dataframe tbody tr th {\n",
       "        vertical-align: top;\n",
       "    }\n",
       "\n",
       "    .dataframe thead th {\n",
       "        text-align: right;\n",
       "    }\n",
       "</style>\n",
       "<table border=\"1\" class=\"dataframe\">\n",
       "  <thead>\n",
       "    <tr style=\"text-align: right;\">\n",
       "      <th></th>\n",
       "      <th>Partei</th>\n",
       "      <th>hashtags</th>\n",
       "    </tr>\n",
       "  </thead>\n",
       "  <tbody>\n",
       "    <tr>\n",
       "      <th>0</th>\n",
       "      <td>Bündnis 90/Die Grünen</td>\n",
       "      <td>GreenDeal</td>\n",
       "    </tr>\n",
       "    <tr>\n",
       "      <th>1</th>\n",
       "      <td>Bündnis 90/Die Grünen</td>\n",
       "      <td>tagdermenschenrechte SchalfuersLeben</td>\n",
       "    </tr>\n",
       "    <tr>\n",
       "      <th>2</th>\n",
       "      <td>Bündnis 90/Die Grünen</td>\n",
       "      <td>BuildBackBetter Generaldebatte</td>\n",
       "    </tr>\n",
       "    <tr>\n",
       "      <th>3</th>\n",
       "      <td>Bündnis 90/Die Grünen</td>\n",
       "      <td>SachsenAnhalt Rundfunkbeitrag</td>\n",
       "    </tr>\n",
       "    <tr>\n",
       "      <th>4</th>\n",
       "      <td>Bündnis 90/Die Grünen</td>\n",
       "      <td>Rundfunkbeitrag SachsenAnhalt</td>\n",
       "    </tr>\n",
       "    <tr>\n",
       "      <th>...</th>\n",
       "      <td>...</td>\n",
       "      <td>...</td>\n",
       "    </tr>\n",
       "    <tr>\n",
       "      <th>323411</th>\n",
       "      <td>CSU</td>\n",
       "      <td>augsburg bahn elektrifizierung</td>\n",
       "    </tr>\n",
       "    <tr>\n",
       "      <th>323412</th>\n",
       "      <td>CSU</td>\n",
       "      <td>doenerverbot augsburg</td>\n",
       "    </tr>\n",
       "    <tr>\n",
       "      <th>323413</th>\n",
       "      <td>CSU</td>\n",
       "      <td>Chrisgruen doenerverbot augsburg</td>\n",
       "    </tr>\n",
       "    <tr>\n",
       "      <th>323414</th>\n",
       "      <td>CSU</td>\n",
       "      <td>doenerverbot augsburg stadtrat</td>\n",
       "    </tr>\n",
       "    <tr>\n",
       "      <th>323415</th>\n",
       "      <td>CSU</td>\n",
       "      <td>augsburg stadtrat</td>\n",
       "    </tr>\n",
       "  </tbody>\n",
       "</table>\n",
       "<p>323416 rows × 2 columns</p>\n",
       "</div>"
      ],
      "text/plain": [
       "                       Partei                               hashtags\n",
       "0       Bündnis 90/Die Grünen                              GreenDeal\n",
       "1       Bündnis 90/Die Grünen   tagdermenschenrechte SchalfuersLeben\n",
       "2       Bündnis 90/Die Grünen         BuildBackBetter Generaldebatte\n",
       "3       Bündnis 90/Die Grünen          SachsenAnhalt Rundfunkbeitrag\n",
       "4       Bündnis 90/Die Grünen          Rundfunkbeitrag SachsenAnhalt\n",
       "...                       ...                                    ...\n",
       "323411                    CSU         augsburg bahn elektrifizierung\n",
       "323412                    CSU                  doenerverbot augsburg\n",
       "323413                    CSU       Chrisgruen doenerverbot augsburg\n",
       "323414                    CSU         doenerverbot augsburg stadtrat\n",
       "323415                    CSU                      augsburg stadtrat\n",
       "\n",
       "[323416 rows x 2 columns]"
      ]
     },
     "execution_count": 5,
     "metadata": {},
     "output_type": "execute_result"
    }
   ],
   "source": [
    "hash_df = pd.DataFrame(alles)\n",
    "hash_df"
   ]
  },
  {
   "cell_type": "code",
   "execution_count": 6,
   "metadata": {},
   "outputs": [
    {
     "data": {
      "text/plain": [
       "Die Linke                50000\n",
       "SPD                      50000\n",
       "CDU                      50000\n",
       "Bündnis 90/Die Grünen    50000\n",
       "AfD                      50000\n",
       "FDP                      50000\n",
       "CSU                      23416\n",
       "Name: Partei, dtype: int64"
      ]
     },
     "execution_count": 6,
     "metadata": {},
     "output_type": "execute_result"
    }
   ],
   "source": [
    "hash_df[\"Partei\"].value_counts()"
   ]
  },
  {
   "cell_type": "code",
   "execution_count": 7,
   "metadata": {},
   "outputs": [
    {
     "data": {
      "text/plain": [
       "323416"
      ]
     },
     "execution_count": 7,
     "metadata": {},
     "output_type": "execute_result"
    }
   ],
   "source": [
    "len(hash_df)"
   ]
  },
  {
   "cell_type": "code",
   "execution_count": 8,
   "metadata": {},
   "outputs": [],
   "source": [
    "#split data into train and test set\n",
    "X_train, X_test, y_train, y_test = train_test_split(hash_df[\"hashtags\"], hash_df.Partei, test_size = 0.3, random_state=111)"
   ]
  },
  {
   "cell_type": "code",
   "execution_count": 9,
   "metadata": {},
   "outputs": [
    {
     "data": {
      "text/plain": [
       "202813                             fb\n",
       "64871                     Zeitenwende\n",
       "216135     Bankern Managern Klatschen\n",
       "288892                            VDS\n",
       "6065                  ldkbw Bundestag\n",
       "                     ...             \n",
       "105747                     weremember\n",
       "102486         Belarus EU Lukaschenko\n",
       "135892                       Dobrindt\n",
       "10196           Lübeck antisemitismus\n",
       "129900                            bvb\n",
       "Name: hashtags, Length: 226391, dtype: object"
      ]
     },
     "execution_count": 9,
     "metadata": {},
     "output_type": "execute_result"
    }
   ],
   "source": [
    "#X_train.value_counts()\n",
    "X_train"
   ]
  },
  {
   "cell_type": "code",
   "execution_count": 10,
   "metadata": {},
   "outputs": [
    {
     "data": {
      "text/plain": [
       "202813                      CDU\n",
       "64871                       AfD\n",
       "216135                      SPD\n",
       "288892                      FDP\n",
       "6065      Bündnis 90/Die Grünen\n",
       "                  ...          \n",
       "105747                      SPD\n",
       "102486                      FDP\n",
       "135892                      CSU\n",
       "10196                 Die Linke\n",
       "129900    Bündnis 90/Die Grünen\n",
       "Name: Partei, Length: 226391, dtype: object"
      ]
     },
     "execution_count": 10,
     "metadata": {},
     "output_type": "execute_result"
    }
   ],
   "source": [
    "y_train"
   ]
  },
  {
   "cell_type": "code",
   "execution_count": 22,
   "metadata": {},
   "outputs": [
    {
     "name": "stderr",
     "output_type": "stream",
     "text": [
      "[nltk_data] Downloading package stopwords to\n",
      "[nltk_data]     C:\\Users\\Runjie\\AppData\\Roaming\\nltk_data...\n",
      "[nltk_data]   Package stopwords is already up-to-date!\n"
     ]
    }
   ],
   "source": [
    "stemmer = nltk.stem.SnowballStemmer(\"german\")\n",
    "nltk.download(\"stopwords\")\n",
    "stop_words=set(nltk.corpus.stopwords.words(\"german\"))"
   ]
  },
  {
   "cell_type": "code",
   "execution_count": 19,
   "metadata": {},
   "outputs": [],
   "source": [
    "#write our own tokenizer function\n",
    "def tokenize(text):\n",
    "    tokens = [word for word in nltk.word_tokenize(text)]\n",
    "    tokens = map(str.lower, tokens)\n",
    "    tokens = [word.strip(\" \") for word in tokens]\n",
    "    tokens = [item for item in tokens if (item not in stop_words)]\n",
    "    return tokens"
   ]
  },
  {
   "cell_type": "markdown",
   "metadata": {},
   "source": [
    "# Hashtags"
   ]
  },
  {
   "cell_type": "markdown",
   "metadata": {},
   "source": [
    "## Support Vector"
   ]
  },
  {
   "cell_type": "code",
   "execution_count": 23,
   "metadata": {},
   "outputs": [],
   "source": [
    "#ngram_range = how many words to consider, 1, 2 --> look at every seperate word, and a pair of 2 words: not good --> bad\n",
    "pipeline = Pipeline([(\"vect\", TfidfVectorizer(tokenizer=tokenize, ngram_range=(1, 2), stop_words=None, sublinear_tf=True, max_df=0.75, lowercase = False)), \n",
    "                     (\"chi\", SelectKBest(chi2, k=10000)),\n",
    "                     (\"clf\", LinearSVC(C=1.0, penalty=\"l1\", max_iter=6000, dual=False))])"
   ]
  },
  {
   "cell_type": "code",
   "execution_count": 24,
   "metadata": {},
   "outputs": [],
   "source": [
    "model = pipeline.fit(X_train, y_train)"
   ]
  },
  {
   "cell_type": "code",
   "execution_count": 13,
   "metadata": {},
   "outputs": [],
   "source": [
    "vectorizer = model.named_steps[\"vect\"]\n",
    "chi = model.named_steps[\"chi\"]\n",
    "clf = model.named_steps[\"clf\"]"
   ]
  },
  {
   "cell_type": "code",
   "execution_count": 14,
   "metadata": {},
   "outputs": [],
   "source": [
    "feature_names = vectorizer.get_feature_names()\n",
    "feature_names = [feature_names[i] for i in chi.get_support(indices = True)]\n",
    "feature_names = np.asarray(feature_names)"
   ]
  },
  {
   "cell_type": "code",
   "execution_count": 15,
   "metadata": {},
   "outputs": [
    {
     "name": "stdout",
     "output_type": "stream",
     "text": [
      "top 30 keywords per class:\n",
      "AfD: Frühsexualisierung Lückenpresse Bessermenschen NurnochAfD AfDwaehlen Grüninnen Kestner totalitär RemsMurr Kommunisten Spezialdemokraten WK193 Altparteien Pohl AfDimBundestag IntelligenzGibtsnichtimBioladen KrampfgegenRechts afdbayern Altparteienstaat2019 Ramelüringen pboehringer Klimawahn afdwirkt Brandnerunterwegs AfDwählen ARDZDF Staatsfunk nurnochAfD AfDwirkt Bernhard\n",
      "\n",
      "\n",
      "Bündnis 90/Die Grünen: keinestartbahn3 Stilllovingfeminism SalonDerKinderrechte stilllovingfeminism NOAFD NoAFD WeAreInThisTogether Extremwetter derandereOsten Senden Schwabengrün ldkmv Chlorpyrifos bdk11 AImadeinEurope flucht HipHop DasandereSachsen cemtrail esc14 Cemtrail gefälltmirnicht Flächenfraß SHA ltmv Gentech gefaelltmirnicht ErneuerbareEnergien kreistagvr buergerschaftHST\n",
      "\n",
      "\n",
      "CDU: Sénégal Ehrlichkeit FoRB Westerwald r2G Africa landesvater Landesvater cdulsa Untersuchungsausschuss Wirecard Heilmittelerbringer integrationjetzt nring Lichtenrade WK180 Remscheid wk180 le0101 nick2013 cdubw yes2copyright PKM TeamRöttgen Notoracism Harz Senegal wirhandeln Stephanuskreis noLinke seppmüller\n",
      "\n",
      "\n",
      "CSU: Brexit EUref Robben CSUAM2017 WSBKommission Frauenunion Heimat Niederbayern wöhrlwideweb Kolbermoor AKBP BuPrä12 MSC15 WK248 csuam13 csupt14 ftw Klimakreis csu_bt Bürgertum Pink gottmitdirdulandderbayern AwZ fcn DHDL bwk247 Wallersdorf jazubayern anja17 erlangen brehminberlin dhdl\n",
      "\n",
      "\n",
      "Die Linke: europolice UrhR_dialog therapeutenamlimit rhok Hotspots rc3 wegmit218 barfrau Linksfraktion jugendhackt cccamp 36c3 gew refugeehackathon pirates mauerneinreissen refugeecamp berlinliebich NoBorder DIELINKE Geretsried searchers2015 gov20 opengov 34c3 linkebw guerillaknitting AnkeOnTour dielinke linksfraktion\n",
      "\n",
      "\n",
      "FDP: kulturgüterschützen technologie deinezukunft bodensee rhein aachen mpt15 Liberalen hallesaale RolandTichy life Eigentümernation julis Zwangsbeitrag 1Thema2Farben Kinderchancengeld HalloÜbermorgen FRC14 Bucerius kemmerichthl cannes JuLis tweetenespañol Schäffler balticsea Brandenburgerin kemmerichthomasl effzeh brafdp fdpbt\n",
      "\n",
      "\n",
      "SPD: yfj edchatde oecdparl Honigkuchentag edchatDE me insm AGDA kiezregiert Rheinbahn Marsberg neukoelln BayernSPD btAI Meschede Westfalen Büdingen wirbleibenzuhaus BiDiWe16 SPDwirkt typischwahlkreis Südwestfalen tsg18 doroistda pfalzimherzen Hameln solidarischesLand Brilon dieschmidt sauerland\n",
      "\n",
      "\n"
     ]
    }
   ],
   "source": [
    "#target_names = [\"Bündnis 90/Die Grünen\", \"SPD\", \"CDU\", \"Die Linke\", \"FDP\", \"AfD\", \"CSU\"]\n",
    "target_names = clf.classes_\n",
    "print(\"top 30 keywords per class:\")\n",
    "for i, label in enumerate(target_names):\n",
    "    top30 = np.argsort(clf.coef_[i])[-30:]\n",
    "    print(\"%s: %s\" % (label, \" \".join(feature_names[top30])))\n",
    "    print(\"\\n\")"
   ]
  },
  {
   "cell_type": "code",
   "execution_count": 26,
   "metadata": {},
   "outputs": [],
   "source": [
    "prediction = model.predict(X_test)"
   ]
  },
  {
   "cell_type": "code",
   "execution_count": 27,
   "metadata": {},
   "outputs": [
    {
     "name": "stdout",
     "output_type": "stream",
     "text": [
      "******SVM classification report (hashtags, max 50k per party)******\n",
      "accuracy: 0.5596598814738469\n",
      "                       precision    recall  f1-score   support\n",
      "\n",
      "                  AfD     0.7297    0.7068    0.7181     14975\n",
      "Bündnis 90/Die Grünen     0.5733    0.5163    0.5433     15180\n",
      "                  CDU     0.5471    0.3944    0.4583     14958\n",
      "                  CSU     0.6663    0.4173    0.5132      6976\n",
      "            Die Linke     0.7077    0.6239    0.6632     15075\n",
      "                  FDP     0.6101    0.5290    0.5667     14963\n",
      "                  SPD     0.3553    0.6543    0.4606     14898\n",
      "\n",
      "             accuracy                         0.5597     97025\n",
      "            macro avg     0.5985    0.5489    0.5605     97025\n",
      "         weighted avg     0.5932    0.5597    0.5645     97025\n",
      "\n"
     ]
    }
   ],
   "source": [
    "print(\"******SVM classification report (hashtags, max 50k per party)******\")\n",
    "print(\"accuracy:\", accuracy_score(y_test, prediction))\n",
    "print(classification_report(y_test, prediction, target_names=target_names, digits=4))"
   ]
  },
  {
   "cell_type": "code",
   "execution_count": 28,
   "metadata": {},
   "outputs": [
    {
     "name": "stdout",
     "output_type": "stream",
     "text": [
      "************************SVM confusion matrix (hashtags, max 50k each party)************************\n"
     ]
    },
    {
     "data": {
      "text/html": [
       "<style  type=\"text/css\" >\n",
       "#T_ad3f9f63_c0e0_11eb_8f87_305a3a083b3frow0_col0,#T_ad3f9f63_c0e0_11eb_8f87_305a3a083b3frow0_col1,#T_ad3f9f63_c0e0_11eb_8f87_305a3a083b3frow0_col2,#T_ad3f9f63_c0e0_11eb_8f87_305a3a083b3frow0_col3,#T_ad3f9f63_c0e0_11eb_8f87_305a3a083b3frow0_col4,#T_ad3f9f63_c0e0_11eb_8f87_305a3a083b3frow0_col5,#T_ad3f9f63_c0e0_11eb_8f87_305a3a083b3frow0_col6,#T_ad3f9f63_c0e0_11eb_8f87_305a3a083b3frow1_col0,#T_ad3f9f63_c0e0_11eb_8f87_305a3a083b3frow1_col1,#T_ad3f9f63_c0e0_11eb_8f87_305a3a083b3frow1_col2,#T_ad3f9f63_c0e0_11eb_8f87_305a3a083b3frow1_col3,#T_ad3f9f63_c0e0_11eb_8f87_305a3a083b3frow1_col4,#T_ad3f9f63_c0e0_11eb_8f87_305a3a083b3frow1_col5,#T_ad3f9f63_c0e0_11eb_8f87_305a3a083b3frow1_col6,#T_ad3f9f63_c0e0_11eb_8f87_305a3a083b3frow2_col0,#T_ad3f9f63_c0e0_11eb_8f87_305a3a083b3frow2_col1,#T_ad3f9f63_c0e0_11eb_8f87_305a3a083b3frow2_col2,#T_ad3f9f63_c0e0_11eb_8f87_305a3a083b3frow2_col3,#T_ad3f9f63_c0e0_11eb_8f87_305a3a083b3frow2_col4,#T_ad3f9f63_c0e0_11eb_8f87_305a3a083b3frow2_col5,#T_ad3f9f63_c0e0_11eb_8f87_305a3a083b3frow2_col6,#T_ad3f9f63_c0e0_11eb_8f87_305a3a083b3frow3_col0,#T_ad3f9f63_c0e0_11eb_8f87_305a3a083b3frow3_col1,#T_ad3f9f63_c0e0_11eb_8f87_305a3a083b3frow3_col2,#T_ad3f9f63_c0e0_11eb_8f87_305a3a083b3frow3_col3,#T_ad3f9f63_c0e0_11eb_8f87_305a3a083b3frow3_col4,#T_ad3f9f63_c0e0_11eb_8f87_305a3a083b3frow3_col5,#T_ad3f9f63_c0e0_11eb_8f87_305a3a083b3frow3_col6,#T_ad3f9f63_c0e0_11eb_8f87_305a3a083b3frow4_col0,#T_ad3f9f63_c0e0_11eb_8f87_305a3a083b3frow4_col1,#T_ad3f9f63_c0e0_11eb_8f87_305a3a083b3frow4_col2,#T_ad3f9f63_c0e0_11eb_8f87_305a3a083b3frow4_col3,#T_ad3f9f63_c0e0_11eb_8f87_305a3a083b3frow4_col4,#T_ad3f9f63_c0e0_11eb_8f87_305a3a083b3frow4_col5,#T_ad3f9f63_c0e0_11eb_8f87_305a3a083b3frow4_col6,#T_ad3f9f63_c0e0_11eb_8f87_305a3a083b3frow5_col0,#T_ad3f9f63_c0e0_11eb_8f87_305a3a083b3frow5_col1,#T_ad3f9f63_c0e0_11eb_8f87_305a3a083b3frow5_col2,#T_ad3f9f63_c0e0_11eb_8f87_305a3a083b3frow5_col3,#T_ad3f9f63_c0e0_11eb_8f87_305a3a083b3frow5_col4,#T_ad3f9f63_c0e0_11eb_8f87_305a3a083b3frow5_col5,#T_ad3f9f63_c0e0_11eb_8f87_305a3a083b3frow5_col6,#T_ad3f9f63_c0e0_11eb_8f87_305a3a083b3frow6_col0,#T_ad3f9f63_c0e0_11eb_8f87_305a3a083b3frow6_col1,#T_ad3f9f63_c0e0_11eb_8f87_305a3a083b3frow6_col2,#T_ad3f9f63_c0e0_11eb_8f87_305a3a083b3frow6_col3,#T_ad3f9f63_c0e0_11eb_8f87_305a3a083b3frow6_col4,#T_ad3f9f63_c0e0_11eb_8f87_305a3a083b3frow6_col5,#T_ad3f9f63_c0e0_11eb_8f87_305a3a083b3frow6_col6{\n",
       "            text-align:  center;\n",
       "        }</style><table id=\"T_ad3f9f63_c0e0_11eb_8f87_305a3a083b3f\" ><thead>    <tr>        <th class=\"blank level0\" ></th>        <th class=\"col_heading level0 col0\" >pred:AfD</th>        <th class=\"col_heading level0 col1\" >pred:Bündnis 90/Die Grünen</th>        <th class=\"col_heading level0 col2\" >pred:CDU</th>        <th class=\"col_heading level0 col3\" >pred:CSU</th>        <th class=\"col_heading level0 col4\" >pred:Die Linke</th>        <th class=\"col_heading level0 col5\" >pred:FDP</th>        <th class=\"col_heading level0 col6\" >pred:SPD</th>    </tr></thead><tbody>\n",
       "                <tr>\n",
       "                        <th id=\"T_ad3f9f63_c0e0_11eb_8f87_305a3a083b3flevel0_row0\" class=\"row_heading level0 row0\" >true:AfD</th>\n",
       "                        <td id=\"T_ad3f9f63_c0e0_11eb_8f87_305a3a083b3frow0_col0\" class=\"data row0 col0\" >10585</td>\n",
       "                        <td id=\"T_ad3f9f63_c0e0_11eb_8f87_305a3a083b3frow0_col1\" class=\"data row0 col1\" >584</td>\n",
       "                        <td id=\"T_ad3f9f63_c0e0_11eb_8f87_305a3a083b3frow0_col2\" class=\"data row0 col2\" >672</td>\n",
       "                        <td id=\"T_ad3f9f63_c0e0_11eb_8f87_305a3a083b3frow0_col3\" class=\"data row0 col3\" >91</td>\n",
       "                        <td id=\"T_ad3f9f63_c0e0_11eb_8f87_305a3a083b3frow0_col4\" class=\"data row0 col4\" >388</td>\n",
       "                        <td id=\"T_ad3f9f63_c0e0_11eb_8f87_305a3a083b3frow0_col5\" class=\"data row0 col5\" >736</td>\n",
       "                        <td id=\"T_ad3f9f63_c0e0_11eb_8f87_305a3a083b3frow0_col6\" class=\"data row0 col6\" >1919</td>\n",
       "            </tr>\n",
       "            <tr>\n",
       "                        <th id=\"T_ad3f9f63_c0e0_11eb_8f87_305a3a083b3flevel0_row1\" class=\"row_heading level0 row1\" >true:Bündnis 90/Die Grünen</th>\n",
       "                        <td id=\"T_ad3f9f63_c0e0_11eb_8f87_305a3a083b3frow1_col0\" class=\"data row1 col0\" >670</td>\n",
       "                        <td id=\"T_ad3f9f63_c0e0_11eb_8f87_305a3a083b3frow1_col1\" class=\"data row1 col1\" >7837</td>\n",
       "                        <td id=\"T_ad3f9f63_c0e0_11eb_8f87_305a3a083b3frow1_col2\" class=\"data row1 col2\" >888</td>\n",
       "                        <td id=\"T_ad3f9f63_c0e0_11eb_8f87_305a3a083b3frow1_col3\" class=\"data row1 col3\" >337</td>\n",
       "                        <td id=\"T_ad3f9f63_c0e0_11eb_8f87_305a3a083b3frow1_col4\" class=\"data row1 col4\" >932</td>\n",
       "                        <td id=\"T_ad3f9f63_c0e0_11eb_8f87_305a3a083b3frow1_col5\" class=\"data row1 col5\" >1023</td>\n",
       "                        <td id=\"T_ad3f9f63_c0e0_11eb_8f87_305a3a083b3frow1_col6\" class=\"data row1 col6\" >3493</td>\n",
       "            </tr>\n",
       "            <tr>\n",
       "                        <th id=\"T_ad3f9f63_c0e0_11eb_8f87_305a3a083b3flevel0_row2\" class=\"row_heading level0 row2\" >true:CDU</th>\n",
       "                        <td id=\"T_ad3f9f63_c0e0_11eb_8f87_305a3a083b3frow2_col0\" class=\"data row2 col0\" >919</td>\n",
       "                        <td id=\"T_ad3f9f63_c0e0_11eb_8f87_305a3a083b3frow2_col1\" class=\"data row2 col1\" >1338</td>\n",
       "                        <td id=\"T_ad3f9f63_c0e0_11eb_8f87_305a3a083b3frow2_col2\" class=\"data row2 col2\" >5899</td>\n",
       "                        <td id=\"T_ad3f9f63_c0e0_11eb_8f87_305a3a083b3frow2_col3\" class=\"data row2 col3\" >381</td>\n",
       "                        <td id=\"T_ad3f9f63_c0e0_11eb_8f87_305a3a083b3frow2_col4\" class=\"data row2 col4\" >661</td>\n",
       "                        <td id=\"T_ad3f9f63_c0e0_11eb_8f87_305a3a083b3frow2_col5\" class=\"data row2 col5\" >1204</td>\n",
       "                        <td id=\"T_ad3f9f63_c0e0_11eb_8f87_305a3a083b3frow2_col6\" class=\"data row2 col6\" >4556</td>\n",
       "            </tr>\n",
       "            <tr>\n",
       "                        <th id=\"T_ad3f9f63_c0e0_11eb_8f87_305a3a083b3flevel0_row3\" class=\"row_heading level0 row3\" >true:CSU</th>\n",
       "                        <td id=\"T_ad3f9f63_c0e0_11eb_8f87_305a3a083b3frow3_col0\" class=\"data row3 col0\" >297</td>\n",
       "                        <td id=\"T_ad3f9f63_c0e0_11eb_8f87_305a3a083b3frow3_col1\" class=\"data row3 col1\" >629</td>\n",
       "                        <td id=\"T_ad3f9f63_c0e0_11eb_8f87_305a3a083b3frow3_col2\" class=\"data row3 col2\" >590</td>\n",
       "                        <td id=\"T_ad3f9f63_c0e0_11eb_8f87_305a3a083b3frow3_col3\" class=\"data row3 col3\" >2911</td>\n",
       "                        <td id=\"T_ad3f9f63_c0e0_11eb_8f87_305a3a083b3frow3_col4\" class=\"data row3 col4\" >323</td>\n",
       "                        <td id=\"T_ad3f9f63_c0e0_11eb_8f87_305a3a083b3frow3_col5\" class=\"data row3 col5\" >616</td>\n",
       "                        <td id=\"T_ad3f9f63_c0e0_11eb_8f87_305a3a083b3frow3_col6\" class=\"data row3 col6\" >1610</td>\n",
       "            </tr>\n",
       "            <tr>\n",
       "                        <th id=\"T_ad3f9f63_c0e0_11eb_8f87_305a3a083b3flevel0_row4\" class=\"row_heading level0 row4\" >true:Die Linke</th>\n",
       "                        <td id=\"T_ad3f9f63_c0e0_11eb_8f87_305a3a083b3frow4_col0\" class=\"data row4 col0\" >464</td>\n",
       "                        <td id=\"T_ad3f9f63_c0e0_11eb_8f87_305a3a083b3frow4_col1\" class=\"data row4 col1\" >950</td>\n",
       "                        <td id=\"T_ad3f9f63_c0e0_11eb_8f87_305a3a083b3frow4_col2\" class=\"data row4 col2\" >492</td>\n",
       "                        <td id=\"T_ad3f9f63_c0e0_11eb_8f87_305a3a083b3frow4_col3\" class=\"data row4 col3\" >170</td>\n",
       "                        <td id=\"T_ad3f9f63_c0e0_11eb_8f87_305a3a083b3frow4_col4\" class=\"data row4 col4\" >9405</td>\n",
       "                        <td id=\"T_ad3f9f63_c0e0_11eb_8f87_305a3a083b3frow4_col5\" class=\"data row4 col5\" >548</td>\n",
       "                        <td id=\"T_ad3f9f63_c0e0_11eb_8f87_305a3a083b3frow4_col6\" class=\"data row4 col6\" >3046</td>\n",
       "            </tr>\n",
       "            <tr>\n",
       "                        <th id=\"T_ad3f9f63_c0e0_11eb_8f87_305a3a083b3flevel0_row5\" class=\"row_heading level0 row5\" >true:FDP</th>\n",
       "                        <td id=\"T_ad3f9f63_c0e0_11eb_8f87_305a3a083b3frow5_col0\" class=\"data row5 col0\" >879</td>\n",
       "                        <td id=\"T_ad3f9f63_c0e0_11eb_8f87_305a3a083b3frow5_col1\" class=\"data row5 col1\" >1125</td>\n",
       "                        <td id=\"T_ad3f9f63_c0e0_11eb_8f87_305a3a083b3frow5_col2\" class=\"data row5 col2\" >1056</td>\n",
       "                        <td id=\"T_ad3f9f63_c0e0_11eb_8f87_305a3a083b3frow5_col3\" class=\"data row5 col3\" >248</td>\n",
       "                        <td id=\"T_ad3f9f63_c0e0_11eb_8f87_305a3a083b3frow5_col4\" class=\"data row5 col4\" >678</td>\n",
       "                        <td id=\"T_ad3f9f63_c0e0_11eb_8f87_305a3a083b3frow5_col5\" class=\"data row5 col5\" >7916</td>\n",
       "                        <td id=\"T_ad3f9f63_c0e0_11eb_8f87_305a3a083b3frow5_col6\" class=\"data row5 col6\" >3061</td>\n",
       "            </tr>\n",
       "            <tr>\n",
       "                        <th id=\"T_ad3f9f63_c0e0_11eb_8f87_305a3a083b3flevel0_row6\" class=\"row_heading level0 row6\" >true:SPD</th>\n",
       "                        <td id=\"T_ad3f9f63_c0e0_11eb_8f87_305a3a083b3frow6_col0\" class=\"data row6 col0\" >692</td>\n",
       "                        <td id=\"T_ad3f9f63_c0e0_11eb_8f87_305a3a083b3frow6_col1\" class=\"data row6 col1\" >1207</td>\n",
       "                        <td id=\"T_ad3f9f63_c0e0_11eb_8f87_305a3a083b3frow6_col2\" class=\"data row6 col2\" >1186</td>\n",
       "                        <td id=\"T_ad3f9f63_c0e0_11eb_8f87_305a3a083b3frow6_col3\" class=\"data row6 col3\" >231</td>\n",
       "                        <td id=\"T_ad3f9f63_c0e0_11eb_8f87_305a3a083b3frow6_col4\" class=\"data row6 col4\" >902</td>\n",
       "                        <td id=\"T_ad3f9f63_c0e0_11eb_8f87_305a3a083b3frow6_col5\" class=\"data row6 col5\" >932</td>\n",
       "                        <td id=\"T_ad3f9f63_c0e0_11eb_8f87_305a3a083b3frow6_col6\" class=\"data row6 col6\" >9748</td>\n",
       "            </tr>\n",
       "    </tbody></table>"
      ],
      "text/plain": [
       "<pandas.io.formats.style.Styler at 0x17929dc6d00>"
      ]
     },
     "execution_count": 28,
     "metadata": {},
     "output_type": "execute_result"
    }
   ],
   "source": [
    "print(\"************************SVM confusion matrix (hashtags, max 50k each party)************************\")\n",
    "cm = pd.DataFrame(\n",
    "    confusion_matrix(y_test, prediction, labels=target_names),\n",
    "    index = [\"true:{:}\".format(x) for x in target_names],\n",
    "    columns = [\"pred:{:}\".format(x) for x in target_names]\n",
    ")\n",
    "cm.style.set_properties(**{'text-align': 'center'})"
   ]
  },
  {
   "cell_type": "markdown",
   "metadata": {},
   "source": [
    "## Decision Tree"
   ]
  },
  {
   "cell_type": "code",
   "execution_count": 29,
   "metadata": {},
   "outputs": [],
   "source": [
    "#ngram_range = how many words to consider, 1, 2 --> look at every seperate word, and a pair of 2 words: not good --> bad\n",
    "pipelineDT = Pipeline([(\"vect\", TfidfVectorizer(ngram_range=(1, 2), stop_words=None, sublinear_tf=True, max_df=0.75, lowercase = False)), \n",
    "                     (\"chi\", SelectKBest(chi2, k=10000)),\n",
    "                     (\"clf\", DecisionTreeClassifier(random_state = 111))])"
   ]
  },
  {
   "cell_type": "code",
   "execution_count": 30,
   "metadata": {},
   "outputs": [],
   "source": [
    "modelDT = pipelineDT.fit(X_train, y_train)"
   ]
  },
  {
   "cell_type": "code",
   "execution_count": 31,
   "metadata": {},
   "outputs": [],
   "source": [
    "vectorizerDT = modelDT.named_steps[\"vect\"]\n",
    "chiDT = modelDT.named_steps[\"chi\"]\n",
    "clfDT = modelDT.named_steps[\"clf\"]"
   ]
  },
  {
   "cell_type": "code",
   "execution_count": 33,
   "metadata": {},
   "outputs": [
    {
     "name": "stdout",
     "output_type": "stream",
     "text": [
      "leaves: 45146\n",
      "depth: 9143\n"
     ]
    }
   ],
   "source": [
    "target_names = clfDT.classes_\n",
    "print(\"leaves:\", clfDT.get_n_leaves())\n",
    "print(\"depth:\", clfDT.get_depth())"
   ]
  },
  {
   "cell_type": "code",
   "execution_count": 34,
   "metadata": {},
   "outputs": [],
   "source": [
    "predictionDT = modelDT.predict(X_test)"
   ]
  },
  {
   "cell_type": "code",
   "execution_count": 35,
   "metadata": {},
   "outputs": [
    {
     "name": "stdout",
     "output_type": "stream",
     "text": [
      "***DecisionTree classification report (hashtags, max 50k)***\n",
      "accuracy: 0.5203195052821438\n",
      "                       precision    recall  f1-score   support\n",
      "\n",
      "                  AfD     0.7168    0.6616    0.6881     14975\n",
      "Bündnis 90/Die Grünen     0.5296    0.4709    0.4985     15180\n",
      "                  CDU     0.5121    0.3654    0.4265     14958\n",
      "                  CSU     0.5489    0.3850    0.4526      6976\n",
      "            Die Linke     0.7115    0.5681    0.6317     15075\n",
      "                  FDP     0.5806    0.4742    0.5220     14963\n",
      "                  SPD     0.3218    0.6455    0.4295     14898\n",
      "\n",
      "             accuracy                         0.5203     97025\n",
      "            macro avg     0.5602    0.5101    0.5213     97025\n",
      "         weighted avg     0.5614    0.5203    0.5271     97025\n",
      "\n"
     ]
    }
   ],
   "source": [
    "print(\"***DecisionTree classification report (hashtags, max 50k)***\")\n",
    "print(\"accuracy:\", accuracy_score(y_test, predictionDT))\n",
    "print(classification_report(y_test, predictionDT, target_names=target_names, digits=4))"
   ]
  },
  {
   "cell_type": "code",
   "execution_count": 36,
   "metadata": {
    "scrolled": true
   },
   "outputs": [
    {
     "name": "stdout",
     "output_type": "stream",
     "text": [
      "*******************DecisionTree confusion matrix (hashtags, max 50k)*******************\n"
     ]
    },
    {
     "data": {
      "text/html": [
       "<style  type=\"text/css\" >\n",
       "#T_7dc9865a_c0e3_11eb_bf98_305a3a083b3frow0_col0,#T_7dc9865a_c0e3_11eb_bf98_305a3a083b3frow0_col1,#T_7dc9865a_c0e3_11eb_bf98_305a3a083b3frow0_col2,#T_7dc9865a_c0e3_11eb_bf98_305a3a083b3frow0_col3,#T_7dc9865a_c0e3_11eb_bf98_305a3a083b3frow0_col4,#T_7dc9865a_c0e3_11eb_bf98_305a3a083b3frow0_col5,#T_7dc9865a_c0e3_11eb_bf98_305a3a083b3frow0_col6,#T_7dc9865a_c0e3_11eb_bf98_305a3a083b3frow1_col0,#T_7dc9865a_c0e3_11eb_bf98_305a3a083b3frow1_col1,#T_7dc9865a_c0e3_11eb_bf98_305a3a083b3frow1_col2,#T_7dc9865a_c0e3_11eb_bf98_305a3a083b3frow1_col3,#T_7dc9865a_c0e3_11eb_bf98_305a3a083b3frow1_col4,#T_7dc9865a_c0e3_11eb_bf98_305a3a083b3frow1_col5,#T_7dc9865a_c0e3_11eb_bf98_305a3a083b3frow1_col6,#T_7dc9865a_c0e3_11eb_bf98_305a3a083b3frow2_col0,#T_7dc9865a_c0e3_11eb_bf98_305a3a083b3frow2_col1,#T_7dc9865a_c0e3_11eb_bf98_305a3a083b3frow2_col2,#T_7dc9865a_c0e3_11eb_bf98_305a3a083b3frow2_col3,#T_7dc9865a_c0e3_11eb_bf98_305a3a083b3frow2_col4,#T_7dc9865a_c0e3_11eb_bf98_305a3a083b3frow2_col5,#T_7dc9865a_c0e3_11eb_bf98_305a3a083b3frow2_col6,#T_7dc9865a_c0e3_11eb_bf98_305a3a083b3frow3_col0,#T_7dc9865a_c0e3_11eb_bf98_305a3a083b3frow3_col1,#T_7dc9865a_c0e3_11eb_bf98_305a3a083b3frow3_col2,#T_7dc9865a_c0e3_11eb_bf98_305a3a083b3frow3_col3,#T_7dc9865a_c0e3_11eb_bf98_305a3a083b3frow3_col4,#T_7dc9865a_c0e3_11eb_bf98_305a3a083b3frow3_col5,#T_7dc9865a_c0e3_11eb_bf98_305a3a083b3frow3_col6,#T_7dc9865a_c0e3_11eb_bf98_305a3a083b3frow4_col0,#T_7dc9865a_c0e3_11eb_bf98_305a3a083b3frow4_col1,#T_7dc9865a_c0e3_11eb_bf98_305a3a083b3frow4_col2,#T_7dc9865a_c0e3_11eb_bf98_305a3a083b3frow4_col3,#T_7dc9865a_c0e3_11eb_bf98_305a3a083b3frow4_col4,#T_7dc9865a_c0e3_11eb_bf98_305a3a083b3frow4_col5,#T_7dc9865a_c0e3_11eb_bf98_305a3a083b3frow4_col6,#T_7dc9865a_c0e3_11eb_bf98_305a3a083b3frow5_col0,#T_7dc9865a_c0e3_11eb_bf98_305a3a083b3frow5_col1,#T_7dc9865a_c0e3_11eb_bf98_305a3a083b3frow5_col2,#T_7dc9865a_c0e3_11eb_bf98_305a3a083b3frow5_col3,#T_7dc9865a_c0e3_11eb_bf98_305a3a083b3frow5_col4,#T_7dc9865a_c0e3_11eb_bf98_305a3a083b3frow5_col5,#T_7dc9865a_c0e3_11eb_bf98_305a3a083b3frow5_col6,#T_7dc9865a_c0e3_11eb_bf98_305a3a083b3frow6_col0,#T_7dc9865a_c0e3_11eb_bf98_305a3a083b3frow6_col1,#T_7dc9865a_c0e3_11eb_bf98_305a3a083b3frow6_col2,#T_7dc9865a_c0e3_11eb_bf98_305a3a083b3frow6_col3,#T_7dc9865a_c0e3_11eb_bf98_305a3a083b3frow6_col4,#T_7dc9865a_c0e3_11eb_bf98_305a3a083b3frow6_col5,#T_7dc9865a_c0e3_11eb_bf98_305a3a083b3frow6_col6{\n",
       "            text-align:  center;\n",
       "        }</style><table id=\"T_7dc9865a_c0e3_11eb_bf98_305a3a083b3f\" ><thead>    <tr>        <th class=\"blank level0\" ></th>        <th class=\"col_heading level0 col0\" >pred:AfD</th>        <th class=\"col_heading level0 col1\" >pred:Bündnis 90/Die Grünen</th>        <th class=\"col_heading level0 col2\" >pred:CDU</th>        <th class=\"col_heading level0 col3\" >pred:CSU</th>        <th class=\"col_heading level0 col4\" >pred:Die Linke</th>        <th class=\"col_heading level0 col5\" >pred:FDP</th>        <th class=\"col_heading level0 col6\" >pred:SPD</th>    </tr></thead><tbody>\n",
       "                <tr>\n",
       "                        <th id=\"T_7dc9865a_c0e3_11eb_bf98_305a3a083b3flevel0_row0\" class=\"row_heading level0 row0\" >true:AfD</th>\n",
       "                        <td id=\"T_7dc9865a_c0e3_11eb_bf98_305a3a083b3frow0_col0\" class=\"data row0 col0\" >9907</td>\n",
       "                        <td id=\"T_7dc9865a_c0e3_11eb_bf98_305a3a083b3frow0_col1\" class=\"data row0 col1\" >683</td>\n",
       "                        <td id=\"T_7dc9865a_c0e3_11eb_bf98_305a3a083b3frow0_col2\" class=\"data row0 col2\" >787</td>\n",
       "                        <td id=\"T_7dc9865a_c0e3_11eb_bf98_305a3a083b3frow0_col3\" class=\"data row0 col3\" >193</td>\n",
       "                        <td id=\"T_7dc9865a_c0e3_11eb_bf98_305a3a083b3frow0_col4\" class=\"data row0 col4\" >352</td>\n",
       "                        <td id=\"T_7dc9865a_c0e3_11eb_bf98_305a3a083b3frow0_col5\" class=\"data row0 col5\" >833</td>\n",
       "                        <td id=\"T_7dc9865a_c0e3_11eb_bf98_305a3a083b3frow0_col6\" class=\"data row0 col6\" >2220</td>\n",
       "            </tr>\n",
       "            <tr>\n",
       "                        <th id=\"T_7dc9865a_c0e3_11eb_bf98_305a3a083b3flevel0_row1\" class=\"row_heading level0 row1\" >true:Bündnis 90/Die Grünen</th>\n",
       "                        <td id=\"T_7dc9865a_c0e3_11eb_bf98_305a3a083b3frow1_col0\" class=\"data row1 col0\" >777</td>\n",
       "                        <td id=\"T_7dc9865a_c0e3_11eb_bf98_305a3a083b3frow1_col1\" class=\"data row1 col1\" >7149</td>\n",
       "                        <td id=\"T_7dc9865a_c0e3_11eb_bf98_305a3a083b3frow1_col2\" class=\"data row1 col2\" >931</td>\n",
       "                        <td id=\"T_7dc9865a_c0e3_11eb_bf98_305a3a083b3frow1_col3\" class=\"data row1 col3\" >501</td>\n",
       "                        <td id=\"T_7dc9865a_c0e3_11eb_bf98_305a3a083b3frow1_col4\" class=\"data row1 col4\" >719</td>\n",
       "                        <td id=\"T_7dc9865a_c0e3_11eb_bf98_305a3a083b3frow1_col5\" class=\"data row1 col5\" >1039</td>\n",
       "                        <td id=\"T_7dc9865a_c0e3_11eb_bf98_305a3a083b3frow1_col6\" class=\"data row1 col6\" >4064</td>\n",
       "            </tr>\n",
       "            <tr>\n",
       "                        <th id=\"T_7dc9865a_c0e3_11eb_bf98_305a3a083b3flevel0_row2\" class=\"row_heading level0 row2\" >true:CDU</th>\n",
       "                        <td id=\"T_7dc9865a_c0e3_11eb_bf98_305a3a083b3frow2_col0\" class=\"data row2 col0\" >815</td>\n",
       "                        <td id=\"T_7dc9865a_c0e3_11eb_bf98_305a3a083b3frow2_col1\" class=\"data row2 col1\" >1382</td>\n",
       "                        <td id=\"T_7dc9865a_c0e3_11eb_bf98_305a3a083b3frow2_col2\" class=\"data row2 col2\" >5466</td>\n",
       "                        <td id=\"T_7dc9865a_c0e3_11eb_bf98_305a3a083b3frow2_col3\" class=\"data row2 col3\" >480</td>\n",
       "                        <td id=\"T_7dc9865a_c0e3_11eb_bf98_305a3a083b3frow2_col4\" class=\"data row2 col4\" >619</td>\n",
       "                        <td id=\"T_7dc9865a_c0e3_11eb_bf98_305a3a083b3frow2_col5\" class=\"data row2 col5\" >1140</td>\n",
       "                        <td id=\"T_7dc9865a_c0e3_11eb_bf98_305a3a083b3frow2_col6\" class=\"data row2 col6\" >5056</td>\n",
       "            </tr>\n",
       "            <tr>\n",
       "                        <th id=\"T_7dc9865a_c0e3_11eb_bf98_305a3a083b3flevel0_row3\" class=\"row_heading level0 row3\" >true:CSU</th>\n",
       "                        <td id=\"T_7dc9865a_c0e3_11eb_bf98_305a3a083b3frow3_col0\" class=\"data row3 col0\" >285</td>\n",
       "                        <td id=\"T_7dc9865a_c0e3_11eb_bf98_305a3a083b3frow3_col1\" class=\"data row3 col1\" >713</td>\n",
       "                        <td id=\"T_7dc9865a_c0e3_11eb_bf98_305a3a083b3frow3_col2\" class=\"data row3 col2\" >566</td>\n",
       "                        <td id=\"T_7dc9865a_c0e3_11eb_bf98_305a3a083b3frow3_col3\" class=\"data row3 col3\" >2686</td>\n",
       "                        <td id=\"T_7dc9865a_c0e3_11eb_bf98_305a3a083b3frow3_col4\" class=\"data row3 col4\" >302</td>\n",
       "                        <td id=\"T_7dc9865a_c0e3_11eb_bf98_305a3a083b3frow3_col5\" class=\"data row3 col5\" >550</td>\n",
       "                        <td id=\"T_7dc9865a_c0e3_11eb_bf98_305a3a083b3frow3_col6\" class=\"data row3 col6\" >1874</td>\n",
       "            </tr>\n",
       "            <tr>\n",
       "                        <th id=\"T_7dc9865a_c0e3_11eb_bf98_305a3a083b3flevel0_row4\" class=\"row_heading level0 row4\" >true:Die Linke</th>\n",
       "                        <td id=\"T_7dc9865a_c0e3_11eb_bf98_305a3a083b3frow4_col0\" class=\"data row4 col0\" >470</td>\n",
       "                        <td id=\"T_7dc9865a_c0e3_11eb_bf98_305a3a083b3frow4_col1\" class=\"data row4 col1\" >1063</td>\n",
       "                        <td id=\"T_7dc9865a_c0e3_11eb_bf98_305a3a083b3frow4_col2\" class=\"data row4 col2\" >624</td>\n",
       "                        <td id=\"T_7dc9865a_c0e3_11eb_bf98_305a3a083b3frow4_col3\" class=\"data row4 col3\" >248</td>\n",
       "                        <td id=\"T_7dc9865a_c0e3_11eb_bf98_305a3a083b3frow4_col4\" class=\"data row4 col4\" >8564</td>\n",
       "                        <td id=\"T_7dc9865a_c0e3_11eb_bf98_305a3a083b3frow4_col5\" class=\"data row4 col5\" >592</td>\n",
       "                        <td id=\"T_7dc9865a_c0e3_11eb_bf98_305a3a083b3frow4_col6\" class=\"data row4 col6\" >3514</td>\n",
       "            </tr>\n",
       "            <tr>\n",
       "                        <th id=\"T_7dc9865a_c0e3_11eb_bf98_305a3a083b3flevel0_row5\" class=\"row_heading level0 row5\" >true:FDP</th>\n",
       "                        <td id=\"T_7dc9865a_c0e3_11eb_bf98_305a3a083b3frow5_col0\" class=\"data row5 col0\" >858</td>\n",
       "                        <td id=\"T_7dc9865a_c0e3_11eb_bf98_305a3a083b3frow5_col1\" class=\"data row5 col1\" >1263</td>\n",
       "                        <td id=\"T_7dc9865a_c0e3_11eb_bf98_305a3a083b3frow5_col2\" class=\"data row5 col2\" >1153</td>\n",
       "                        <td id=\"T_7dc9865a_c0e3_11eb_bf98_305a3a083b3frow5_col3\" class=\"data row5 col3\" >377</td>\n",
       "                        <td id=\"T_7dc9865a_c0e3_11eb_bf98_305a3a083b3frow5_col4\" class=\"data row5 col4\" >681</td>\n",
       "                        <td id=\"T_7dc9865a_c0e3_11eb_bf98_305a3a083b3frow5_col5\" class=\"data row5 col5\" >7095</td>\n",
       "                        <td id=\"T_7dc9865a_c0e3_11eb_bf98_305a3a083b3frow5_col6\" class=\"data row5 col6\" >3536</td>\n",
       "            </tr>\n",
       "            <tr>\n",
       "                        <th id=\"T_7dc9865a_c0e3_11eb_bf98_305a3a083b3flevel0_row6\" class=\"row_heading level0 row6\" >true:SPD</th>\n",
       "                        <td id=\"T_7dc9865a_c0e3_11eb_bf98_305a3a083b3frow6_col0\" class=\"data row6 col0\" >709</td>\n",
       "                        <td id=\"T_7dc9865a_c0e3_11eb_bf98_305a3a083b3frow6_col1\" class=\"data row6 col1\" >1247</td>\n",
       "                        <td id=\"T_7dc9865a_c0e3_11eb_bf98_305a3a083b3frow6_col2\" class=\"data row6 col2\" >1146</td>\n",
       "                        <td id=\"T_7dc9865a_c0e3_11eb_bf98_305a3a083b3frow6_col3\" class=\"data row6 col3\" >408</td>\n",
       "                        <td id=\"T_7dc9865a_c0e3_11eb_bf98_305a3a083b3frow6_col4\" class=\"data row6 col4\" >800</td>\n",
       "                        <td id=\"T_7dc9865a_c0e3_11eb_bf98_305a3a083b3frow6_col5\" class=\"data row6 col5\" >971</td>\n",
       "                        <td id=\"T_7dc9865a_c0e3_11eb_bf98_305a3a083b3frow6_col6\" class=\"data row6 col6\" >9617</td>\n",
       "            </tr>\n",
       "    </tbody></table>"
      ],
      "text/plain": [
       "<pandas.io.formats.style.Styler at 0x17930fae3d0>"
      ]
     },
     "execution_count": 36,
     "metadata": {},
     "output_type": "execute_result"
    }
   ],
   "source": [
    "print(\"*******************DecisionTree confusion matrix (hashtags, max 50k)*******************\")\n",
    "cm = pd.DataFrame(\n",
    "    confusion_matrix(y_test, predictionDT, labels=target_names),\n",
    "    index = [\"true:{:}\".format(x) for x in target_names],\n",
    "    columns = [\"pred:{:}\".format(x) for x in target_names]\n",
    ")\n",
    "cm.style.set_properties(**{'text-align': 'center'})"
   ]
  },
  {
   "cell_type": "markdown",
   "metadata": {},
   "source": [
    "# RandomForest"
   ]
  },
  {
   "cell_type": "code",
   "execution_count": 54,
   "metadata": {},
   "outputs": [],
   "source": [
    "#ngram_range = how many words to consider, 1, 2 --> look at every seperate word, and a pair of 2 words: not good --> bad\n",
    "pipelineRF = Pipeline([(\"vect\", TfidfVectorizer(ngram_range=(1, 2), stop_words=None, sublinear_tf=True, max_df=0.75, lowercase = False)), \n",
    "                     (\"chi\", SelectKBest(chi2, k=10000)),\n",
    "                     (\"clf\", RandomForestClassifier(random_state = 111))])"
   ]
  },
  {
   "cell_type": "code",
   "execution_count": 55,
   "metadata": {},
   "outputs": [],
   "source": [
    "modelRF = pipelineRF.fit(X_train, y_train)"
   ]
  },
  {
   "cell_type": "code",
   "execution_count": 56,
   "metadata": {},
   "outputs": [],
   "source": [
    "vectorizerRF = modelRF.named_steps[\"vect\"]\n",
    "chiRF = modelRF.named_steps[\"chi\"]\n",
    "clfRF = modelRF.named_steps[\"clf\"]"
   ]
  },
  {
   "cell_type": "code",
   "execution_count": 57,
   "metadata": {},
   "outputs": [],
   "source": [
    "predictionRF = modelRF.predict(X_test)"
   ]
  },
  {
   "cell_type": "code",
   "execution_count": 58,
   "metadata": {},
   "outputs": [],
   "source": [
    "target_names = clf.classes_"
   ]
  },
  {
   "cell_type": "code",
   "execution_count": 59,
   "metadata": {},
   "outputs": [
    {
     "name": "stdout",
     "output_type": "stream",
     "text": [
      "******RandomForest classification report (hashtags, max 50k)******\n",
      "accuracy: 0.5317804689513013\n",
      "                       precision    recall  f1-score   support\n",
      "\n",
      "                  AfD     0.7532    0.6692    0.7087     14975\n",
      "Bündnis 90/Die Grünen     0.5631    0.4704    0.5126     15180\n",
      "                  CDU     0.5261    0.3785    0.4402     14958\n",
      "                  CSU     0.5608    0.3926    0.4619      6976\n",
      "            Die Linke     0.6980    0.5871    0.6378     15075\n",
      "                  FDP     0.5884    0.4891    0.5342     14963\n",
      "                  SPD     0.3258    0.6622    0.4367     14898\n",
      "\n",
      "             accuracy                         0.5318     97025\n",
      "            macro avg     0.5736    0.5213    0.5332     97025\n",
      "         weighted avg     0.5750    0.5318    0.5392     97025\n",
      "\n"
     ]
    }
   ],
   "source": [
    "print(\"******RandomForest classification report (hashtags, max 50k)******\")\n",
    "print(\"accuracy:\", accuracy_score(y_test, predictionRF))\n",
    "print(classification_report(y_test, predictionRF, target_names=target_names, digits=4))"
   ]
  },
  {
   "cell_type": "code",
   "execution_count": 60,
   "metadata": {},
   "outputs": [
    {
     "name": "stdout",
     "output_type": "stream",
     "text": [
      "************************RandomForest confusion matrix (hashtags, max 50k)************************\n"
     ]
    },
    {
     "data": {
      "text/html": [
       "<style  type=\"text/css\" >\n",
       "#T_2aed1f8c_c0f1_11eb_a7b8_305a3a083b3frow0_col0,#T_2aed1f8c_c0f1_11eb_a7b8_305a3a083b3frow0_col1,#T_2aed1f8c_c0f1_11eb_a7b8_305a3a083b3frow0_col2,#T_2aed1f8c_c0f1_11eb_a7b8_305a3a083b3frow0_col3,#T_2aed1f8c_c0f1_11eb_a7b8_305a3a083b3frow0_col4,#T_2aed1f8c_c0f1_11eb_a7b8_305a3a083b3frow0_col5,#T_2aed1f8c_c0f1_11eb_a7b8_305a3a083b3frow0_col6,#T_2aed1f8c_c0f1_11eb_a7b8_305a3a083b3frow1_col0,#T_2aed1f8c_c0f1_11eb_a7b8_305a3a083b3frow1_col1,#T_2aed1f8c_c0f1_11eb_a7b8_305a3a083b3frow1_col2,#T_2aed1f8c_c0f1_11eb_a7b8_305a3a083b3frow1_col3,#T_2aed1f8c_c0f1_11eb_a7b8_305a3a083b3frow1_col4,#T_2aed1f8c_c0f1_11eb_a7b8_305a3a083b3frow1_col5,#T_2aed1f8c_c0f1_11eb_a7b8_305a3a083b3frow1_col6,#T_2aed1f8c_c0f1_11eb_a7b8_305a3a083b3frow2_col0,#T_2aed1f8c_c0f1_11eb_a7b8_305a3a083b3frow2_col1,#T_2aed1f8c_c0f1_11eb_a7b8_305a3a083b3frow2_col2,#T_2aed1f8c_c0f1_11eb_a7b8_305a3a083b3frow2_col3,#T_2aed1f8c_c0f1_11eb_a7b8_305a3a083b3frow2_col4,#T_2aed1f8c_c0f1_11eb_a7b8_305a3a083b3frow2_col5,#T_2aed1f8c_c0f1_11eb_a7b8_305a3a083b3frow2_col6,#T_2aed1f8c_c0f1_11eb_a7b8_305a3a083b3frow3_col0,#T_2aed1f8c_c0f1_11eb_a7b8_305a3a083b3frow3_col1,#T_2aed1f8c_c0f1_11eb_a7b8_305a3a083b3frow3_col2,#T_2aed1f8c_c0f1_11eb_a7b8_305a3a083b3frow3_col3,#T_2aed1f8c_c0f1_11eb_a7b8_305a3a083b3frow3_col4,#T_2aed1f8c_c0f1_11eb_a7b8_305a3a083b3frow3_col5,#T_2aed1f8c_c0f1_11eb_a7b8_305a3a083b3frow3_col6,#T_2aed1f8c_c0f1_11eb_a7b8_305a3a083b3frow4_col0,#T_2aed1f8c_c0f1_11eb_a7b8_305a3a083b3frow4_col1,#T_2aed1f8c_c0f1_11eb_a7b8_305a3a083b3frow4_col2,#T_2aed1f8c_c0f1_11eb_a7b8_305a3a083b3frow4_col3,#T_2aed1f8c_c0f1_11eb_a7b8_305a3a083b3frow4_col4,#T_2aed1f8c_c0f1_11eb_a7b8_305a3a083b3frow4_col5,#T_2aed1f8c_c0f1_11eb_a7b8_305a3a083b3frow4_col6,#T_2aed1f8c_c0f1_11eb_a7b8_305a3a083b3frow5_col0,#T_2aed1f8c_c0f1_11eb_a7b8_305a3a083b3frow5_col1,#T_2aed1f8c_c0f1_11eb_a7b8_305a3a083b3frow5_col2,#T_2aed1f8c_c0f1_11eb_a7b8_305a3a083b3frow5_col3,#T_2aed1f8c_c0f1_11eb_a7b8_305a3a083b3frow5_col4,#T_2aed1f8c_c0f1_11eb_a7b8_305a3a083b3frow5_col5,#T_2aed1f8c_c0f1_11eb_a7b8_305a3a083b3frow5_col6,#T_2aed1f8c_c0f1_11eb_a7b8_305a3a083b3frow6_col0,#T_2aed1f8c_c0f1_11eb_a7b8_305a3a083b3frow6_col1,#T_2aed1f8c_c0f1_11eb_a7b8_305a3a083b3frow6_col2,#T_2aed1f8c_c0f1_11eb_a7b8_305a3a083b3frow6_col3,#T_2aed1f8c_c0f1_11eb_a7b8_305a3a083b3frow6_col4,#T_2aed1f8c_c0f1_11eb_a7b8_305a3a083b3frow6_col5,#T_2aed1f8c_c0f1_11eb_a7b8_305a3a083b3frow6_col6{\n",
       "            text-align:  center;\n",
       "        }</style><table id=\"T_2aed1f8c_c0f1_11eb_a7b8_305a3a083b3f\" ><thead>    <tr>        <th class=\"blank level0\" ></th>        <th class=\"col_heading level0 col0\" >pred:AfD</th>        <th class=\"col_heading level0 col1\" >pred:Bündnis 90/Die Grünen</th>        <th class=\"col_heading level0 col2\" >pred:CDU</th>        <th class=\"col_heading level0 col3\" >pred:CSU</th>        <th class=\"col_heading level0 col4\" >pred:Die Linke</th>        <th class=\"col_heading level0 col5\" >pred:FDP</th>        <th class=\"col_heading level0 col6\" >pred:SPD</th>    </tr></thead><tbody>\n",
       "                <tr>\n",
       "                        <th id=\"T_2aed1f8c_c0f1_11eb_a7b8_305a3a083b3flevel0_row0\" class=\"row_heading level0 row0\" >true:AfD</th>\n",
       "                        <td id=\"T_2aed1f8c_c0f1_11eb_a7b8_305a3a083b3frow0_col0\" class=\"data row0 col0\" >10021</td>\n",
       "                        <td id=\"T_2aed1f8c_c0f1_11eb_a7b8_305a3a083b3frow0_col1\" class=\"data row0 col1\" >637</td>\n",
       "                        <td id=\"T_2aed1f8c_c0f1_11eb_a7b8_305a3a083b3frow0_col2\" class=\"data row0 col2\" >760</td>\n",
       "                        <td id=\"T_2aed1f8c_c0f1_11eb_a7b8_305a3a083b3frow0_col3\" class=\"data row0 col3\" >189</td>\n",
       "                        <td id=\"T_2aed1f8c_c0f1_11eb_a7b8_305a3a083b3frow0_col4\" class=\"data row0 col4\" >384</td>\n",
       "                        <td id=\"T_2aed1f8c_c0f1_11eb_a7b8_305a3a083b3frow0_col5\" class=\"data row0 col5\" >761</td>\n",
       "                        <td id=\"T_2aed1f8c_c0f1_11eb_a7b8_305a3a083b3frow0_col6\" class=\"data row0 col6\" >2223</td>\n",
       "            </tr>\n",
       "            <tr>\n",
       "                        <th id=\"T_2aed1f8c_c0f1_11eb_a7b8_305a3a083b3flevel0_row1\" class=\"row_heading level0 row1\" >true:Bündnis 90/Die Grünen</th>\n",
       "                        <td id=\"T_2aed1f8c_c0f1_11eb_a7b8_305a3a083b3frow1_col0\" class=\"data row1 col0\" >647</td>\n",
       "                        <td id=\"T_2aed1f8c_c0f1_11eb_a7b8_305a3a083b3frow1_col1\" class=\"data row1 col1\" >7141</td>\n",
       "                        <td id=\"T_2aed1f8c_c0f1_11eb_a7b8_305a3a083b3frow1_col2\" class=\"data row1 col2\" >912</td>\n",
       "                        <td id=\"T_2aed1f8c_c0f1_11eb_a7b8_305a3a083b3frow1_col3\" class=\"data row1 col3\" >479</td>\n",
       "                        <td id=\"T_2aed1f8c_c0f1_11eb_a7b8_305a3a083b3frow1_col4\" class=\"data row1 col4\" >836</td>\n",
       "                        <td id=\"T_2aed1f8c_c0f1_11eb_a7b8_305a3a083b3frow1_col5\" class=\"data row1 col5\" >1049</td>\n",
       "                        <td id=\"T_2aed1f8c_c0f1_11eb_a7b8_305a3a083b3frow1_col6\" class=\"data row1 col6\" >4116</td>\n",
       "            </tr>\n",
       "            <tr>\n",
       "                        <th id=\"T_2aed1f8c_c0f1_11eb_a7b8_305a3a083b3flevel0_row2\" class=\"row_heading level0 row2\" >true:CDU</th>\n",
       "                        <td id=\"T_2aed1f8c_c0f1_11eb_a7b8_305a3a083b3frow2_col0\" class=\"data row2 col0\" >702</td>\n",
       "                        <td id=\"T_2aed1f8c_c0f1_11eb_a7b8_305a3a083b3frow2_col1\" class=\"data row2 col1\" >1203</td>\n",
       "                        <td id=\"T_2aed1f8c_c0f1_11eb_a7b8_305a3a083b3frow2_col2\" class=\"data row2 col2\" >5661</td>\n",
       "                        <td id=\"T_2aed1f8c_c0f1_11eb_a7b8_305a3a083b3frow2_col3\" class=\"data row2 col3\" >487</td>\n",
       "                        <td id=\"T_2aed1f8c_c0f1_11eb_a7b8_305a3a083b3frow2_col4\" class=\"data row2 col4\" >706</td>\n",
       "                        <td id=\"T_2aed1f8c_c0f1_11eb_a7b8_305a3a083b3frow2_col5\" class=\"data row2 col5\" >1137</td>\n",
       "                        <td id=\"T_2aed1f8c_c0f1_11eb_a7b8_305a3a083b3frow2_col6\" class=\"data row2 col6\" >5062</td>\n",
       "            </tr>\n",
       "            <tr>\n",
       "                        <th id=\"T_2aed1f8c_c0f1_11eb_a7b8_305a3a083b3flevel0_row3\" class=\"row_heading level0 row3\" >true:CSU</th>\n",
       "                        <td id=\"T_2aed1f8c_c0f1_11eb_a7b8_305a3a083b3frow3_col0\" class=\"data row3 col0\" >234</td>\n",
       "                        <td id=\"T_2aed1f8c_c0f1_11eb_a7b8_305a3a083b3frow3_col1\" class=\"data row3 col1\" >623</td>\n",
       "                        <td id=\"T_2aed1f8c_c0f1_11eb_a7b8_305a3a083b3frow3_col2\" class=\"data row3 col2\" >567</td>\n",
       "                        <td id=\"T_2aed1f8c_c0f1_11eb_a7b8_305a3a083b3frow3_col3\" class=\"data row3 col3\" >2739</td>\n",
       "                        <td id=\"T_2aed1f8c_c0f1_11eb_a7b8_305a3a083b3frow3_col4\" class=\"data row3 col4\" >347</td>\n",
       "                        <td id=\"T_2aed1f8c_c0f1_11eb_a7b8_305a3a083b3frow3_col5\" class=\"data row3 col5\" >568</td>\n",
       "                        <td id=\"T_2aed1f8c_c0f1_11eb_a7b8_305a3a083b3frow3_col6\" class=\"data row3 col6\" >1898</td>\n",
       "            </tr>\n",
       "            <tr>\n",
       "                        <th id=\"T_2aed1f8c_c0f1_11eb_a7b8_305a3a083b3flevel0_row4\" class=\"row_heading level0 row4\" >true:Die Linke</th>\n",
       "                        <td id=\"T_2aed1f8c_c0f1_11eb_a7b8_305a3a083b3frow4_col0\" class=\"data row4 col0\" >393</td>\n",
       "                        <td id=\"T_2aed1f8c_c0f1_11eb_a7b8_305a3a083b3frow4_col1\" class=\"data row4 col1\" >880</td>\n",
       "                        <td id=\"T_2aed1f8c_c0f1_11eb_a7b8_305a3a083b3frow4_col2\" class=\"data row4 col2\" >596</td>\n",
       "                        <td id=\"T_2aed1f8c_c0f1_11eb_a7b8_305a3a083b3frow4_col3\" class=\"data row4 col3\" >221</td>\n",
       "                        <td id=\"T_2aed1f8c_c0f1_11eb_a7b8_305a3a083b3frow4_col4\" class=\"data row4 col4\" >8851</td>\n",
       "                        <td id=\"T_2aed1f8c_c0f1_11eb_a7b8_305a3a083b3frow4_col5\" class=\"data row4 col5\" >612</td>\n",
       "                        <td id=\"T_2aed1f8c_c0f1_11eb_a7b8_305a3a083b3frow4_col6\" class=\"data row4 col6\" >3522</td>\n",
       "            </tr>\n",
       "            <tr>\n",
       "                        <th id=\"T_2aed1f8c_c0f1_11eb_a7b8_305a3a083b3flevel0_row5\" class=\"row_heading level0 row5\" >true:FDP</th>\n",
       "                        <td id=\"T_2aed1f8c_c0f1_11eb_a7b8_305a3a083b3frow5_col0\" class=\"data row5 col0\" >752</td>\n",
       "                        <td id=\"T_2aed1f8c_c0f1_11eb_a7b8_305a3a083b3frow5_col1\" class=\"data row5 col1\" >1131</td>\n",
       "                        <td id=\"T_2aed1f8c_c0f1_11eb_a7b8_305a3a083b3frow5_col2\" class=\"data row5 col2\" >1122</td>\n",
       "                        <td id=\"T_2aed1f8c_c0f1_11eb_a7b8_305a3a083b3frow5_col3\" class=\"data row5 col3\" >354</td>\n",
       "                        <td id=\"T_2aed1f8c_c0f1_11eb_a7b8_305a3a083b3frow5_col4\" class=\"data row5 col4\" >694</td>\n",
       "                        <td id=\"T_2aed1f8c_c0f1_11eb_a7b8_305a3a083b3frow5_col5\" class=\"data row5 col5\" >7318</td>\n",
       "                        <td id=\"T_2aed1f8c_c0f1_11eb_a7b8_305a3a083b3frow5_col6\" class=\"data row5 col6\" >3592</td>\n",
       "            </tr>\n",
       "            <tr>\n",
       "                        <th id=\"T_2aed1f8c_c0f1_11eb_a7b8_305a3a083b3flevel0_row6\" class=\"row_heading level0 row6\" >true:SPD</th>\n",
       "                        <td id=\"T_2aed1f8c_c0f1_11eb_a7b8_305a3a083b3frow6_col0\" class=\"data row6 col0\" >555</td>\n",
       "                        <td id=\"T_2aed1f8c_c0f1_11eb_a7b8_305a3a083b3frow6_col1\" class=\"data row6 col1\" >1066</td>\n",
       "                        <td id=\"T_2aed1f8c_c0f1_11eb_a7b8_305a3a083b3frow6_col2\" class=\"data row6 col2\" >1142</td>\n",
       "                        <td id=\"T_2aed1f8c_c0f1_11eb_a7b8_305a3a083b3frow6_col3\" class=\"data row6 col3\" >415</td>\n",
       "                        <td id=\"T_2aed1f8c_c0f1_11eb_a7b8_305a3a083b3frow6_col4\" class=\"data row6 col4\" >863</td>\n",
       "                        <td id=\"T_2aed1f8c_c0f1_11eb_a7b8_305a3a083b3frow6_col5\" class=\"data row6 col5\" >992</td>\n",
       "                        <td id=\"T_2aed1f8c_c0f1_11eb_a7b8_305a3a083b3frow6_col6\" class=\"data row6 col6\" >9865</td>\n",
       "            </tr>\n",
       "    </tbody></table>"
      ],
      "text/plain": [
       "<pandas.io.formats.style.Styler at 0x1794a9fc520>"
      ]
     },
     "execution_count": 60,
     "metadata": {},
     "output_type": "execute_result"
    }
   ],
   "source": [
    "print(\"************************RandomForest confusion matrix (hashtags, max 50k)************************\")\n",
    "cm = pd.DataFrame(\n",
    "    confusion_matrix(y_test, predictionRF, labels=target_names),\n",
    "    index = [\"true:{:}\".format(x) for x in target_names],\n",
    "    columns = [\"pred:{:}\".format(x) for x in target_names]\n",
    ")\n",
    "cm.style.set_properties(**{'text-align': 'center'})"
   ]
  },
  {
   "cell_type": "markdown",
   "metadata": {},
   "source": [
    "# Gradient Boosting"
   ]
  },
  {
   "cell_type": "code",
   "execution_count": 61,
   "metadata": {},
   "outputs": [],
   "source": [
    "#ngram_range = how many words to consider, 1, 2 --> look at every seperate word, and a pair of 2 words: not good --> bad\n",
    "pipelineGB = Pipeline([(\"vect\", TfidfVectorizer(ngram_range=(1, 2), stop_words=None, sublinear_tf=True, max_df=0.75, lowercase = False)), \n",
    "                     (\"chi\", SelectKBest(chi2, k=10000)),\n",
    "                     (\"clf\", GradientBoostingClassifier(random_state = 111))])"
   ]
  },
  {
   "cell_type": "code",
   "execution_count": 62,
   "metadata": {},
   "outputs": [],
   "source": [
    "modelGB = pipelineGB.fit(X_train, y_train)"
   ]
  },
  {
   "cell_type": "code",
   "execution_count": 63,
   "metadata": {},
   "outputs": [],
   "source": [
    "vectorizerGB = modelGB.named_steps[\"vect\"]\n",
    "chiGB = modelGB.named_steps[\"chi\"]\n",
    "clfGB = modelGB.named_steps[\"clf\"]"
   ]
  },
  {
   "cell_type": "code",
   "execution_count": 64,
   "metadata": {},
   "outputs": [],
   "source": [
    "predictionGB = modelGB.predict(X_test)"
   ]
  },
  {
   "cell_type": "code",
   "execution_count": 65,
   "metadata": {},
   "outputs": [],
   "source": [
    "target_names = clfGB.classes_"
   ]
  },
  {
   "cell_type": "code",
   "execution_count": 66,
   "metadata": {},
   "outputs": [
    {
     "name": "stdout",
     "output_type": "stream",
     "text": [
      "******GradientBoosting classification report (hashtags, max 50k)******\n",
      "accuracy: 0.3938160267972172\n",
      "                       precision    recall  f1-score   support\n",
      "\n",
      "                  AfD     0.8098    0.5601    0.6622     14975\n",
      "Bündnis 90/Die Grünen     0.6112    0.2496    0.3545     15180\n",
      "                  CDU     0.7012    0.1878    0.2962     14958\n",
      "                  CSU     0.8038    0.2079    0.3303      6976\n",
      "            Die Linke     0.8376    0.2589    0.3955     15075\n",
      "                  FDP     0.6585    0.3097    0.4213     14963\n",
      "                  SPD     0.2103    0.8886    0.3400     14898\n",
      "\n",
      "             accuracy                         0.3938     97025\n",
      "            macro avg     0.6618    0.3804    0.4000     97025\n",
      "         weighted avg     0.6505    0.3938    0.4057     97025\n",
      "\n"
     ]
    }
   ],
   "source": [
    "print(\"******GradientBoosting classification report (hashtags, max 50k)******\")\n",
    "print(\"accuracy:\", accuracy_score(y_test, predictionGB))\n",
    "print(classification_report(y_test, predictionGB, target_names=target_names, digits=4))"
   ]
  },
  {
   "cell_type": "code",
   "execution_count": 67,
   "metadata": {},
   "outputs": [
    {
     "name": "stdout",
     "output_type": "stream",
     "text": [
      "************************GradientBoosing confusion matrix (hashtags, max 50k)************************\n"
     ]
    },
    {
     "data": {
      "text/html": [
       "<style  type=\"text/css\" >\n",
       "#T_7b795c56_c0f3_11eb_99c4_305a3a083b3frow0_col0,#T_7b795c56_c0f3_11eb_99c4_305a3a083b3frow0_col1,#T_7b795c56_c0f3_11eb_99c4_305a3a083b3frow0_col2,#T_7b795c56_c0f3_11eb_99c4_305a3a083b3frow0_col3,#T_7b795c56_c0f3_11eb_99c4_305a3a083b3frow0_col4,#T_7b795c56_c0f3_11eb_99c4_305a3a083b3frow0_col5,#T_7b795c56_c0f3_11eb_99c4_305a3a083b3frow0_col6,#T_7b795c56_c0f3_11eb_99c4_305a3a083b3frow1_col0,#T_7b795c56_c0f3_11eb_99c4_305a3a083b3frow1_col1,#T_7b795c56_c0f3_11eb_99c4_305a3a083b3frow1_col2,#T_7b795c56_c0f3_11eb_99c4_305a3a083b3frow1_col3,#T_7b795c56_c0f3_11eb_99c4_305a3a083b3frow1_col4,#T_7b795c56_c0f3_11eb_99c4_305a3a083b3frow1_col5,#T_7b795c56_c0f3_11eb_99c4_305a3a083b3frow1_col6,#T_7b795c56_c0f3_11eb_99c4_305a3a083b3frow2_col0,#T_7b795c56_c0f3_11eb_99c4_305a3a083b3frow2_col1,#T_7b795c56_c0f3_11eb_99c4_305a3a083b3frow2_col2,#T_7b795c56_c0f3_11eb_99c4_305a3a083b3frow2_col3,#T_7b795c56_c0f3_11eb_99c4_305a3a083b3frow2_col4,#T_7b795c56_c0f3_11eb_99c4_305a3a083b3frow2_col5,#T_7b795c56_c0f3_11eb_99c4_305a3a083b3frow2_col6,#T_7b795c56_c0f3_11eb_99c4_305a3a083b3frow3_col0,#T_7b795c56_c0f3_11eb_99c4_305a3a083b3frow3_col1,#T_7b795c56_c0f3_11eb_99c4_305a3a083b3frow3_col2,#T_7b795c56_c0f3_11eb_99c4_305a3a083b3frow3_col3,#T_7b795c56_c0f3_11eb_99c4_305a3a083b3frow3_col4,#T_7b795c56_c0f3_11eb_99c4_305a3a083b3frow3_col5,#T_7b795c56_c0f3_11eb_99c4_305a3a083b3frow3_col6,#T_7b795c56_c0f3_11eb_99c4_305a3a083b3frow4_col0,#T_7b795c56_c0f3_11eb_99c4_305a3a083b3frow4_col1,#T_7b795c56_c0f3_11eb_99c4_305a3a083b3frow4_col2,#T_7b795c56_c0f3_11eb_99c4_305a3a083b3frow4_col3,#T_7b795c56_c0f3_11eb_99c4_305a3a083b3frow4_col4,#T_7b795c56_c0f3_11eb_99c4_305a3a083b3frow4_col5,#T_7b795c56_c0f3_11eb_99c4_305a3a083b3frow4_col6,#T_7b795c56_c0f3_11eb_99c4_305a3a083b3frow5_col0,#T_7b795c56_c0f3_11eb_99c4_305a3a083b3frow5_col1,#T_7b795c56_c0f3_11eb_99c4_305a3a083b3frow5_col2,#T_7b795c56_c0f3_11eb_99c4_305a3a083b3frow5_col3,#T_7b795c56_c0f3_11eb_99c4_305a3a083b3frow5_col4,#T_7b795c56_c0f3_11eb_99c4_305a3a083b3frow5_col5,#T_7b795c56_c0f3_11eb_99c4_305a3a083b3frow5_col6,#T_7b795c56_c0f3_11eb_99c4_305a3a083b3frow6_col0,#T_7b795c56_c0f3_11eb_99c4_305a3a083b3frow6_col1,#T_7b795c56_c0f3_11eb_99c4_305a3a083b3frow6_col2,#T_7b795c56_c0f3_11eb_99c4_305a3a083b3frow6_col3,#T_7b795c56_c0f3_11eb_99c4_305a3a083b3frow6_col4,#T_7b795c56_c0f3_11eb_99c4_305a3a083b3frow6_col5,#T_7b795c56_c0f3_11eb_99c4_305a3a083b3frow6_col6{\n",
       "            text-align:  center;\n",
       "        }</style><table id=\"T_7b795c56_c0f3_11eb_99c4_305a3a083b3f\" ><thead>    <tr>        <th class=\"blank level0\" ></th>        <th class=\"col_heading level0 col0\" >pred:AfD</th>        <th class=\"col_heading level0 col1\" >pred:Bündnis 90/Die Grünen</th>        <th class=\"col_heading level0 col2\" >pred:CDU</th>        <th class=\"col_heading level0 col3\" >pred:CSU</th>        <th class=\"col_heading level0 col4\" >pred:Die Linke</th>        <th class=\"col_heading level0 col5\" >pred:FDP</th>        <th class=\"col_heading level0 col6\" >pred:SPD</th>    </tr></thead><tbody>\n",
       "                <tr>\n",
       "                        <th id=\"T_7b795c56_c0f3_11eb_99c4_305a3a083b3flevel0_row0\" class=\"row_heading level0 row0\" >true:AfD</th>\n",
       "                        <td id=\"T_7b795c56_c0f3_11eb_99c4_305a3a083b3frow0_col0\" class=\"data row0 col0\" >8387</td>\n",
       "                        <td id=\"T_7b795c56_c0f3_11eb_99c4_305a3a083b3frow0_col1\" class=\"data row0 col1\" >304</td>\n",
       "                        <td id=\"T_7b795c56_c0f3_11eb_99c4_305a3a083b3frow0_col2\" class=\"data row0 col2\" >261</td>\n",
       "                        <td id=\"T_7b795c56_c0f3_11eb_99c4_305a3a083b3frow0_col3\" class=\"data row0 col3\" >16</td>\n",
       "                        <td id=\"T_7b795c56_c0f3_11eb_99c4_305a3a083b3frow0_col4\" class=\"data row0 col4\" >84</td>\n",
       "                        <td id=\"T_7b795c56_c0f3_11eb_99c4_305a3a083b3frow0_col5\" class=\"data row0 col5\" >280</td>\n",
       "                        <td id=\"T_7b795c56_c0f3_11eb_99c4_305a3a083b3frow0_col6\" class=\"data row0 col6\" >5643</td>\n",
       "            </tr>\n",
       "            <tr>\n",
       "                        <th id=\"T_7b795c56_c0f3_11eb_99c4_305a3a083b3flevel0_row1\" class=\"row_heading level0 row1\" >true:Bündnis 90/Die Grünen</th>\n",
       "                        <td id=\"T_7b795c56_c0f3_11eb_99c4_305a3a083b3frow1_col0\" class=\"data row1 col0\" >386</td>\n",
       "                        <td id=\"T_7b795c56_c0f3_11eb_99c4_305a3a083b3frow1_col1\" class=\"data row1 col1\" >3789</td>\n",
       "                        <td id=\"T_7b795c56_c0f3_11eb_99c4_305a3a083b3frow1_col2\" class=\"data row1 col2\" >204</td>\n",
       "                        <td id=\"T_7b795c56_c0f3_11eb_99c4_305a3a083b3frow1_col3\" class=\"data row1 col3\" >108</td>\n",
       "                        <td id=\"T_7b795c56_c0f3_11eb_99c4_305a3a083b3frow1_col4\" class=\"data row1 col4\" >156</td>\n",
       "                        <td id=\"T_7b795c56_c0f3_11eb_99c4_305a3a083b3frow1_col5\" class=\"data row1 col5\" >659</td>\n",
       "                        <td id=\"T_7b795c56_c0f3_11eb_99c4_305a3a083b3frow1_col6\" class=\"data row1 col6\" >9878</td>\n",
       "            </tr>\n",
       "            <tr>\n",
       "                        <th id=\"T_7b795c56_c0f3_11eb_99c4_305a3a083b3flevel0_row2\" class=\"row_heading level0 row2\" >true:CDU</th>\n",
       "                        <td id=\"T_7b795c56_c0f3_11eb_99c4_305a3a083b3frow2_col0\" class=\"data row2 col0\" >419</td>\n",
       "                        <td id=\"T_7b795c56_c0f3_11eb_99c4_305a3a083b3frow2_col1\" class=\"data row2 col1\" >455</td>\n",
       "                        <td id=\"T_7b795c56_c0f3_11eb_99c4_305a3a083b3frow2_col2\" class=\"data row2 col2\" >2809</td>\n",
       "                        <td id=\"T_7b795c56_c0f3_11eb_99c4_305a3a083b3frow2_col3\" class=\"data row2 col3\" >71</td>\n",
       "                        <td id=\"T_7b795c56_c0f3_11eb_99c4_305a3a083b3frow2_col4\" class=\"data row2 col4\" >135</td>\n",
       "                        <td id=\"T_7b795c56_c0f3_11eb_99c4_305a3a083b3frow2_col5\" class=\"data row2 col5\" >464</td>\n",
       "                        <td id=\"T_7b795c56_c0f3_11eb_99c4_305a3a083b3frow2_col6\" class=\"data row2 col6\" >10605</td>\n",
       "            </tr>\n",
       "            <tr>\n",
       "                        <th id=\"T_7b795c56_c0f3_11eb_99c4_305a3a083b3flevel0_row3\" class=\"row_heading level0 row3\" >true:CSU</th>\n",
       "                        <td id=\"T_7b795c56_c0f3_11eb_99c4_305a3a083b3frow3_col0\" class=\"data row3 col0\" >131</td>\n",
       "                        <td id=\"T_7b795c56_c0f3_11eb_99c4_305a3a083b3frow3_col1\" class=\"data row3 col1\" >416</td>\n",
       "                        <td id=\"T_7b795c56_c0f3_11eb_99c4_305a3a083b3frow3_col2\" class=\"data row3 col2\" >98</td>\n",
       "                        <td id=\"T_7b795c56_c0f3_11eb_99c4_305a3a083b3frow3_col3\" class=\"data row3 col3\" >1450</td>\n",
       "                        <td id=\"T_7b795c56_c0f3_11eb_99c4_305a3a083b3frow3_col4\" class=\"data row3 col4\" >103</td>\n",
       "                        <td id=\"T_7b795c56_c0f3_11eb_99c4_305a3a083b3frow3_col5\" class=\"data row3 col5\" >265</td>\n",
       "                        <td id=\"T_7b795c56_c0f3_11eb_99c4_305a3a083b3frow3_col6\" class=\"data row3 col6\" >4513</td>\n",
       "            </tr>\n",
       "            <tr>\n",
       "                        <th id=\"T_7b795c56_c0f3_11eb_99c4_305a3a083b3flevel0_row4\" class=\"row_heading level0 row4\" >true:Die Linke</th>\n",
       "                        <td id=\"T_7b795c56_c0f3_11eb_99c4_305a3a083b3frow4_col0\" class=\"data row4 col0\" >233</td>\n",
       "                        <td id=\"T_7b795c56_c0f3_11eb_99c4_305a3a083b3frow4_col1\" class=\"data row4 col1\" >366</td>\n",
       "                        <td id=\"T_7b795c56_c0f3_11eb_99c4_305a3a083b3frow4_col2\" class=\"data row4 col2\" >117</td>\n",
       "                        <td id=\"T_7b795c56_c0f3_11eb_99c4_305a3a083b3frow4_col3\" class=\"data row4 col3\" >40</td>\n",
       "                        <td id=\"T_7b795c56_c0f3_11eb_99c4_305a3a083b3frow4_col4\" class=\"data row4 col4\" >3903</td>\n",
       "                        <td id=\"T_7b795c56_c0f3_11eb_99c4_305a3a083b3frow4_col5\" class=\"data row4 col5\" >288</td>\n",
       "                        <td id=\"T_7b795c56_c0f3_11eb_99c4_305a3a083b3frow4_col6\" class=\"data row4 col6\" >10128</td>\n",
       "            </tr>\n",
       "            <tr>\n",
       "                        <th id=\"T_7b795c56_c0f3_11eb_99c4_305a3a083b3flevel0_row5\" class=\"row_heading level0 row5\" >true:FDP</th>\n",
       "                        <td id=\"T_7b795c56_c0f3_11eb_99c4_305a3a083b3frow5_col0\" class=\"data row5 col0\" >447</td>\n",
       "                        <td id=\"T_7b795c56_c0f3_11eb_99c4_305a3a083b3frow5_col1\" class=\"data row5 col1\" >508</td>\n",
       "                        <td id=\"T_7b795c56_c0f3_11eb_99c4_305a3a083b3frow5_col2\" class=\"data row5 col2\" >225</td>\n",
       "                        <td id=\"T_7b795c56_c0f3_11eb_99c4_305a3a083b3frow5_col3\" class=\"data row5 col3\" >54</td>\n",
       "                        <td id=\"T_7b795c56_c0f3_11eb_99c4_305a3a083b3frow5_col4\" class=\"data row5 col4\" >138</td>\n",
       "                        <td id=\"T_7b795c56_c0f3_11eb_99c4_305a3a083b3frow5_col5\" class=\"data row5 col5\" >4634</td>\n",
       "                        <td id=\"T_7b795c56_c0f3_11eb_99c4_305a3a083b3frow5_col6\" class=\"data row5 col6\" >8957</td>\n",
       "            </tr>\n",
       "            <tr>\n",
       "                        <th id=\"T_7b795c56_c0f3_11eb_99c4_305a3a083b3flevel0_row6\" class=\"row_heading level0 row6\" >true:SPD</th>\n",
       "                        <td id=\"T_7b795c56_c0f3_11eb_99c4_305a3a083b3frow6_col0\" class=\"data row6 col0\" >354</td>\n",
       "                        <td id=\"T_7b795c56_c0f3_11eb_99c4_305a3a083b3frow6_col1\" class=\"data row6 col1\" >361</td>\n",
       "                        <td id=\"T_7b795c56_c0f3_11eb_99c4_305a3a083b3frow6_col2\" class=\"data row6 col2\" >292</td>\n",
       "                        <td id=\"T_7b795c56_c0f3_11eb_99c4_305a3a083b3frow6_col3\" class=\"data row6 col3\" >65</td>\n",
       "                        <td id=\"T_7b795c56_c0f3_11eb_99c4_305a3a083b3frow6_col4\" class=\"data row6 col4\" >141</td>\n",
       "                        <td id=\"T_7b795c56_c0f3_11eb_99c4_305a3a083b3frow6_col5\" class=\"data row6 col5\" >447</td>\n",
       "                        <td id=\"T_7b795c56_c0f3_11eb_99c4_305a3a083b3frow6_col6\" class=\"data row6 col6\" >13238</td>\n",
       "            </tr>\n",
       "    </tbody></table>"
      ],
      "text/plain": [
       "<pandas.io.formats.style.Styler at 0x1794aa1d910>"
      ]
     },
     "execution_count": 67,
     "metadata": {},
     "output_type": "execute_result"
    }
   ],
   "source": [
    "print(\"************************GradientBoosing confusion matrix (hashtags, max 50k)************************\")\n",
    "cm = pd.DataFrame(\n",
    "    confusion_matrix(y_test, predictionGB, labels=target_names),\n",
    "    index = [\"true:{:}\".format(x) for x in target_names],\n",
    "    columns = [\"pred:{:}\".format(x) for x in target_names]\n",
    ")\n",
    "cm.style.set_properties(**{'text-align': 'center'})"
   ]
  },
  {
   "cell_type": "markdown",
   "metadata": {},
   "source": [
    "# KNN"
   ]
  },
  {
   "cell_type": "code",
   "execution_count": 48,
   "metadata": {},
   "outputs": [],
   "source": [
    "#ngram_range = how many words to consider, 1, 2 --> look at every seperate word, and a pair of 2 words: not good --> bad\n",
    "pipelineKNN = Pipeline([(\"vect\", TfidfVectorizer(ngram_range=(1, 2), stop_words=None, sublinear_tf=True, max_df=0.75, lowercase = False)), \n",
    "                     (\"chi\", SelectKBest(chi2, k=10000)),\n",
    "                     (\"clf\", KNeighborsClassifier())])"
   ]
  },
  {
   "cell_type": "code",
   "execution_count": 49,
   "metadata": {},
   "outputs": [],
   "source": [
    "modelKNN = pipelineKNN.fit(X_train, y_train)"
   ]
  },
  {
   "cell_type": "code",
   "execution_count": 50,
   "metadata": {},
   "outputs": [],
   "source": [
    "vectorizerKNN = modelKNN.named_steps[\"vect\"]\n",
    "chiKNN = modelKNN.named_steps[\"chi\"]\n",
    "clfKNN = modelKNN.named_steps[\"clf\"]"
   ]
  },
  {
   "cell_type": "code",
   "execution_count": 51,
   "metadata": {},
   "outputs": [],
   "source": [
    "predictionKNN = modelKNN.predict(X_test)"
   ]
  },
  {
   "cell_type": "code",
   "execution_count": 52,
   "metadata": {},
   "outputs": [
    {
     "name": "stdout",
     "output_type": "stream",
     "text": [
      "***************KNeighbors classification report (hashtags, max 50k)***************\n",
      "accuracy: 0.49612986343725846\n",
      "                       precision    recall  f1-score   support\n",
      "\n",
      "                  AfD     0.3356    0.7761    0.4686     14975\n",
      "Bündnis 90/Die Grünen     0.5211    0.5018    0.5112     15180\n",
      "                  CDU     0.5000    0.3898    0.4381     14958\n",
      "                  CSU     0.5662    0.3813    0.4557      6976\n",
      "            Die Linke     0.7283    0.5687    0.6387     15075\n",
      "                  FDP     0.6073    0.4575    0.5219     14963\n",
      "                  SPD     0.5957    0.3348    0.4287     14898\n",
      "\n",
      "             accuracy                         0.4961     97025\n",
      "            macro avg     0.5506    0.4871    0.4947     97025\n",
      "         weighted avg     0.5494    0.4961    0.4982     97025\n",
      "\n"
     ]
    }
   ],
   "source": [
    "print(\"***************KNeighbors classification report (hashtags, max 50k)***************\")\n",
    "print(\"accuracy:\", accuracy_score(y_test, predictionKNN))\n",
    "print(classification_report(y_test, predictionKNN, target_names=target_names, digits=4))"
   ]
  },
  {
   "cell_type": "code",
   "execution_count": 53,
   "metadata": {},
   "outputs": [
    {
     "name": "stdout",
     "output_type": "stream",
     "text": [
      "***KNeighbors confusion matrix (hashtags, max 50k)***\n"
     ]
    },
    {
     "data": {
      "text/html": [
       "<style  type=\"text/css\" >\n",
       "#T_31d2a140_c0eb_11eb_b322_305a3a083b3frow0_col0,#T_31d2a140_c0eb_11eb_b322_305a3a083b3frow0_col1,#T_31d2a140_c0eb_11eb_b322_305a3a083b3frow0_col2,#T_31d2a140_c0eb_11eb_b322_305a3a083b3frow0_col3,#T_31d2a140_c0eb_11eb_b322_305a3a083b3frow0_col4,#T_31d2a140_c0eb_11eb_b322_305a3a083b3frow0_col5,#T_31d2a140_c0eb_11eb_b322_305a3a083b3frow0_col6,#T_31d2a140_c0eb_11eb_b322_305a3a083b3frow1_col0,#T_31d2a140_c0eb_11eb_b322_305a3a083b3frow1_col1,#T_31d2a140_c0eb_11eb_b322_305a3a083b3frow1_col2,#T_31d2a140_c0eb_11eb_b322_305a3a083b3frow1_col3,#T_31d2a140_c0eb_11eb_b322_305a3a083b3frow1_col4,#T_31d2a140_c0eb_11eb_b322_305a3a083b3frow1_col5,#T_31d2a140_c0eb_11eb_b322_305a3a083b3frow1_col6,#T_31d2a140_c0eb_11eb_b322_305a3a083b3frow2_col0,#T_31d2a140_c0eb_11eb_b322_305a3a083b3frow2_col1,#T_31d2a140_c0eb_11eb_b322_305a3a083b3frow2_col2,#T_31d2a140_c0eb_11eb_b322_305a3a083b3frow2_col3,#T_31d2a140_c0eb_11eb_b322_305a3a083b3frow2_col4,#T_31d2a140_c0eb_11eb_b322_305a3a083b3frow2_col5,#T_31d2a140_c0eb_11eb_b322_305a3a083b3frow2_col6,#T_31d2a140_c0eb_11eb_b322_305a3a083b3frow3_col0,#T_31d2a140_c0eb_11eb_b322_305a3a083b3frow3_col1,#T_31d2a140_c0eb_11eb_b322_305a3a083b3frow3_col2,#T_31d2a140_c0eb_11eb_b322_305a3a083b3frow3_col3,#T_31d2a140_c0eb_11eb_b322_305a3a083b3frow3_col4,#T_31d2a140_c0eb_11eb_b322_305a3a083b3frow3_col5,#T_31d2a140_c0eb_11eb_b322_305a3a083b3frow3_col6,#T_31d2a140_c0eb_11eb_b322_305a3a083b3frow4_col0,#T_31d2a140_c0eb_11eb_b322_305a3a083b3frow4_col1,#T_31d2a140_c0eb_11eb_b322_305a3a083b3frow4_col2,#T_31d2a140_c0eb_11eb_b322_305a3a083b3frow4_col3,#T_31d2a140_c0eb_11eb_b322_305a3a083b3frow4_col4,#T_31d2a140_c0eb_11eb_b322_305a3a083b3frow4_col5,#T_31d2a140_c0eb_11eb_b322_305a3a083b3frow4_col6,#T_31d2a140_c0eb_11eb_b322_305a3a083b3frow5_col0,#T_31d2a140_c0eb_11eb_b322_305a3a083b3frow5_col1,#T_31d2a140_c0eb_11eb_b322_305a3a083b3frow5_col2,#T_31d2a140_c0eb_11eb_b322_305a3a083b3frow5_col3,#T_31d2a140_c0eb_11eb_b322_305a3a083b3frow5_col4,#T_31d2a140_c0eb_11eb_b322_305a3a083b3frow5_col5,#T_31d2a140_c0eb_11eb_b322_305a3a083b3frow5_col6,#T_31d2a140_c0eb_11eb_b322_305a3a083b3frow6_col0,#T_31d2a140_c0eb_11eb_b322_305a3a083b3frow6_col1,#T_31d2a140_c0eb_11eb_b322_305a3a083b3frow6_col2,#T_31d2a140_c0eb_11eb_b322_305a3a083b3frow6_col3,#T_31d2a140_c0eb_11eb_b322_305a3a083b3frow6_col4,#T_31d2a140_c0eb_11eb_b322_305a3a083b3frow6_col5,#T_31d2a140_c0eb_11eb_b322_305a3a083b3frow6_col6{\n",
       "            text-align:  center;\n",
       "        }</style><table id=\"T_31d2a140_c0eb_11eb_b322_305a3a083b3f\" ><thead>    <tr>        <th class=\"blank level0\" ></th>        <th class=\"col_heading level0 col0\" >pred:AfD</th>        <th class=\"col_heading level0 col1\" >pred:Bündnis 90/Die Grünen</th>        <th class=\"col_heading level0 col2\" >pred:CDU</th>        <th class=\"col_heading level0 col3\" >pred:CSU</th>        <th class=\"col_heading level0 col4\" >pred:Die Linke</th>        <th class=\"col_heading level0 col5\" >pred:FDP</th>        <th class=\"col_heading level0 col6\" >pred:SPD</th>    </tr></thead><tbody>\n",
       "                <tr>\n",
       "                        <th id=\"T_31d2a140_c0eb_11eb_b322_305a3a083b3flevel0_row0\" class=\"row_heading level0 row0\" >true:AfD</th>\n",
       "                        <td id=\"T_31d2a140_c0eb_11eb_b322_305a3a083b3frow0_col0\" class=\"data row0 col0\" >11622</td>\n",
       "                        <td id=\"T_31d2a140_c0eb_11eb_b322_305a3a083b3frow0_col1\" class=\"data row0 col1\" >851</td>\n",
       "                        <td id=\"T_31d2a140_c0eb_11eb_b322_305a3a083b3frow0_col2\" class=\"data row0 col2\" >814</td>\n",
       "                        <td id=\"T_31d2a140_c0eb_11eb_b322_305a3a083b3frow0_col3\" class=\"data row0 col3\" >168</td>\n",
       "                        <td id=\"T_31d2a140_c0eb_11eb_b322_305a3a083b3frow0_col4\" class=\"data row0 col4\" >337</td>\n",
       "                        <td id=\"T_31d2a140_c0eb_11eb_b322_305a3a083b3frow0_col5\" class=\"data row0 col5\" >704</td>\n",
       "                        <td id=\"T_31d2a140_c0eb_11eb_b322_305a3a083b3frow0_col6\" class=\"data row0 col6\" >479</td>\n",
       "            </tr>\n",
       "            <tr>\n",
       "                        <th id=\"T_31d2a140_c0eb_11eb_b322_305a3a083b3flevel0_row1\" class=\"row_heading level0 row1\" >true:Bündnis 90/Die Grünen</th>\n",
       "                        <td id=\"T_31d2a140_c0eb_11eb_b322_305a3a083b3frow1_col0\" class=\"data row1 col0\" >4023</td>\n",
       "                        <td id=\"T_31d2a140_c0eb_11eb_b322_305a3a083b3frow1_col1\" class=\"data row1 col1\" >7617</td>\n",
       "                        <td id=\"T_31d2a140_c0eb_11eb_b322_305a3a083b3frow1_col2\" class=\"data row1 col2\" >895</td>\n",
       "                        <td id=\"T_31d2a140_c0eb_11eb_b322_305a3a083b3frow1_col3\" class=\"data row1 col3\" >417</td>\n",
       "                        <td id=\"T_31d2a140_c0eb_11eb_b322_305a3a083b3frow1_col4\" class=\"data row1 col4\" >630</td>\n",
       "                        <td id=\"T_31d2a140_c0eb_11eb_b322_305a3a083b3frow1_col5\" class=\"data row1 col5\" >862</td>\n",
       "                        <td id=\"T_31d2a140_c0eb_11eb_b322_305a3a083b3frow1_col6\" class=\"data row1 col6\" >736</td>\n",
       "            </tr>\n",
       "            <tr>\n",
       "                        <th id=\"T_31d2a140_c0eb_11eb_b322_305a3a083b3flevel0_row2\" class=\"row_heading level0 row2\" >true:CDU</th>\n",
       "                        <td id=\"T_31d2a140_c0eb_11eb_b322_305a3a083b3frow2_col0\" class=\"data row2 col0\" >5012</td>\n",
       "                        <td id=\"T_31d2a140_c0eb_11eb_b322_305a3a083b3frow2_col1\" class=\"data row2 col1\" >1480</td>\n",
       "                        <td id=\"T_31d2a140_c0eb_11eb_b322_305a3a083b3frow2_col2\" class=\"data row2 col2\" >5831</td>\n",
       "                        <td id=\"T_31d2a140_c0eb_11eb_b322_305a3a083b3frow2_col3\" class=\"data row2 col3\" >409</td>\n",
       "                        <td id=\"T_31d2a140_c0eb_11eb_b322_305a3a083b3frow2_col4\" class=\"data row2 col4\" >543</td>\n",
       "                        <td id=\"T_31d2a140_c0eb_11eb_b322_305a3a083b3frow2_col5\" class=\"data row2 col5\" >933</td>\n",
       "                        <td id=\"T_31d2a140_c0eb_11eb_b322_305a3a083b3frow2_col6\" class=\"data row2 col6\" >750</td>\n",
       "            </tr>\n",
       "            <tr>\n",
       "                        <th id=\"T_31d2a140_c0eb_11eb_b322_305a3a083b3flevel0_row3\" class=\"row_heading level0 row3\" >true:CSU</th>\n",
       "                        <td id=\"T_31d2a140_c0eb_11eb_b322_305a3a083b3frow3_col0\" class=\"data row3 col0\" >1833</td>\n",
       "                        <td id=\"T_31d2a140_c0eb_11eb_b322_305a3a083b3frow3_col1\" class=\"data row3 col1\" >788</td>\n",
       "                        <td id=\"T_31d2a140_c0eb_11eb_b322_305a3a083b3frow3_col2\" class=\"data row3 col2\" >641</td>\n",
       "                        <td id=\"T_31d2a140_c0eb_11eb_b322_305a3a083b3frow3_col3\" class=\"data row3 col3\" >2660</td>\n",
       "                        <td id=\"T_31d2a140_c0eb_11eb_b322_305a3a083b3frow3_col4\" class=\"data row3 col4\" >265</td>\n",
       "                        <td id=\"T_31d2a140_c0eb_11eb_b322_305a3a083b3frow3_col5\" class=\"data row3 col5\" >527</td>\n",
       "                        <td id=\"T_31d2a140_c0eb_11eb_b322_305a3a083b3frow3_col6\" class=\"data row3 col6\" >262</td>\n",
       "            </tr>\n",
       "            <tr>\n",
       "                        <th id=\"T_31d2a140_c0eb_11eb_b322_305a3a083b3flevel0_row4\" class=\"row_heading level0 row4\" >true:Die Linke</th>\n",
       "                        <td id=\"T_31d2a140_c0eb_11eb_b322_305a3a083b3frow4_col0\" class=\"data row4 col0\" >3454</td>\n",
       "                        <td id=\"T_31d2a140_c0eb_11eb_b322_305a3a083b3frow4_col1\" class=\"data row4 col1\" >1148</td>\n",
       "                        <td id=\"T_31d2a140_c0eb_11eb_b322_305a3a083b3frow4_col2\" class=\"data row4 col2\" >600</td>\n",
       "                        <td id=\"T_31d2a140_c0eb_11eb_b322_305a3a083b3frow4_col3\" class=\"data row4 col3\" >250</td>\n",
       "                        <td id=\"T_31d2a140_c0eb_11eb_b322_305a3a083b3frow4_col4\" class=\"data row4 col4\" >8573</td>\n",
       "                        <td id=\"T_31d2a140_c0eb_11eb_b322_305a3a083b3frow4_col5\" class=\"data row4 col5\" >521</td>\n",
       "                        <td id=\"T_31d2a140_c0eb_11eb_b322_305a3a083b3frow4_col6\" class=\"data row4 col6\" >529</td>\n",
       "            </tr>\n",
       "            <tr>\n",
       "                        <th id=\"T_31d2a140_c0eb_11eb_b322_305a3a083b3flevel0_row5\" class=\"row_heading level0 row5\" >true:FDP</th>\n",
       "                        <td id=\"T_31d2a140_c0eb_11eb_b322_305a3a083b3frow5_col0\" class=\"data row5 col0\" >3825</td>\n",
       "                        <td id=\"T_31d2a140_c0eb_11eb_b322_305a3a083b3frow5_col1\" class=\"data row5 col1\" >1326</td>\n",
       "                        <td id=\"T_31d2a140_c0eb_11eb_b322_305a3a083b3frow5_col2\" class=\"data row5 col2\" >1298</td>\n",
       "                        <td id=\"T_31d2a140_c0eb_11eb_b322_305a3a083b3frow5_col3\" class=\"data row5 col3\" >416</td>\n",
       "                        <td id=\"T_31d2a140_c0eb_11eb_b322_305a3a083b3frow5_col4\" class=\"data row5 col4\" >623</td>\n",
       "                        <td id=\"T_31d2a140_c0eb_11eb_b322_305a3a083b3frow5_col5\" class=\"data row5 col5\" >6846</td>\n",
       "                        <td id=\"T_31d2a140_c0eb_11eb_b322_305a3a083b3frow5_col6\" class=\"data row5 col6\" >629</td>\n",
       "            </tr>\n",
       "            <tr>\n",
       "                        <th id=\"T_31d2a140_c0eb_11eb_b322_305a3a083b3flevel0_row6\" class=\"row_heading level0 row6\" >true:SPD</th>\n",
       "                        <td id=\"T_31d2a140_c0eb_11eb_b322_305a3a083b3frow6_col0\" class=\"data row6 col0\" >4861</td>\n",
       "                        <td id=\"T_31d2a140_c0eb_11eb_b322_305a3a083b3frow6_col1\" class=\"data row6 col1\" >1408</td>\n",
       "                        <td id=\"T_31d2a140_c0eb_11eb_b322_305a3a083b3frow6_col2\" class=\"data row6 col2\" >1584</td>\n",
       "                        <td id=\"T_31d2a140_c0eb_11eb_b322_305a3a083b3frow6_col3\" class=\"data row6 col3\" >378</td>\n",
       "                        <td id=\"T_31d2a140_c0eb_11eb_b322_305a3a083b3frow6_col4\" class=\"data row6 col4\" >800</td>\n",
       "                        <td id=\"T_31d2a140_c0eb_11eb_b322_305a3a083b3frow6_col5\" class=\"data row6 col5\" >879</td>\n",
       "                        <td id=\"T_31d2a140_c0eb_11eb_b322_305a3a083b3frow6_col6\" class=\"data row6 col6\" >4988</td>\n",
       "            </tr>\n",
       "    </tbody></table>"
      ],
      "text/plain": [
       "<pandas.io.formats.style.Styler at 0x1794aa1d430>"
      ]
     },
     "execution_count": 53,
     "metadata": {},
     "output_type": "execute_result"
    }
   ],
   "source": [
    "print(\"***KNeighbors confusion matrix (hashtags, max 50k)***\")\n",
    "cm = pd.DataFrame(\n",
    "    confusion_matrix(y_test, predictionKNN, labels=target_names),\n",
    "    index = [\"true:{:}\".format(x) for x in target_names],\n",
    "    columns = [\"pred:{:}\".format(x) for x in target_names]\n",
    ")\n",
    "cm.style.set_properties(**{'text-align': 'center'})"
   ]
  },
  {
   "cell_type": "markdown",
   "metadata": {},
   "source": [
    "# Multilayer Perceptron Classifier"
   ]
  },
  {
   "cell_type": "code",
   "execution_count": 39,
   "metadata": {},
   "outputs": [],
   "source": [
    "#ngram_range = how many words to consider, 1, 2 --> look at every seperate word, and a pair of 2 words: not good --> bad\n",
    "pipelineMLP = Pipeline([(\"vect\", TfidfVectorizer(ngram_range=(1, 2), stop_words=None, sublinear_tf=True, max_df=0.75, lowercase = False)), \n",
    "                     (\"chi\", SelectKBest(chi2, k=10000)),\n",
    "                     #(\"clf\", MLPClassifier(max_iter = 6000, random_state = 111))])\n",
    "                     (\"clf\", MLPClassifier(hidden_layer_sizes=(7,7), max_iter = 6000, random_state = 111))])"
   ]
  },
  {
   "cell_type": "code",
   "execution_count": 40,
   "metadata": {},
   "outputs": [],
   "source": [
    "modelMLP = pipelineMLP.fit(X_train, y_train)"
   ]
  },
  {
   "cell_type": "code",
   "execution_count": 41,
   "metadata": {},
   "outputs": [],
   "source": [
    "vectorizerMLP = modelMLP.named_steps[\"vect\"]\n",
    "chiMLP = modelMLP.named_steps[\"chi\"]\n",
    "clfMLP = modelMLP.named_steps[\"clf\"]"
   ]
  },
  {
   "cell_type": "code",
   "execution_count": 42,
   "metadata": {},
   "outputs": [],
   "source": [
    "predictionMLP = modelMLP.predict(X_test)"
   ]
  },
  {
   "cell_type": "code",
   "execution_count": 43,
   "metadata": {},
   "outputs": [
    {
     "name": "stdout",
     "output_type": "stream",
     "text": [
      "number of layers: 4\n"
     ]
    }
   ],
   "source": [
    "print(\"number of layers:\", clfMLP.n_layers_)"
   ]
  },
  {
   "cell_type": "code",
   "execution_count": 44,
   "metadata": {},
   "outputs": [],
   "source": [
    "target_names = clfMLP.classes_"
   ]
  },
  {
   "cell_type": "code",
   "execution_count": 45,
   "metadata": {},
   "outputs": [
    {
     "name": "stdout",
     "output_type": "stream",
     "text": [
      "******Multilayer Perceptron classification report (hashtags, max 50k)******\n",
      "accuracy: 0.5473743880443185\n",
      "                       precision    recall  f1-score   support\n",
      "\n",
      "                  AfD     0.7323    0.7123    0.7221     14975\n",
      "Bündnis 90/Die Grünen     0.5457    0.5238    0.5346     15180\n",
      "                  CDU     0.3157    0.6487    0.4247     14958\n",
      "                  CSU     0.6556    0.4022    0.4986      6976\n",
      "            Die Linke     0.7533    0.5932    0.6637     15075\n",
      "                  FDP     0.6099    0.5006    0.5498     14963\n",
      "                  SPD     0.6366    0.3725    0.4700     14898\n",
      "\n",
      "             accuracy                         0.5474     97025\n",
      "            macro avg     0.6070    0.5362    0.5519     97025\n",
      "         weighted avg     0.6030    0.5474    0.5565     97025\n",
      "\n"
     ]
    }
   ],
   "source": [
    "print(\"******Multilayer Perceptron classification report (hashtags, max 50k)******\")\n",
    "print(\"accuracy:\", accuracy_score(y_test, predictionMLP))\n",
    "print(classification_report(y_test, predictionMLP, target_names=target_names, digits=4))"
   ]
  },
  {
   "cell_type": "code",
   "execution_count": 46,
   "metadata": {},
   "outputs": [
    {
     "name": "stdout",
     "output_type": "stream",
     "text": [
      "***Multilayer Perceptron (two hidden layer, each has 7 neurons) confusion matrix (hashtags, max 50k)***\n"
     ]
    },
    {
     "data": {
      "text/html": [
       "<style  type=\"text/css\" >\n",
       "#T_9edb0128_c0e7_11eb_8e7b_305a3a083b3frow0_col0,#T_9edb0128_c0e7_11eb_8e7b_305a3a083b3frow0_col1,#T_9edb0128_c0e7_11eb_8e7b_305a3a083b3frow0_col2,#T_9edb0128_c0e7_11eb_8e7b_305a3a083b3frow0_col3,#T_9edb0128_c0e7_11eb_8e7b_305a3a083b3frow0_col4,#T_9edb0128_c0e7_11eb_8e7b_305a3a083b3frow0_col5,#T_9edb0128_c0e7_11eb_8e7b_305a3a083b3frow0_col6,#T_9edb0128_c0e7_11eb_8e7b_305a3a083b3frow1_col0,#T_9edb0128_c0e7_11eb_8e7b_305a3a083b3frow1_col1,#T_9edb0128_c0e7_11eb_8e7b_305a3a083b3frow1_col2,#T_9edb0128_c0e7_11eb_8e7b_305a3a083b3frow1_col3,#T_9edb0128_c0e7_11eb_8e7b_305a3a083b3frow1_col4,#T_9edb0128_c0e7_11eb_8e7b_305a3a083b3frow1_col5,#T_9edb0128_c0e7_11eb_8e7b_305a3a083b3frow1_col6,#T_9edb0128_c0e7_11eb_8e7b_305a3a083b3frow2_col0,#T_9edb0128_c0e7_11eb_8e7b_305a3a083b3frow2_col1,#T_9edb0128_c0e7_11eb_8e7b_305a3a083b3frow2_col2,#T_9edb0128_c0e7_11eb_8e7b_305a3a083b3frow2_col3,#T_9edb0128_c0e7_11eb_8e7b_305a3a083b3frow2_col4,#T_9edb0128_c0e7_11eb_8e7b_305a3a083b3frow2_col5,#T_9edb0128_c0e7_11eb_8e7b_305a3a083b3frow2_col6,#T_9edb0128_c0e7_11eb_8e7b_305a3a083b3frow3_col0,#T_9edb0128_c0e7_11eb_8e7b_305a3a083b3frow3_col1,#T_9edb0128_c0e7_11eb_8e7b_305a3a083b3frow3_col2,#T_9edb0128_c0e7_11eb_8e7b_305a3a083b3frow3_col3,#T_9edb0128_c0e7_11eb_8e7b_305a3a083b3frow3_col4,#T_9edb0128_c0e7_11eb_8e7b_305a3a083b3frow3_col5,#T_9edb0128_c0e7_11eb_8e7b_305a3a083b3frow3_col6,#T_9edb0128_c0e7_11eb_8e7b_305a3a083b3frow4_col0,#T_9edb0128_c0e7_11eb_8e7b_305a3a083b3frow4_col1,#T_9edb0128_c0e7_11eb_8e7b_305a3a083b3frow4_col2,#T_9edb0128_c0e7_11eb_8e7b_305a3a083b3frow4_col3,#T_9edb0128_c0e7_11eb_8e7b_305a3a083b3frow4_col4,#T_9edb0128_c0e7_11eb_8e7b_305a3a083b3frow4_col5,#T_9edb0128_c0e7_11eb_8e7b_305a3a083b3frow4_col6,#T_9edb0128_c0e7_11eb_8e7b_305a3a083b3frow5_col0,#T_9edb0128_c0e7_11eb_8e7b_305a3a083b3frow5_col1,#T_9edb0128_c0e7_11eb_8e7b_305a3a083b3frow5_col2,#T_9edb0128_c0e7_11eb_8e7b_305a3a083b3frow5_col3,#T_9edb0128_c0e7_11eb_8e7b_305a3a083b3frow5_col4,#T_9edb0128_c0e7_11eb_8e7b_305a3a083b3frow5_col5,#T_9edb0128_c0e7_11eb_8e7b_305a3a083b3frow5_col6,#T_9edb0128_c0e7_11eb_8e7b_305a3a083b3frow6_col0,#T_9edb0128_c0e7_11eb_8e7b_305a3a083b3frow6_col1,#T_9edb0128_c0e7_11eb_8e7b_305a3a083b3frow6_col2,#T_9edb0128_c0e7_11eb_8e7b_305a3a083b3frow6_col3,#T_9edb0128_c0e7_11eb_8e7b_305a3a083b3frow6_col4,#T_9edb0128_c0e7_11eb_8e7b_305a3a083b3frow6_col5,#T_9edb0128_c0e7_11eb_8e7b_305a3a083b3frow6_col6{\n",
       "            text-align:  center;\n",
       "        }</style><table id=\"T_9edb0128_c0e7_11eb_8e7b_305a3a083b3f\" ><thead>    <tr>        <th class=\"blank level0\" ></th>        <th class=\"col_heading level0 col0\" >pred:AfD</th>        <th class=\"col_heading level0 col1\" >pred:Bündnis 90/Die Grünen</th>        <th class=\"col_heading level0 col2\" >pred:CDU</th>        <th class=\"col_heading level0 col3\" >pred:CSU</th>        <th class=\"col_heading level0 col4\" >pred:Die Linke</th>        <th class=\"col_heading level0 col5\" >pred:FDP</th>        <th class=\"col_heading level0 col6\" >pred:SPD</th>    </tr></thead><tbody>\n",
       "                <tr>\n",
       "                        <th id=\"T_9edb0128_c0e7_11eb_8e7b_305a3a083b3flevel0_row0\" class=\"row_heading level0 row0\" >true:AfD</th>\n",
       "                        <td id=\"T_9edb0128_c0e7_11eb_8e7b_305a3a083b3frow0_col0\" class=\"data row0 col0\" >10666</td>\n",
       "                        <td id=\"T_9edb0128_c0e7_11eb_8e7b_305a3a083b3frow0_col1\" class=\"data row0 col1\" >615</td>\n",
       "                        <td id=\"T_9edb0128_c0e7_11eb_8e7b_305a3a083b3frow0_col2\" class=\"data row0 col2\" >2451</td>\n",
       "                        <td id=\"T_9edb0128_c0e7_11eb_8e7b_305a3a083b3frow0_col3\" class=\"data row0 col3\" >140</td>\n",
       "                        <td id=\"T_9edb0128_c0e7_11eb_8e7b_305a3a083b3frow0_col4\" class=\"data row0 col4\" >264</td>\n",
       "                        <td id=\"T_9edb0128_c0e7_11eb_8e7b_305a3a083b3frow0_col5\" class=\"data row0 col5\" >695</td>\n",
       "                        <td id=\"T_9edb0128_c0e7_11eb_8e7b_305a3a083b3frow0_col6\" class=\"data row0 col6\" >144</td>\n",
       "            </tr>\n",
       "            <tr>\n",
       "                        <th id=\"T_9edb0128_c0e7_11eb_8e7b_305a3a083b3flevel0_row1\" class=\"row_heading level0 row1\" >true:Bündnis 90/Die Grünen</th>\n",
       "                        <td id=\"T_9edb0128_c0e7_11eb_8e7b_305a3a083b3frow1_col0\" class=\"data row1 col0\" >669</td>\n",
       "                        <td id=\"T_9edb0128_c0e7_11eb_8e7b_305a3a083b3frow1_col1\" class=\"data row1 col1\" >7952</td>\n",
       "                        <td id=\"T_9edb0128_c0e7_11eb_8e7b_305a3a083b3frow1_col2\" class=\"data row1 col2\" >3874</td>\n",
       "                        <td id=\"T_9edb0128_c0e7_11eb_8e7b_305a3a083b3frow1_col3\" class=\"data row1 col3\" >369</td>\n",
       "                        <td id=\"T_9edb0128_c0e7_11eb_8e7b_305a3a083b3frow1_col4\" class=\"data row1 col4\" >650</td>\n",
       "                        <td id=\"T_9edb0128_c0e7_11eb_8e7b_305a3a083b3frow1_col5\" class=\"data row1 col5\" >960</td>\n",
       "                        <td id=\"T_9edb0128_c0e7_11eb_8e7b_305a3a083b3frow1_col6\" class=\"data row1 col6\" >706</td>\n",
       "            </tr>\n",
       "            <tr>\n",
       "                        <th id=\"T_9edb0128_c0e7_11eb_8e7b_305a3a083b3flevel0_row2\" class=\"row_heading level0 row2\" >true:CDU</th>\n",
       "                        <td id=\"T_9edb0128_c0e7_11eb_8e7b_305a3a083b3frow2_col0\" class=\"data row2 col0\" >907</td>\n",
       "                        <td id=\"T_9edb0128_c0e7_11eb_8e7b_305a3a083b3frow2_col1\" class=\"data row2 col1\" >1369</td>\n",
       "                        <td id=\"T_9edb0128_c0e7_11eb_8e7b_305a3a083b3frow2_col2\" class=\"data row2 col2\" >9703</td>\n",
       "                        <td id=\"T_9edb0128_c0e7_11eb_8e7b_305a3a083b3frow2_col3\" class=\"data row2 col3\" >316</td>\n",
       "                        <td id=\"T_9edb0128_c0e7_11eb_8e7b_305a3a083b3frow2_col4\" class=\"data row2 col4\" >526</td>\n",
       "                        <td id=\"T_9edb0128_c0e7_11eb_8e7b_305a3a083b3frow2_col5\" class=\"data row2 col5\" >1216</td>\n",
       "                        <td id=\"T_9edb0128_c0e7_11eb_8e7b_305a3a083b3frow2_col6\" class=\"data row2 col6\" >921</td>\n",
       "            </tr>\n",
       "            <tr>\n",
       "                        <th id=\"T_9edb0128_c0e7_11eb_8e7b_305a3a083b3flevel0_row3\" class=\"row_heading level0 row3\" >true:CSU</th>\n",
       "                        <td id=\"T_9edb0128_c0e7_11eb_8e7b_305a3a083b3frow3_col0\" class=\"data row3 col0\" >310</td>\n",
       "                        <td id=\"T_9edb0128_c0e7_11eb_8e7b_305a3a083b3frow3_col1\" class=\"data row3 col1\" >702</td>\n",
       "                        <td id=\"T_9edb0128_c0e7_11eb_8e7b_305a3a083b3frow3_col2\" class=\"data row3 col2\" >1962</td>\n",
       "                        <td id=\"T_9edb0128_c0e7_11eb_8e7b_305a3a083b3frow3_col3\" class=\"data row3 col3\" >2806</td>\n",
       "                        <td id=\"T_9edb0128_c0e7_11eb_8e7b_305a3a083b3frow3_col4\" class=\"data row3 col4\" >257</td>\n",
       "                        <td id=\"T_9edb0128_c0e7_11eb_8e7b_305a3a083b3frow3_col5\" class=\"data row3 col5\" >603</td>\n",
       "                        <td id=\"T_9edb0128_c0e7_11eb_8e7b_305a3a083b3frow3_col6\" class=\"data row3 col6\" >336</td>\n",
       "            </tr>\n",
       "            <tr>\n",
       "                        <th id=\"T_9edb0128_c0e7_11eb_8e7b_305a3a083b3flevel0_row4\" class=\"row_heading level0 row4\" >true:Die Linke</th>\n",
       "                        <td id=\"T_9edb0128_c0e7_11eb_8e7b_305a3a083b3frow4_col0\" class=\"data row4 col0\" >456</td>\n",
       "                        <td id=\"T_9edb0128_c0e7_11eb_8e7b_305a3a083b3frow4_col1\" class=\"data row4 col1\" >1203</td>\n",
       "                        <td id=\"T_9edb0128_c0e7_11eb_8e7b_305a3a083b3frow4_col2\" class=\"data row4 col2\" >3460</td>\n",
       "                        <td id=\"T_9edb0128_c0e7_11eb_8e7b_305a3a083b3frow4_col3\" class=\"data row4 col3\" >136</td>\n",
       "                        <td id=\"T_9edb0128_c0e7_11eb_8e7b_305a3a083b3frow4_col4\" class=\"data row4 col4\" >8943</td>\n",
       "                        <td id=\"T_9edb0128_c0e7_11eb_8e7b_305a3a083b3frow4_col5\" class=\"data row4 col5\" >380</td>\n",
       "                        <td id=\"T_9edb0128_c0e7_11eb_8e7b_305a3a083b3frow4_col6\" class=\"data row4 col6\" >497</td>\n",
       "            </tr>\n",
       "            <tr>\n",
       "                        <th id=\"T_9edb0128_c0e7_11eb_8e7b_305a3a083b3flevel0_row5\" class=\"row_heading level0 row5\" >true:FDP</th>\n",
       "                        <td id=\"T_9edb0128_c0e7_11eb_8e7b_305a3a083b3frow5_col0\" class=\"data row5 col0\" >900</td>\n",
       "                        <td id=\"T_9edb0128_c0e7_11eb_8e7b_305a3a083b3frow5_col1\" class=\"data row5 col1\" >1404</td>\n",
       "                        <td id=\"T_9edb0128_c0e7_11eb_8e7b_305a3a083b3frow5_col2\" class=\"data row5 col2\" >3868</td>\n",
       "                        <td id=\"T_9edb0128_c0e7_11eb_8e7b_305a3a083b3frow5_col3\" class=\"data row5 col3\" >245</td>\n",
       "                        <td id=\"T_9edb0128_c0e7_11eb_8e7b_305a3a083b3frow5_col4\" class=\"data row5 col4\" >492</td>\n",
       "                        <td id=\"T_9edb0128_c0e7_11eb_8e7b_305a3a083b3frow5_col5\" class=\"data row5 col5\" >7490</td>\n",
       "                        <td id=\"T_9edb0128_c0e7_11eb_8e7b_305a3a083b3frow5_col6\" class=\"data row5 col6\" >564</td>\n",
       "            </tr>\n",
       "            <tr>\n",
       "                        <th id=\"T_9edb0128_c0e7_11eb_8e7b_305a3a083b3flevel0_row6\" class=\"row_heading level0 row6\" >true:SPD</th>\n",
       "                        <td id=\"T_9edb0128_c0e7_11eb_8e7b_305a3a083b3frow6_col0\" class=\"data row6 col0\" >658</td>\n",
       "                        <td id=\"T_9edb0128_c0e7_11eb_8e7b_305a3a083b3frow6_col1\" class=\"data row6 col1\" >1326</td>\n",
       "                        <td id=\"T_9edb0128_c0e7_11eb_8e7b_305a3a083b3frow6_col2\" class=\"data row6 col2\" >5420</td>\n",
       "                        <td id=\"T_9edb0128_c0e7_11eb_8e7b_305a3a083b3frow6_col3\" class=\"data row6 col3\" >268</td>\n",
       "                        <td id=\"T_9edb0128_c0e7_11eb_8e7b_305a3a083b3frow6_col4\" class=\"data row6 col4\" >740</td>\n",
       "                        <td id=\"T_9edb0128_c0e7_11eb_8e7b_305a3a083b3frow6_col5\" class=\"data row6 col5\" >937</td>\n",
       "                        <td id=\"T_9edb0128_c0e7_11eb_8e7b_305a3a083b3frow6_col6\" class=\"data row6 col6\" >5549</td>\n",
       "            </tr>\n",
       "    </tbody></table>"
      ],
      "text/plain": [
       "<pandas.io.formats.style.Styler at 0x1793b4e1730>"
      ]
     },
     "execution_count": 46,
     "metadata": {},
     "output_type": "execute_result"
    }
   ],
   "source": [
    "print(\"***Multilayer Perceptron (two hidden layer, each has 7 neurons) confusion matrix (hashtags, max 50k)***\")\n",
    "cm = pd.DataFrame(\n",
    "    confusion_matrix(y_test, predictionMLP, labels=target_names),\n",
    "    index = [\"true:{:}\".format(x) for x in target_names],\n",
    "    columns = [\"pred:{:}\".format(x) for x in target_names]\n",
    ")\n",
    "cm.style.set_properties(**{'text-align': 'center'})"
   ]
  }
 ],
 "metadata": {
  "kernelspec": {
   "display_name": "Python 3",
   "language": "python",
   "name": "python3"
  },
  "language_info": {
   "codemirror_mode": {
    "name": "ipython",
    "version": 3
   },
   "file_extension": ".py",
   "mimetype": "text/x-python",
   "name": "python",
   "nbconvert_exporter": "python",
   "pygments_lexer": "ipython3",
   "version": "3.8.5"
  }
 },
 "nbformat": 4,
 "nbformat_minor": 4
}
