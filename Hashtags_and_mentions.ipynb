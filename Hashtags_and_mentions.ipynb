{
 "cells": [
  {
   "cell_type": "markdown",
   "metadata": {},
   "source": [
    "# import modules"
   ]
  },
  {
   "cell_type": "code",
   "execution_count": 2,
   "metadata": {},
   "outputs": [],
   "source": [
    "#1\n",
    "!pip install -q -U json-lines\n",
    "\n",
    "import json\n",
    "import os\n",
    "import pandas as pd\n",
    "import tarfile\n",
    "import json_lines\n",
    "from tqdm.notebook import tqdm\n",
    "from pprint import pprint\n",
    "import glob\n",
    "import matplotlib.pyplot as plt\n",
    "import numpy as np"
   ]
  },
  {
   "cell_type": "markdown",
   "metadata": {},
   "source": [
    "# read party, tweets, mentions and hashtags"
   ]
  },
  {
   "cell_type": "code",
   "execution_count": 3,
   "metadata": {},
   "outputs": [
    {
     "data": {
      "application/vnd.jupyter.widget-view+json": {
       "model_id": "0df5fa3c112d4c0895ebbcb884864b3a",
       "version_major": 2,
       "version_minor": 0
      },
      "text/plain": [
       "HBox(children=(HTML(value=''), FloatProgress(value=0.0, max=727.0), HTML(value='')))"
      ]
     },
     "metadata": {},
     "output_type": "display_data"
    },
    {
     "name": "stdout",
     "output_type": "stream",
     "text": [
      "\n",
      "Number of error-requests: 0\n"
     ]
    }
   ],
   "source": [
    "#2\n",
    "#funktioniert: get Party name + Tweets\n",
    "files123 = glob.glob('./data/*.jl')\n",
    "\n",
    "alles = []\n",
    "error = []\n",
    "\n",
    "AfD = 0\n",
    "Grünen = 0\n",
    "CDU = 0\n",
    "CSU = 0\n",
    "Linke = 0\n",
    "FDP = 0\n",
    "SPD = 0\n",
    "maxWert = 50000\n",
    "\n",
    "i = 0\n",
    "\n",
    "for file in tqdm(files123): # responsible for visual output\n",
    "    \n",
    "    with json_lines.open(file) as f:\n",
    "        for item in f:\n",
    "            try:\n",
    "                if item['response']['meta']['result_count'] == 0: \n",
    "                    continue\n",
    "                elif item['account_data']['Partei'] == \"Fraktionslos\":\n",
    "                    continue\n",
    "                if item['http_status'] == 200:\n",
    "                    \n",
    "                    #get party name\n",
    "                    partei = item[\"account_data\"][\"Partei\"]\n",
    "                    \n",
    "                    #get all tweets per person\n",
    "                    tweets_array = item[\"response\"][\"data\"]\n",
    "                    \n",
    "                    for tweet in tweets_array: #range(0,len(tweets_array)-1):\n",
    "                        hashtagArray = \"\"\n",
    "                        mentionArray = \"\"\n",
    "                        \n",
    "                       # print(type(tweet))\n",
    "                        if(\"referenced_tweets\" in tweet): # tweet is a dictionary\n",
    "                            tweet_type = tweet[\"referenced_tweets\"]\n",
    "                            if(tweet_type[0][\"type\"] == \"retweeted\"):\n",
    "                                continue\n",
    "                        \n",
    "                        if(\"entities\" in tweet): \n",
    "                            entities = tweet[\"entities\"]\n",
    "                            if(\"mentions\" in entities):\n",
    "                                mentions = entities[\"mentions\"]\n",
    "                                for ment in mentions:\n",
    "                                        mention = ment[\"username\"]\n",
    "                                        mentionArray = mentionArray + \" \" + mention\n",
    "                            if(\"hashtags\" in entities):\n",
    "                                hashtags = entities[\"hashtags\"]\n",
    "                                for tag in hashtags:\n",
    "                                        hashtag = tag[\"tag\"]\n",
    "                                        hashtagArray = hashtagArray + \" \" + hashtag\n",
    "                \n",
    "                            if(not (hashtagArray == \"\" and mentionArray == \"\")):\n",
    "                        \n",
    "                                #if (partei == \"AfD\" and AfD < maxWert):\n",
    "                                    #AfD += 1\n",
    "                                #elif (partei == \"Bündnis 90/Die Grünen\" and Grünen < maxWert):\n",
    "                                    #Grünen += 1\n",
    "                                #elif (partei == \"CDU\" and CDU < maxWert):\n",
    "                                    #CDU += 1\n",
    "                                #elif (partei == \"CSU\" and CSU < maxWert):\n",
    "                                    #CSU += 1\n",
    "                                #elif (partei == \"Die Linke\" and Linke < maxWert):\n",
    "                                    #Linke += 1\n",
    "                                #elif (partei == \"FDP\" and FDP < maxWert):\n",
    "                                    #FDP += 1\n",
    "                                #elif (partei == \"SPD\" and SPD < maxWert):\n",
    "                                    #SPD += 1\n",
    "                                #else:\n",
    "                                    #continue\n",
    "                                    \n",
    "                                alles.append({\"Partei\": partei, \"hashtags_mentions\": hashtagArray + \" \" + mentionArray})\n",
    "                \n",
    "                else:\n",
    "                    error.append(item)\n",
    "                    print(\"yikes\")\n",
    "                    \n",
    "            except Exception as e:\n",
    "                raise e\n",
    "                           \n",
    "print(\"Number of error-requests:\", len(error))"
   ]
  },
  {
   "cell_type": "markdown",
   "metadata": {},
   "source": [
    "# Data Preprocessing"
   ]
  },
  {
   "cell_type": "code",
   "execution_count": 3,
   "metadata": {},
   "outputs": [],
   "source": [
    "#imports\n",
    "import re\n",
    "import nltk\n",
    "from nltk.stem.porter import PorterStemmer\n",
    "from sklearn.feature_extraction.text import TfidfVectorizer\n",
    "from sklearn.pipeline import Pipeline\n",
    "from sklearn.feature_selection import SelectKBest, chi2\n",
    "from sklearn.model_selection import train_test_split\n",
    "\n",
    "#import ML LIB\n",
    "from sklearn.svm import LinearSVC\n",
    "from sklearn.tree import DecisionTreeClassifier\n",
    "from sklearn.ensemble import RandomForestClassifier\n",
    "from sklearn.neural_network import MLPClassifier\n",
    "from sklearn.ensemble import GradientBoostingClassifier\n",
    "from sklearn.neighbors import KNeighborsClassifier\n",
    "\n",
    "#import Evaluation Metrics\n",
    "from sklearn.metrics import classification_report\n",
    "from sklearn.metrics import accuracy_score\n",
    "from sklearn.metrics import confusion_matrix"
   ]
  },
  {
   "cell_type": "code",
   "execution_count": 4,
   "metadata": {},
   "outputs": [
    {
     "data": {
      "text/html": [
       "<div>\n",
       "<style scoped>\n",
       "    .dataframe tbody tr th:only-of-type {\n",
       "        vertical-align: middle;\n",
       "    }\n",
       "\n",
       "    .dataframe tbody tr th {\n",
       "        vertical-align: top;\n",
       "    }\n",
       "\n",
       "    .dataframe thead th {\n",
       "        text-align: right;\n",
       "    }\n",
       "</style>\n",
       "<table border=\"1\" class=\"dataframe\">\n",
       "  <thead>\n",
       "    <tr style=\"text-align: right;\">\n",
       "      <th></th>\n",
       "      <th>Partei</th>\n",
       "      <th>hashtags_mentions</th>\n",
       "    </tr>\n",
       "  </thead>\n",
       "  <tbody>\n",
       "    <tr>\n",
       "      <th>0</th>\n",
       "      <td>Bündnis 90/Die Grünen</td>\n",
       "      <td>green_clarity99</td>\n",
       "    </tr>\n",
       "    <tr>\n",
       "      <th>1</th>\n",
       "      <td>Bündnis 90/Die Grünen</td>\n",
       "      <td>GreenDeal  handelsblatt peteraltmaier GrosseE...</td>\n",
       "    </tr>\n",
       "    <tr>\n",
       "      <th>2</th>\n",
       "      <td>Bündnis 90/Die Grünen</td>\n",
       "      <td>peter_simone RenateKuenast</td>\n",
       "    </tr>\n",
       "    <tr>\n",
       "      <th>3</th>\n",
       "      <td>Bündnis 90/Die Grünen</td>\n",
       "      <td>RenateKuenast</td>\n",
       "    </tr>\n",
       "    <tr>\n",
       "      <th>4</th>\n",
       "      <td>Bündnis 90/Die Grünen</td>\n",
       "      <td>BernhardPoetter</td>\n",
       "    </tr>\n",
       "    <tr>\n",
       "      <th>...</th>\n",
       "      <td>...</td>\n",
       "      <td>...</td>\n",
       "    </tr>\n",
       "    <tr>\n",
       "      <th>1336715</th>\n",
       "      <td>CDU</td>\n",
       "      <td>BMBF_Bund</td>\n",
       "    </tr>\n",
       "    <tr>\n",
       "      <th>1336716</th>\n",
       "      <td>CDU</td>\n",
       "      <td>BMBF_Bund</td>\n",
       "    </tr>\n",
       "    <tr>\n",
       "      <th>1336717</th>\n",
       "      <td>CDU</td>\n",
       "      <td>fz_juelich RWTH BMBF_Bund</td>\n",
       "    </tr>\n",
       "    <tr>\n",
       "      <th>1336718</th>\n",
       "      <td>CDU</td>\n",
       "      <td>EKD diakonie</td>\n",
       "    </tr>\n",
       "    <tr>\n",
       "      <th>1336719</th>\n",
       "      <td>CDU</td>\n",
       "      <td>StefanKaufmann helmholtz_de</td>\n",
       "    </tr>\n",
       "  </tbody>\n",
       "</table>\n",
       "<p>1336720 rows × 2 columns</p>\n",
       "</div>"
      ],
      "text/plain": [
       "                        Partei  \\\n",
       "0        Bündnis 90/Die Grünen   \n",
       "1        Bündnis 90/Die Grünen   \n",
       "2        Bündnis 90/Die Grünen   \n",
       "3        Bündnis 90/Die Grünen   \n",
       "4        Bündnis 90/Die Grünen   \n",
       "...                        ...   \n",
       "1336715                    CDU   \n",
       "1336716                    CDU   \n",
       "1336717                    CDU   \n",
       "1336718                    CDU   \n",
       "1336719                    CDU   \n",
       "\n",
       "                                         hashtags_mentions  \n",
       "0                                          green_clarity99  \n",
       "1         GreenDeal  handelsblatt peteraltmaier GrosseE...  \n",
       "2                               peter_simone RenateKuenast  \n",
       "3                                            RenateKuenast  \n",
       "4                                          BernhardPoetter  \n",
       "...                                                    ...  \n",
       "1336715                                          BMBF_Bund  \n",
       "1336716                                          BMBF_Bund  \n",
       "1336717                          fz_juelich RWTH BMBF_Bund  \n",
       "1336718                                       EKD diakonie  \n",
       "1336719                        StefanKaufmann helmholtz_de  \n",
       "\n",
       "[1336720 rows x 2 columns]"
      ]
     },
     "execution_count": 4,
     "metadata": {},
     "output_type": "execute_result"
    }
   ],
   "source": [
    "alles_df = pd.DataFrame(alles)\n",
    "alles_df"
   ]
  },
  {
   "cell_type": "code",
   "execution_count": 5,
   "metadata": {},
   "outputs": [
    {
     "data": {
      "text/plain": [
       "Bündnis 90/Die Grünen    355805\n",
       "Die Linke                245403\n",
       "SPD                      234855\n",
       "CDU                      228792\n",
       "FDP                      137002\n",
       "AfD                       79309\n",
       "CSU                       55554\n",
       "Name: Partei, dtype: int64"
      ]
     },
     "execution_count": 5,
     "metadata": {},
     "output_type": "execute_result"
    }
   ],
   "source": [
    "alles_df[\"Partei\"].value_counts()"
   ]
  },
  {
   "cell_type": "code",
   "execution_count": 6,
   "metadata": {},
   "outputs": [
    {
     "data": {
      "text/plain": [
       "1336720"
      ]
     },
     "execution_count": 6,
     "metadata": {},
     "output_type": "execute_result"
    }
   ],
   "source": [
    "len(alles_df)"
   ]
  },
  {
   "cell_type": "code",
   "execution_count": 7,
   "metadata": {},
   "outputs": [],
   "source": [
    "#split data into train and test set\n",
    "X_train, X_test, y_train, y_test = train_test_split(alles_df[\"hashtags_mentions\"], alles_df.Partei, test_size = 0.3, random_state=111)"
   ]
  },
  {
   "cell_type": "code",
   "execution_count": 8,
   "metadata": {},
   "outputs": [
    {
     "data": {
      "text/plain": [
       "1329499                                         Wahlrecht_de\n",
       "1244926                                CDU Berlin Weihnacht \n",
       "840251                                              talwazir\n",
       "485158                                 Greta Göttingen Bahn \n",
       "1145065     HambacherWald RLP Klimaschutz Energiewende No...\n",
       "                                 ...                        \n",
       "942761                                             nouripour\n",
       "102486                    Klimaschutz Solar Afrika Sonne Öl \n",
       "135892                                               Wissing\n",
       "534484                                         BotschafterDK\n",
       "654188                                           USWahl2016 \n",
       "Name: hashtags_mentions, Length: 935704, dtype: object"
      ]
     },
     "execution_count": 8,
     "metadata": {},
     "output_type": "execute_result"
    }
   ],
   "source": [
    "#X_train.value_counts()\n",
    "X_train"
   ]
  },
  {
   "cell_type": "code",
   "execution_count": 9,
   "metadata": {},
   "outputs": [
    {
     "data": {
      "text/plain": [
       "1329499    Bündnis 90/Die Grünen\n",
       "1244926                      CDU\n",
       "840251     Bündnis 90/Die Grünen\n",
       "485158                       AfD\n",
       "1145065    Bündnis 90/Die Grünen\n",
       "                   ...          \n",
       "942761                       CDU\n",
       "102486     Bündnis 90/Die Grünen\n",
       "135892     Bündnis 90/Die Grünen\n",
       "534484                       CDU\n",
       "654188                       SPD\n",
       "Name: Partei, Length: 935704, dtype: object"
      ]
     },
     "execution_count": 9,
     "metadata": {},
     "output_type": "execute_result"
    }
   ],
   "source": [
    "y_train"
   ]
  },
  {
   "cell_type": "code",
   "execution_count": 10,
   "metadata": {},
   "outputs": [
    {
     "name": "stderr",
     "output_type": "stream",
     "text": [
      "[nltk_data] Downloading package stopwords to\n",
      "[nltk_data]     C:\\Users\\Runjie\\AppData\\Roaming\\nltk_data...\n",
      "[nltk_data]   Package stopwords is already up-to-date!\n"
     ]
    }
   ],
   "source": [
    "stemmer = nltk.stem.SnowballStemmer(\"german\")\n",
    "nltk.download(\"stopwords\")\n",
    "stop_words=set(nltk.corpus.stopwords.words(\"german\"))"
   ]
  },
  {
   "cell_type": "code",
   "execution_count": 11,
   "metadata": {},
   "outputs": [],
   "source": [
    "#write our own tokenizer function\n",
    "def tokenize(text):\n",
    "    tokens = [word for word in nltk.word_tokenize(text)]\n",
    "    tokens = map(str.lower, tokens)\n",
    "    tokens = [word.strip(\" \") for word in tokens]\n",
    "    tokens = [item for item in tokens if (item not in stop_words)]\n",
    "    return tokens"
   ]
  },
  {
   "cell_type": "markdown",
   "metadata": {},
   "source": [
    "# Support Vector"
   ]
  },
  {
   "cell_type": "markdown",
   "metadata": {},
   "source": [
    "## Hashtags + Mentions"
   ]
  },
  {
   "cell_type": "code",
   "execution_count": null,
   "metadata": {},
   "outputs": [],
   "source": [
    "#ngram_range = how many words to consider, 1, 2 --> look at every seperate word, and a pair of 2 words: not good --> bad\n",
    "pipeline = Pipeline([(\"vect\", TfidfVectorizer(tokenizer=tokenize, ngram_range=(1, 2), stop_words=None, sublinear_tf=True, max_df=0.75, lowercase = False)), \n",
    "                     (\"chi\", SelectKBest(chi2, k=50000)),\n",
    "                     (\"clf\", LinearSVC(C=1.0, penalty=\"l1\", max_iter=6000, dual=False))])"
   ]
  },
  {
   "cell_type": "code",
   "execution_count": null,
   "metadata": {},
   "outputs": [],
   "source": [
    "model = pipeline.fit(X_train, y_train)"
   ]
  },
  {
   "cell_type": "code",
   "execution_count": null,
   "metadata": {},
   "outputs": [],
   "source": [
    "vectorizer = model.named_steps[\"vect\"]\n",
    "chi = model.named_steps[\"chi\"]\n",
    "clf = model.named_steps[\"clf\"]"
   ]
  },
  {
   "cell_type": "code",
   "execution_count": null,
   "metadata": {},
   "outputs": [],
   "source": [
    "feature_names = vectorizer.get_feature_names()\n",
    "feature_names = [feature_names[i] for i in chi.get_support(indices = True)]\n",
    "feature_names = np.asarray(feature_names)"
   ]
  },
  {
   "cell_type": "code",
   "execution_count": null,
   "metadata": {},
   "outputs": [],
   "source": [
    "#target_names = [\"Bündnis 90/Die Grünen\", \"SPD\", \"CDU\", \"Die Linke\", \"FDP\", \"AfD\", \"CSU\"]\n",
    "target_names = clf.classes_\n",
    "print(\"top 30 keywords per class:\")\n",
    "for i, label in enumerate(target_names):\n",
    "    top30 = np.argsort(clf.coef_[i])[-30:]\n",
    "    print(\"%s: %s\" % (label, \" \".join(feature_names[top30])))\n",
    "    print(\"\\n\")"
   ]
  },
  {
   "cell_type": "code",
   "execution_count": null,
   "metadata": {},
   "outputs": [],
   "source": [
    "prediction = model.predict(X_test)"
   ]
  },
  {
   "cell_type": "code",
   "execution_count": null,
   "metadata": {},
   "outputs": [],
   "source": [
    "print(\"******SVM classification report (hashtags + mentions, 50k per party)******\")\n",
    "print(\"accuracy:\", accuracy_score(y_test, prediction))\n",
    "print(classification_report(y_test, prediction, target_names=target_names, digits=4))"
   ]
  },
  {
   "cell_type": "code",
   "execution_count": null,
   "metadata": {},
   "outputs": [],
   "source": [
    "print(\"************************SVM confusion matrix (hashtags + mentions, 50k per party)************************\")\n",
    "cm = pd.DataFrame(\n",
    "    confusion_matrix(y_test, prediction, labels=target_names),\n",
    "    index = [\"true:{:}\".format(x) for x in target_names],\n",
    "    columns = [\"pred:{:}\".format(x) for x in target_names]\n",
    ")\n",
    "cm.style.set_properties(**{'text-align': 'center'})"
   ]
  },
  {
   "cell_type": "markdown",
   "metadata": {},
   "source": [
    "# Decision Tree"
   ]
  },
  {
   "cell_type": "code",
   "execution_count": null,
   "metadata": {},
   "outputs": [],
   "source": [
    "#ngram_range = how many words to consider, 1, 2 --> look at every seperate word, and a pair of 2 words: not good --> bad\n",
    "pipeline = Pipeline([(\"vect\", TfidfVectorizer(tokenizer=tokenize, ngram_range=(1, 2), stop_words=None, sublinear_tf=True, max_df=0.75, lowercase = False)), \n",
    "                     (\"chi\", SelectKBest(chi2, k=10000)),\n",
    "                     (\"clf\", DecisionTreeClassifier(random_state = 111))])"
   ]
  },
  {
   "cell_type": "code",
   "execution_count": null,
   "metadata": {},
   "outputs": [],
   "source": [
    "model = pipeline.fit(X_train, y_train)"
   ]
  },
  {
   "cell_type": "code",
   "execution_count": null,
   "metadata": {},
   "outputs": [],
   "source": [
    "vectorizer = model.named_steps[\"vect\"]\n",
    "chi = model.named_steps[\"chi\"]\n",
    "clf = model.named_steps[\"clf\"]"
   ]
  },
  {
   "cell_type": "code",
   "execution_count": null,
   "metadata": {},
   "outputs": [],
   "source": [
    "print(clf.feature_importances_[])"
   ]
  },
  {
   "cell_type": "code",
   "execution_count": null,
   "metadata": {},
   "outputs": [],
   "source": [
    "target_names = clf.classes_\n",
    "print(\"leaves:\", clf.get_n_leaves())\n",
    "print(\"depth:\", clf.get_depth())"
   ]
  },
  {
   "cell_type": "code",
   "execution_count": null,
   "metadata": {},
   "outputs": [],
   "source": [
    "prediction = model.predict(X_test)"
   ]
  },
  {
   "cell_type": "code",
   "execution_count": null,
   "metadata": {},
   "outputs": [],
   "source": [
    "print(\"******DecisionTree classification report (hashtags + mentions, 50k per party)******\")\n",
    "print(\"accuracy:\", accuracy_score(y_test, prediction))\n",
    "print(classification_report(y_test, prediction, target_names=target_names, digits=4))"
   ]
  },
  {
   "cell_type": "code",
   "execution_count": null,
   "metadata": {},
   "outputs": [],
   "source": [
    "print(\"************************DecisionTree confusion matrix (hashtags + mentions, 50k per party)************************\")\n",
    "cm = pd.DataFrame(\n",
    "    confusion_matrix(y_test, prediction, labels=target_names),\n",
    "    index = [\"true:{:}\".format(x) for x in target_names],\n",
    "    columns = [\"pred:{:}\".format(x) for x in target_names]\n",
    ")\n",
    "cm.style.set_properties(**{'text-align': 'center'})"
   ]
  },
  {
   "cell_type": "markdown",
   "metadata": {},
   "source": [
    "# RandomForest"
   ]
  },
  {
   "cell_type": "code",
   "execution_count": null,
   "metadata": {},
   "outputs": [],
   "source": [
    "#ngram_range = how many words to consider, 1, 2 --> look at every seperate word, and a pair of 2 words: not good --> bad\n",
    "pipeline = Pipeline([(\"vect\", TfidfVectorizer(tokenizer=tokenize, ngram_range=(1, 2), stop_words=None, sublinear_tf=True, max_df=0.75, lowercase = False)), \n",
    "                     #(\"chi\", SelectKBest(chi2, k=5000)),\n",
    "                     (\"clf\", RandomForestClassifier(random_state = 111))])"
   ]
  },
  {
   "cell_type": "code",
   "execution_count": null,
   "metadata": {},
   "outputs": [],
   "source": [
    "model = pipeline.fit(X_train, y_train)"
   ]
  },
  {
   "cell_type": "code",
   "execution_count": null,
   "metadata": {},
   "outputs": [],
   "source": [
    "vectorizer = model.named_steps[\"vect\"]\n",
    "chi = model.named_steps[\"chi\"]\n",
    "clf = model.named_steps[\"clf\"]"
   ]
  },
  {
   "cell_type": "code",
   "execution_count": null,
   "metadata": {},
   "outputs": [],
   "source": [
    "prediction = model.predict(X_test)"
   ]
  },
  {
   "cell_type": "code",
   "execution_count": null,
   "metadata": {},
   "outputs": [],
   "source": [
    "target_names = clf.classes_"
   ]
  },
  {
   "cell_type": "code",
   "execution_count": null,
   "metadata": {},
   "outputs": [],
   "source": [
    "print(\"******RandomForest classification report (hashtags + mentions, 50k per party)******\")\n",
    "print(\"accuracy:\", accuracy_score(y_test, prediction))\n",
    "print(classification_report(y_test, prediction, target_names=target_names, digits=4))"
   ]
  },
  {
   "cell_type": "code",
   "execution_count": null,
   "metadata": {},
   "outputs": [],
   "source": [
    "print(\"************************RandomForest confusion matrix (hashtags + mentions, 50k per party)************************\")\n",
    "cm = pd.DataFrame(\n",
    "    confusion_matrix(y_test, prediction, labels=target_names),\n",
    "    index = [\"true:{:}\".format(x) for x in target_names],\n",
    "    columns = [\"pred:{:}\".format(x) for x in target_names]\n",
    ")\n",
    "cm.style.set_properties(**{'text-align': 'center'})"
   ]
  },
  {
   "cell_type": "markdown",
   "metadata": {},
   "source": [
    "# GradientBoostingClassifier"
   ]
  },
  {
   "cell_type": "code",
   "execution_count": 58,
   "metadata": {},
   "outputs": [],
   "source": [
    "#ngram_range = how many words to consider, 1, 2 --> look at every seperate word, and a pair of 2 words: not good --> bad\n",
    "pipeline = Pipeline([(\"vect\", TfidfVectorizer(tokenizer=tokenize, ngram_range=(1, 2), stop_words=None, sublinear_tf=True, max_df=0.75, lowercase = False)), \n",
    "                     #(\"chi\", SelectKBest(chi2, k=10000)),\n",
    "                     (\"clf\", GradientBoostingClassifier(random_state = 111))])"
   ]
  },
  {
   "cell_type": "code",
   "execution_count": 59,
   "metadata": {},
   "outputs": [],
   "source": [
    "model = pipeline.fit(X_train, y_train)"
   ]
  },
  {
   "cell_type": "code",
   "execution_count": 60,
   "metadata": {},
   "outputs": [],
   "source": [
    "vectorizer = model.named_steps[\"vect\"]\n",
    "#chi = model.named_steps[\"chi\"]\n",
    "clf = model.named_steps[\"clf\"]"
   ]
  },
  {
   "cell_type": "code",
   "execution_count": 61,
   "metadata": {},
   "outputs": [],
   "source": [
    "prediction = model.predict(X_test)"
   ]
  },
  {
   "cell_type": "code",
   "execution_count": 62,
   "metadata": {},
   "outputs": [],
   "source": [
    "target_names = clf.classes_"
   ]
  },
  {
   "cell_type": "code",
   "execution_count": 63,
   "metadata": {},
   "outputs": [
    {
     "name": "stdout",
     "output_type": "stream",
     "text": [
      "******GradientBoosting classification report (hashtags + mentions, all data)******\n",
      "accuracy: 0.42450425918167856\n",
      "                       precision    recall  f1-score   support\n",
      "\n",
      "                  AfD     0.8040    0.4593    0.5846     23977\n",
      "Bündnis 90/Die Grünen     0.3228    0.9236    0.4784    106610\n",
      "                  CDU     0.7162    0.2144    0.3300     68602\n",
      "                  CSU     0.7705    0.1533    0.2557     16828\n",
      "            Die Linke     0.7914    0.2187    0.3427     73693\n",
      "                  FDP     0.7755    0.2645    0.3945     40827\n",
      "                  SPD     0.6859    0.2348    0.3499     70479\n",
      "\n",
      "             accuracy                         0.4245    401016\n",
      "            macro avg     0.6952    0.3527    0.3908    401016\n",
      "         weighted avg     0.6337    0.4245    0.3940    401016\n",
      "\n"
     ]
    }
   ],
   "source": [
    "print(\"******GradientBoosting classification report (hashtags + mentions, all data)******\")\n",
    "print(\"accuracy:\", accuracy_score(y_test, prediction))\n",
    "print(classification_report(y_test, prediction, target_names=target_names, digits=4))"
   ]
  },
  {
   "cell_type": "code",
   "execution_count": 64,
   "metadata": {},
   "outputs": [
    {
     "name": "stdout",
     "output_type": "stream",
     "text": [
      "************************GradientBoosing confusion matrix (hashtags + mentions, all data)************************\n"
     ]
    },
    {
     "data": {
      "text/html": [
       "<style  type=\"text/css\" >\n",
       "#T_5dfb3ceb_be23_11eb_b2b0_305a3a083b3frow0_col0,#T_5dfb3ceb_be23_11eb_b2b0_305a3a083b3frow0_col1,#T_5dfb3ceb_be23_11eb_b2b0_305a3a083b3frow0_col2,#T_5dfb3ceb_be23_11eb_b2b0_305a3a083b3frow0_col3,#T_5dfb3ceb_be23_11eb_b2b0_305a3a083b3frow0_col4,#T_5dfb3ceb_be23_11eb_b2b0_305a3a083b3frow0_col5,#T_5dfb3ceb_be23_11eb_b2b0_305a3a083b3frow0_col6,#T_5dfb3ceb_be23_11eb_b2b0_305a3a083b3frow1_col0,#T_5dfb3ceb_be23_11eb_b2b0_305a3a083b3frow1_col1,#T_5dfb3ceb_be23_11eb_b2b0_305a3a083b3frow1_col2,#T_5dfb3ceb_be23_11eb_b2b0_305a3a083b3frow1_col3,#T_5dfb3ceb_be23_11eb_b2b0_305a3a083b3frow1_col4,#T_5dfb3ceb_be23_11eb_b2b0_305a3a083b3frow1_col5,#T_5dfb3ceb_be23_11eb_b2b0_305a3a083b3frow1_col6,#T_5dfb3ceb_be23_11eb_b2b0_305a3a083b3frow2_col0,#T_5dfb3ceb_be23_11eb_b2b0_305a3a083b3frow2_col1,#T_5dfb3ceb_be23_11eb_b2b0_305a3a083b3frow2_col2,#T_5dfb3ceb_be23_11eb_b2b0_305a3a083b3frow2_col3,#T_5dfb3ceb_be23_11eb_b2b0_305a3a083b3frow2_col4,#T_5dfb3ceb_be23_11eb_b2b0_305a3a083b3frow2_col5,#T_5dfb3ceb_be23_11eb_b2b0_305a3a083b3frow2_col6,#T_5dfb3ceb_be23_11eb_b2b0_305a3a083b3frow3_col0,#T_5dfb3ceb_be23_11eb_b2b0_305a3a083b3frow3_col1,#T_5dfb3ceb_be23_11eb_b2b0_305a3a083b3frow3_col2,#T_5dfb3ceb_be23_11eb_b2b0_305a3a083b3frow3_col3,#T_5dfb3ceb_be23_11eb_b2b0_305a3a083b3frow3_col4,#T_5dfb3ceb_be23_11eb_b2b0_305a3a083b3frow3_col5,#T_5dfb3ceb_be23_11eb_b2b0_305a3a083b3frow3_col6,#T_5dfb3ceb_be23_11eb_b2b0_305a3a083b3frow4_col0,#T_5dfb3ceb_be23_11eb_b2b0_305a3a083b3frow4_col1,#T_5dfb3ceb_be23_11eb_b2b0_305a3a083b3frow4_col2,#T_5dfb3ceb_be23_11eb_b2b0_305a3a083b3frow4_col3,#T_5dfb3ceb_be23_11eb_b2b0_305a3a083b3frow4_col4,#T_5dfb3ceb_be23_11eb_b2b0_305a3a083b3frow4_col5,#T_5dfb3ceb_be23_11eb_b2b0_305a3a083b3frow4_col6,#T_5dfb3ceb_be23_11eb_b2b0_305a3a083b3frow5_col0,#T_5dfb3ceb_be23_11eb_b2b0_305a3a083b3frow5_col1,#T_5dfb3ceb_be23_11eb_b2b0_305a3a083b3frow5_col2,#T_5dfb3ceb_be23_11eb_b2b0_305a3a083b3frow5_col3,#T_5dfb3ceb_be23_11eb_b2b0_305a3a083b3frow5_col4,#T_5dfb3ceb_be23_11eb_b2b0_305a3a083b3frow5_col5,#T_5dfb3ceb_be23_11eb_b2b0_305a3a083b3frow5_col6,#T_5dfb3ceb_be23_11eb_b2b0_305a3a083b3frow6_col0,#T_5dfb3ceb_be23_11eb_b2b0_305a3a083b3frow6_col1,#T_5dfb3ceb_be23_11eb_b2b0_305a3a083b3frow6_col2,#T_5dfb3ceb_be23_11eb_b2b0_305a3a083b3frow6_col3,#T_5dfb3ceb_be23_11eb_b2b0_305a3a083b3frow6_col4,#T_5dfb3ceb_be23_11eb_b2b0_305a3a083b3frow6_col5,#T_5dfb3ceb_be23_11eb_b2b0_305a3a083b3frow6_col6{\n",
       "            text-align:  center;\n",
       "        }</style><table id=\"T_5dfb3ceb_be23_11eb_b2b0_305a3a083b3f\" ><thead>    <tr>        <th class=\"blank level0\" ></th>        <th class=\"col_heading level0 col0\" >pred:AfD</th>        <th class=\"col_heading level0 col1\" >pred:Bündnis 90/Die Grünen</th>        <th class=\"col_heading level0 col2\" >pred:CDU</th>        <th class=\"col_heading level0 col3\" >pred:CSU</th>        <th class=\"col_heading level0 col4\" >pred:Die Linke</th>        <th class=\"col_heading level0 col5\" >pred:FDP</th>        <th class=\"col_heading level0 col6\" >pred:SPD</th>    </tr></thead><tbody>\n",
       "                <tr>\n",
       "                        <th id=\"T_5dfb3ceb_be23_11eb_b2b0_305a3a083b3flevel0_row0\" class=\"row_heading level0 row0\" >true:AfD</th>\n",
       "                        <td id=\"T_5dfb3ceb_be23_11eb_b2b0_305a3a083b3frow0_col0\" class=\"data row0 col0\" >11012</td>\n",
       "                        <td id=\"T_5dfb3ceb_be23_11eb_b2b0_305a3a083b3frow0_col1\" class=\"data row0 col1\" >11359</td>\n",
       "                        <td id=\"T_5dfb3ceb_be23_11eb_b2b0_305a3a083b3frow0_col2\" class=\"data row0 col2\" >517</td>\n",
       "                        <td id=\"T_5dfb3ceb_be23_11eb_b2b0_305a3a083b3frow0_col3\" class=\"data row0 col3\" >11</td>\n",
       "                        <td id=\"T_5dfb3ceb_be23_11eb_b2b0_305a3a083b3frow0_col4\" class=\"data row0 col4\" >337</td>\n",
       "                        <td id=\"T_5dfb3ceb_be23_11eb_b2b0_305a3a083b3frow0_col5\" class=\"data row0 col5\" >207</td>\n",
       "                        <td id=\"T_5dfb3ceb_be23_11eb_b2b0_305a3a083b3frow0_col6\" class=\"data row0 col6\" >534</td>\n",
       "            </tr>\n",
       "            <tr>\n",
       "                        <th id=\"T_5dfb3ceb_be23_11eb_b2b0_305a3a083b3flevel0_row1\" class=\"row_heading level0 row1\" >true:Bündnis 90/Die Grünen</th>\n",
       "                        <td id=\"T_5dfb3ceb_be23_11eb_b2b0_305a3a083b3frow1_col0\" class=\"data row1 col0\" >864</td>\n",
       "                        <td id=\"T_5dfb3ceb_be23_11eb_b2b0_305a3a083b3frow1_col1\" class=\"data row1 col1\" >98467</td>\n",
       "                        <td id=\"T_5dfb3ceb_be23_11eb_b2b0_305a3a083b3frow1_col2\" class=\"data row1 col2\" >1823</td>\n",
       "                        <td id=\"T_5dfb3ceb_be23_11eb_b2b0_305a3a083b3frow1_col3\" class=\"data row1 col3\" >178</td>\n",
       "                        <td id=\"T_5dfb3ceb_be23_11eb_b2b0_305a3a083b3frow1_col4\" class=\"data row1 col4\" >1840</td>\n",
       "                        <td id=\"T_5dfb3ceb_be23_11eb_b2b0_305a3a083b3frow1_col5\" class=\"data row1 col5\" >1009</td>\n",
       "                        <td id=\"T_5dfb3ceb_be23_11eb_b2b0_305a3a083b3frow1_col6\" class=\"data row1 col6\" >2429</td>\n",
       "            </tr>\n",
       "            <tr>\n",
       "                        <th id=\"T_5dfb3ceb_be23_11eb_b2b0_305a3a083b3flevel0_row2\" class=\"row_heading level0 row2\" >true:CDU</th>\n",
       "                        <td id=\"T_5dfb3ceb_be23_11eb_b2b0_305a3a083b3frow2_col0\" class=\"data row2 col0\" >475</td>\n",
       "                        <td id=\"T_5dfb3ceb_be23_11eb_b2b0_305a3a083b3frow2_col1\" class=\"data row2 col1\" >49718</td>\n",
       "                        <td id=\"T_5dfb3ceb_be23_11eb_b2b0_305a3a083b3frow2_col2\" class=\"data row2 col2\" >14707</td>\n",
       "                        <td id=\"T_5dfb3ceb_be23_11eb_b2b0_305a3a083b3frow2_col3\" class=\"data row2 col3\" >221</td>\n",
       "                        <td id=\"T_5dfb3ceb_be23_11eb_b2b0_305a3a083b3frow2_col4\" class=\"data row2 col4\" >718</td>\n",
       "                        <td id=\"T_5dfb3ceb_be23_11eb_b2b0_305a3a083b3frow2_col5\" class=\"data row2 col5\" >425</td>\n",
       "                        <td id=\"T_5dfb3ceb_be23_11eb_b2b0_305a3a083b3frow2_col6\" class=\"data row2 col6\" >2338</td>\n",
       "            </tr>\n",
       "            <tr>\n",
       "                        <th id=\"T_5dfb3ceb_be23_11eb_b2b0_305a3a083b3flevel0_row3\" class=\"row_heading level0 row3\" >true:CSU</th>\n",
       "                        <td id=\"T_5dfb3ceb_be23_11eb_b2b0_305a3a083b3frow3_col0\" class=\"data row3 col0\" >58</td>\n",
       "                        <td id=\"T_5dfb3ceb_be23_11eb_b2b0_305a3a083b3frow3_col1\" class=\"data row3 col1\" >12361</td>\n",
       "                        <td id=\"T_5dfb3ceb_be23_11eb_b2b0_305a3a083b3frow3_col2\" class=\"data row3 col2\" >722</td>\n",
       "                        <td id=\"T_5dfb3ceb_be23_11eb_b2b0_305a3a083b3frow3_col3\" class=\"data row3 col3\" >2579</td>\n",
       "                        <td id=\"T_5dfb3ceb_be23_11eb_b2b0_305a3a083b3frow3_col4\" class=\"data row3 col4\" >159</td>\n",
       "                        <td id=\"T_5dfb3ceb_be23_11eb_b2b0_305a3a083b3frow3_col5\" class=\"data row3 col5\" >569</td>\n",
       "                        <td id=\"T_5dfb3ceb_be23_11eb_b2b0_305a3a083b3frow3_col6\" class=\"data row3 col6\" >380</td>\n",
       "            </tr>\n",
       "            <tr>\n",
       "                        <th id=\"T_5dfb3ceb_be23_11eb_b2b0_305a3a083b3flevel0_row4\" class=\"row_heading level0 row4\" >true:Die Linke</th>\n",
       "                        <td id=\"T_5dfb3ceb_be23_11eb_b2b0_305a3a083b3frow4_col0\" class=\"data row4 col0\" >502</td>\n",
       "                        <td id=\"T_5dfb3ceb_be23_11eb_b2b0_305a3a083b3frow4_col1\" class=\"data row4 col1\" >54918</td>\n",
       "                        <td id=\"T_5dfb3ceb_be23_11eb_b2b0_305a3a083b3frow4_col2\" class=\"data row4 col2\" >758</td>\n",
       "                        <td id=\"T_5dfb3ceb_be23_11eb_b2b0_305a3a083b3frow4_col3\" class=\"data row4 col3\" >60</td>\n",
       "                        <td id=\"T_5dfb3ceb_be23_11eb_b2b0_305a3a083b3frow4_col4\" class=\"data row4 col4\" >16117</td>\n",
       "                        <td id=\"T_5dfb3ceb_be23_11eb_b2b0_305a3a083b3frow4_col5\" class=\"data row4 col5\" >318</td>\n",
       "                        <td id=\"T_5dfb3ceb_be23_11eb_b2b0_305a3a083b3frow4_col6\" class=\"data row4 col6\" >1020</td>\n",
       "            </tr>\n",
       "            <tr>\n",
       "                        <th id=\"T_5dfb3ceb_be23_11eb_b2b0_305a3a083b3flevel0_row5\" class=\"row_heading level0 row5\" >true:FDP</th>\n",
       "                        <td id=\"T_5dfb3ceb_be23_11eb_b2b0_305a3a083b3frow5_col0\" class=\"data row5 col0\" >343</td>\n",
       "                        <td id=\"T_5dfb3ceb_be23_11eb_b2b0_305a3a083b3frow5_col1\" class=\"data row5 col1\" >27525</td>\n",
       "                        <td id=\"T_5dfb3ceb_be23_11eb_b2b0_305a3a083b3frow5_col2\" class=\"data row5 col2\" >662</td>\n",
       "                        <td id=\"T_5dfb3ceb_be23_11eb_b2b0_305a3a083b3frow5_col3\" class=\"data row5 col3\" >137</td>\n",
       "                        <td id=\"T_5dfb3ceb_be23_11eb_b2b0_305a3a083b3frow5_col4\" class=\"data row5 col4\" >481</td>\n",
       "                        <td id=\"T_5dfb3ceb_be23_11eb_b2b0_305a3a083b3frow5_col5\" class=\"data row5 col5\" >10800</td>\n",
       "                        <td id=\"T_5dfb3ceb_be23_11eb_b2b0_305a3a083b3frow5_col6\" class=\"data row5 col6\" >879</td>\n",
       "            </tr>\n",
       "            <tr>\n",
       "                        <th id=\"T_5dfb3ceb_be23_11eb_b2b0_305a3a083b3flevel0_row6\" class=\"row_heading level0 row6\" >true:SPD</th>\n",
       "                        <td id=\"T_5dfb3ceb_be23_11eb_b2b0_305a3a083b3frow6_col0\" class=\"data row6 col0\" >443</td>\n",
       "                        <td id=\"T_5dfb3ceb_be23_11eb_b2b0_305a3a083b3frow6_col1\" class=\"data row6 col1\" >50665</td>\n",
       "                        <td id=\"T_5dfb3ceb_be23_11eb_b2b0_305a3a083b3frow6_col2\" class=\"data row6 col2\" >1347</td>\n",
       "                        <td id=\"T_5dfb3ceb_be23_11eb_b2b0_305a3a083b3frow6_col3\" class=\"data row6 col3\" >161</td>\n",
       "                        <td id=\"T_5dfb3ceb_be23_11eb_b2b0_305a3a083b3frow6_col4\" class=\"data row6 col4\" >713</td>\n",
       "                        <td id=\"T_5dfb3ceb_be23_11eb_b2b0_305a3a083b3frow6_col5\" class=\"data row6 col5\" >599</td>\n",
       "                        <td id=\"T_5dfb3ceb_be23_11eb_b2b0_305a3a083b3frow6_col6\" class=\"data row6 col6\" >16551</td>\n",
       "            </tr>\n",
       "    </tbody></table>"
      ],
      "text/plain": [
       "<pandas.io.formats.style.Styler at 0x21b84283850>"
      ]
     },
     "execution_count": 64,
     "metadata": {},
     "output_type": "execute_result"
    }
   ],
   "source": [
    "print(\"************************GradientBoosing confusion matrix (hashtags + mentions, all data)************************\")\n",
    "cm = pd.DataFrame(\n",
    "    confusion_matrix(y_test, prediction, labels=target_names),\n",
    "    index = [\"true:{:}\".format(x) for x in target_names],\n",
    "    columns = [\"pred:{:}\".format(x) for x in target_names]\n",
    ")\n",
    "cm.style.set_properties(**{'text-align': 'center'})"
   ]
  },
  {
   "cell_type": "markdown",
   "metadata": {},
   "source": [
    "# KNeighborsClassifier"
   ]
  },
  {
   "cell_type": "code",
   "execution_count": 47,
   "metadata": {},
   "outputs": [],
   "source": [
    "#ngram_range = how many words to consider, 1, 2 --> look at every seperate word, and a pair of 2 words: not good --> bad\n",
    "pipeline = Pipeline([(\"vect\", TfidfVectorizer(tokenizer=tokenize, ngram_range=(1, 2), stop_words=None, sublinear_tf=True, max_df=0.75, lowercase = False)), \n",
    "                     #(\"chi\", SelectKBest(chi2, k=10000)),\n",
    "                     (\"clf\", KNeighborsClassifier())])"
   ]
  },
  {
   "cell_type": "code",
   "execution_count": 48,
   "metadata": {},
   "outputs": [],
   "source": [
    "model = pipeline.fit(X_train, y_train)"
   ]
  },
  {
   "cell_type": "code",
   "execution_count": 50,
   "metadata": {},
   "outputs": [],
   "source": [
    "vectorizer = model.named_steps[\"vect\"]\n",
    "#chi = model.named_steps[\"chi\"]\n",
    "clf = model.named_steps[\"clf\"]"
   ]
  },
  {
   "cell_type": "code",
   "execution_count": 51,
   "metadata": {},
   "outputs": [],
   "source": [
    "prediction = model.predict(X_test)"
   ]
  },
  {
   "cell_type": "code",
   "execution_count": 52,
   "metadata": {},
   "outputs": [
    {
     "name": "stdout",
     "output_type": "stream",
     "text": [
      "***************KNeighbors classification report (hashtags + mentions, all data)***************\n",
      "accuracy: 0.5313478763939593\n",
      "                       precision    recall  f1-score   support\n",
      "\n",
      "                  AfD     0.4904    0.4601    0.4747     23977\n",
      "Bündnis 90/Die Grünen     0.4884    0.6899    0.5719    106610\n",
      "                  CDU     0.5040    0.5199    0.5118     68602\n",
      "                  CSU     0.4577    0.3227    0.3785     16828\n",
      "            Die Linke     0.6294    0.5206    0.5698     73693\n",
      "                  FDP     0.5839    0.3845    0.4637     40827\n",
      "                  SPD     0.5802    0.4730    0.5211     70479\n",
      "\n",
      "             accuracy                         0.5313    401016\n",
      "            macro avg     0.5334    0.4815    0.4988    401016\n",
      "         weighted avg     0.5417    0.5313    0.5274    401016\n",
      "\n"
     ]
    }
   ],
   "source": [
    "print(\"***************KNeighbors classification report (hashtags + mentions, all data)***************\")\n",
    "print(\"accuracy:\", accuracy_score(y_test, prediction))\n",
    "print(classification_report(y_test, prediction, target_names=target_names, digits=4))"
   ]
  },
  {
   "cell_type": "code",
   "execution_count": 53,
   "metadata": {},
   "outputs": [
    {
     "name": "stdout",
     "output_type": "stream",
     "text": [
      "***KNeighbors confusion matrix (hashtags + mentions, all data)***\n"
     ]
    },
    {
     "data": {
      "text/html": [
       "<style  type=\"text/css\" >\n",
       "#T_c3674f4e_bdc8_11eb_ae2d_305a3a083b3frow0_col0,#T_c3674f4e_bdc8_11eb_ae2d_305a3a083b3frow0_col1,#T_c3674f4e_bdc8_11eb_ae2d_305a3a083b3frow0_col2,#T_c3674f4e_bdc8_11eb_ae2d_305a3a083b3frow0_col3,#T_c3674f4e_bdc8_11eb_ae2d_305a3a083b3frow0_col4,#T_c3674f4e_bdc8_11eb_ae2d_305a3a083b3frow0_col5,#T_c3674f4e_bdc8_11eb_ae2d_305a3a083b3frow0_col6,#T_c3674f4e_bdc8_11eb_ae2d_305a3a083b3frow1_col0,#T_c3674f4e_bdc8_11eb_ae2d_305a3a083b3frow1_col1,#T_c3674f4e_bdc8_11eb_ae2d_305a3a083b3frow1_col2,#T_c3674f4e_bdc8_11eb_ae2d_305a3a083b3frow1_col3,#T_c3674f4e_bdc8_11eb_ae2d_305a3a083b3frow1_col4,#T_c3674f4e_bdc8_11eb_ae2d_305a3a083b3frow1_col5,#T_c3674f4e_bdc8_11eb_ae2d_305a3a083b3frow1_col6,#T_c3674f4e_bdc8_11eb_ae2d_305a3a083b3frow2_col0,#T_c3674f4e_bdc8_11eb_ae2d_305a3a083b3frow2_col1,#T_c3674f4e_bdc8_11eb_ae2d_305a3a083b3frow2_col2,#T_c3674f4e_bdc8_11eb_ae2d_305a3a083b3frow2_col3,#T_c3674f4e_bdc8_11eb_ae2d_305a3a083b3frow2_col4,#T_c3674f4e_bdc8_11eb_ae2d_305a3a083b3frow2_col5,#T_c3674f4e_bdc8_11eb_ae2d_305a3a083b3frow2_col6,#T_c3674f4e_bdc8_11eb_ae2d_305a3a083b3frow3_col0,#T_c3674f4e_bdc8_11eb_ae2d_305a3a083b3frow3_col1,#T_c3674f4e_bdc8_11eb_ae2d_305a3a083b3frow3_col2,#T_c3674f4e_bdc8_11eb_ae2d_305a3a083b3frow3_col3,#T_c3674f4e_bdc8_11eb_ae2d_305a3a083b3frow3_col4,#T_c3674f4e_bdc8_11eb_ae2d_305a3a083b3frow3_col5,#T_c3674f4e_bdc8_11eb_ae2d_305a3a083b3frow3_col6,#T_c3674f4e_bdc8_11eb_ae2d_305a3a083b3frow4_col0,#T_c3674f4e_bdc8_11eb_ae2d_305a3a083b3frow4_col1,#T_c3674f4e_bdc8_11eb_ae2d_305a3a083b3frow4_col2,#T_c3674f4e_bdc8_11eb_ae2d_305a3a083b3frow4_col3,#T_c3674f4e_bdc8_11eb_ae2d_305a3a083b3frow4_col4,#T_c3674f4e_bdc8_11eb_ae2d_305a3a083b3frow4_col5,#T_c3674f4e_bdc8_11eb_ae2d_305a3a083b3frow4_col6,#T_c3674f4e_bdc8_11eb_ae2d_305a3a083b3frow5_col0,#T_c3674f4e_bdc8_11eb_ae2d_305a3a083b3frow5_col1,#T_c3674f4e_bdc8_11eb_ae2d_305a3a083b3frow5_col2,#T_c3674f4e_bdc8_11eb_ae2d_305a3a083b3frow5_col3,#T_c3674f4e_bdc8_11eb_ae2d_305a3a083b3frow5_col4,#T_c3674f4e_bdc8_11eb_ae2d_305a3a083b3frow5_col5,#T_c3674f4e_bdc8_11eb_ae2d_305a3a083b3frow5_col6,#T_c3674f4e_bdc8_11eb_ae2d_305a3a083b3frow6_col0,#T_c3674f4e_bdc8_11eb_ae2d_305a3a083b3frow6_col1,#T_c3674f4e_bdc8_11eb_ae2d_305a3a083b3frow6_col2,#T_c3674f4e_bdc8_11eb_ae2d_305a3a083b3frow6_col3,#T_c3674f4e_bdc8_11eb_ae2d_305a3a083b3frow6_col4,#T_c3674f4e_bdc8_11eb_ae2d_305a3a083b3frow6_col5,#T_c3674f4e_bdc8_11eb_ae2d_305a3a083b3frow6_col6{\n",
       "            text-align:  center;\n",
       "        }</style><table id=\"T_c3674f4e_bdc8_11eb_ae2d_305a3a083b3f\" ><thead>    <tr>        <th class=\"blank level0\" ></th>        <th class=\"col_heading level0 col0\" >pred:AfD</th>        <th class=\"col_heading level0 col1\" >pred:Bündnis 90/Die Grünen</th>        <th class=\"col_heading level0 col2\" >pred:CDU</th>        <th class=\"col_heading level0 col3\" >pred:CSU</th>        <th class=\"col_heading level0 col4\" >pred:Die Linke</th>        <th class=\"col_heading level0 col5\" >pred:FDP</th>        <th class=\"col_heading level0 col6\" >pred:SPD</th>    </tr></thead><tbody>\n",
       "                <tr>\n",
       "                        <th id=\"T_c3674f4e_bdc8_11eb_ae2d_305a3a083b3flevel0_row0\" class=\"row_heading level0 row0\" >true:AfD</th>\n",
       "                        <td id=\"T_c3674f4e_bdc8_11eb_ae2d_305a3a083b3frow0_col0\" class=\"data row0 col0\" >11032</td>\n",
       "                        <td id=\"T_c3674f4e_bdc8_11eb_ae2d_305a3a083b3frow0_col1\" class=\"data row0 col1\" >5601</td>\n",
       "                        <td id=\"T_c3674f4e_bdc8_11eb_ae2d_305a3a083b3frow0_col2\" class=\"data row0 col2\" >2481</td>\n",
       "                        <td id=\"T_c3674f4e_bdc8_11eb_ae2d_305a3a083b3frow0_col3\" class=\"data row0 col3\" >255</td>\n",
       "                        <td id=\"T_c3674f4e_bdc8_11eb_ae2d_305a3a083b3frow0_col4\" class=\"data row0 col4\" >2255</td>\n",
       "                        <td id=\"T_c3674f4e_bdc8_11eb_ae2d_305a3a083b3frow0_col5\" class=\"data row0 col5\" >816</td>\n",
       "                        <td id=\"T_c3674f4e_bdc8_11eb_ae2d_305a3a083b3frow0_col6\" class=\"data row0 col6\" >1537</td>\n",
       "            </tr>\n",
       "            <tr>\n",
       "                        <th id=\"T_c3674f4e_bdc8_11eb_ae2d_305a3a083b3flevel0_row1\" class=\"row_heading level0 row1\" >true:Bündnis 90/Die Grünen</th>\n",
       "                        <td id=\"T_c3674f4e_bdc8_11eb_ae2d_305a3a083b3frow1_col0\" class=\"data row1 col0\" >2720</td>\n",
       "                        <td id=\"T_c3674f4e_bdc8_11eb_ae2d_305a3a083b3frow1_col1\" class=\"data row1 col1\" >73549</td>\n",
       "                        <td id=\"T_c3674f4e_bdc8_11eb_ae2d_305a3a083b3frow1_col2\" class=\"data row1 col2\" >10041</td>\n",
       "                        <td id=\"T_c3674f4e_bdc8_11eb_ae2d_305a3a083b3frow1_col3\" class=\"data row1 col3\" >1565</td>\n",
       "                        <td id=\"T_c3674f4e_bdc8_11eb_ae2d_305a3a083b3frow1_col4\" class=\"data row1 col4\" >8034</td>\n",
       "                        <td id=\"T_c3674f4e_bdc8_11eb_ae2d_305a3a083b3frow1_col5\" class=\"data row1 col5\" >2984</td>\n",
       "                        <td id=\"T_c3674f4e_bdc8_11eb_ae2d_305a3a083b3frow1_col6\" class=\"data row1 col6\" >7717</td>\n",
       "            </tr>\n",
       "            <tr>\n",
       "                        <th id=\"T_c3674f4e_bdc8_11eb_ae2d_305a3a083b3flevel0_row2\" class=\"row_heading level0 row2\" >true:CDU</th>\n",
       "                        <td id=\"T_c3674f4e_bdc8_11eb_ae2d_305a3a083b3frow2_col0\" class=\"data row2 col0\" >2382</td>\n",
       "                        <td id=\"T_c3674f4e_bdc8_11eb_ae2d_305a3a083b3frow2_col1\" class=\"data row2 col1\" >17278</td>\n",
       "                        <td id=\"T_c3674f4e_bdc8_11eb_ae2d_305a3a083b3frow2_col2\" class=\"data row2 col2\" >35665</td>\n",
       "                        <td id=\"T_c3674f4e_bdc8_11eb_ae2d_305a3a083b3frow2_col3\" class=\"data row2 col3\" >1380</td>\n",
       "                        <td id=\"T_c3674f4e_bdc8_11eb_ae2d_305a3a083b3frow2_col4\" class=\"data row2 col4\" >3728</td>\n",
       "                        <td id=\"T_c3674f4e_bdc8_11eb_ae2d_305a3a083b3frow2_col5\" class=\"data row2 col5\" >2217</td>\n",
       "                        <td id=\"T_c3674f4e_bdc8_11eb_ae2d_305a3a083b3frow2_col6\" class=\"data row2 col6\" >5952</td>\n",
       "            </tr>\n",
       "            <tr>\n",
       "                        <th id=\"T_c3674f4e_bdc8_11eb_ae2d_305a3a083b3flevel0_row3\" class=\"row_heading level0 row3\" >true:CSU</th>\n",
       "                        <td id=\"T_c3674f4e_bdc8_11eb_ae2d_305a3a083b3frow3_col0\" class=\"data row3 col0\" >398</td>\n",
       "                        <td id=\"T_c3674f4e_bdc8_11eb_ae2d_305a3a083b3frow3_col1\" class=\"data row3 col1\" >4949</td>\n",
       "                        <td id=\"T_c3674f4e_bdc8_11eb_ae2d_305a3a083b3frow3_col2\" class=\"data row3 col2\" >2885</td>\n",
       "                        <td id=\"T_c3674f4e_bdc8_11eb_ae2d_305a3a083b3frow3_col3\" class=\"data row3 col3\" >5431</td>\n",
       "                        <td id=\"T_c3674f4e_bdc8_11eb_ae2d_305a3a083b3frow3_col4\" class=\"data row3 col4\" >887</td>\n",
       "                        <td id=\"T_c3674f4e_bdc8_11eb_ae2d_305a3a083b3frow3_col5\" class=\"data row3 col5\" >1000</td>\n",
       "                        <td id=\"T_c3674f4e_bdc8_11eb_ae2d_305a3a083b3frow3_col6\" class=\"data row3 col6\" >1278</td>\n",
       "            </tr>\n",
       "            <tr>\n",
       "                        <th id=\"T_c3674f4e_bdc8_11eb_ae2d_305a3a083b3flevel0_row4\" class=\"row_heading level0 row4\" >true:Die Linke</th>\n",
       "                        <td id=\"T_c3674f4e_bdc8_11eb_ae2d_305a3a083b3frow4_col0\" class=\"data row4 col0\" >2311</td>\n",
       "                        <td id=\"T_c3674f4e_bdc8_11eb_ae2d_305a3a083b3frow4_col1\" class=\"data row4 col1\" >19248</td>\n",
       "                        <td id=\"T_c3674f4e_bdc8_11eb_ae2d_305a3a083b3frow4_col2\" class=\"data row4 col2\" >6592</td>\n",
       "                        <td id=\"T_c3674f4e_bdc8_11eb_ae2d_305a3a083b3frow4_col3\" class=\"data row4 col3\" >966</td>\n",
       "                        <td id=\"T_c3674f4e_bdc8_11eb_ae2d_305a3a083b3frow4_col4\" class=\"data row4 col4\" >38366</td>\n",
       "                        <td id=\"T_c3674f4e_bdc8_11eb_ae2d_305a3a083b3frow4_col5\" class=\"data row4 col5\" >1764</td>\n",
       "                        <td id=\"T_c3674f4e_bdc8_11eb_ae2d_305a3a083b3frow4_col6\" class=\"data row4 col6\" >4446</td>\n",
       "            </tr>\n",
       "            <tr>\n",
       "                        <th id=\"T_c3674f4e_bdc8_11eb_ae2d_305a3a083b3flevel0_row5\" class=\"row_heading level0 row5\" >true:FDP</th>\n",
       "                        <td id=\"T_c3674f4e_bdc8_11eb_ae2d_305a3a083b3frow5_col0\" class=\"data row5 col0\" >1667</td>\n",
       "                        <td id=\"T_c3674f4e_bdc8_11eb_ae2d_305a3a083b3frow5_col1\" class=\"data row5 col1\" >11585</td>\n",
       "                        <td id=\"T_c3674f4e_bdc8_11eb_ae2d_305a3a083b3frow5_col2\" class=\"data row5 col2\" >4950</td>\n",
       "                        <td id=\"T_c3674f4e_bdc8_11eb_ae2d_305a3a083b3frow5_col3\" class=\"data row5 col3\" >985</td>\n",
       "                        <td id=\"T_c3674f4e_bdc8_11eb_ae2d_305a3a083b3frow5_col4\" class=\"data row5 col4\" >2746</td>\n",
       "                        <td id=\"T_c3674f4e_bdc8_11eb_ae2d_305a3a083b3frow5_col5\" class=\"data row5 col5\" >15698</td>\n",
       "                        <td id=\"T_c3674f4e_bdc8_11eb_ae2d_305a3a083b3frow5_col6\" class=\"data row5 col6\" >3196</td>\n",
       "            </tr>\n",
       "            <tr>\n",
       "                        <th id=\"T_c3674f4e_bdc8_11eb_ae2d_305a3a083b3flevel0_row6\" class=\"row_heading level0 row6\" >true:SPD</th>\n",
       "                        <td id=\"T_c3674f4e_bdc8_11eb_ae2d_305a3a083b3frow6_col0\" class=\"data row6 col0\" >1988</td>\n",
       "                        <td id=\"T_c3674f4e_bdc8_11eb_ae2d_305a3a083b3frow6_col1\" class=\"data row6 col1\" >18367</td>\n",
       "                        <td id=\"T_c3674f4e_bdc8_11eb_ae2d_305a3a083b3frow6_col2\" class=\"data row6 col2\" >8152</td>\n",
       "                        <td id=\"T_c3674f4e_bdc8_11eb_ae2d_305a3a083b3frow6_col3\" class=\"data row6 col3\" >1285</td>\n",
       "                        <td id=\"T_c3674f4e_bdc8_11eb_ae2d_305a3a083b3frow6_col4\" class=\"data row6 col4\" >4945</td>\n",
       "                        <td id=\"T_c3674f4e_bdc8_11eb_ae2d_305a3a083b3frow6_col5\" class=\"data row6 col5\" >2404</td>\n",
       "                        <td id=\"T_c3674f4e_bdc8_11eb_ae2d_305a3a083b3frow6_col6\" class=\"data row6 col6\" >33338</td>\n",
       "            </tr>\n",
       "    </tbody></table>"
      ],
      "text/plain": [
       "<pandas.io.formats.style.Styler at 0x21ab38959a0>"
      ]
     },
     "execution_count": 53,
     "metadata": {},
     "output_type": "execute_result"
    }
   ],
   "source": [
    "print(\"***KNeighbors confusion matrix (hashtags + mentions, all data)***\")\n",
    "cm = pd.DataFrame(\n",
    "    confusion_matrix(y_test, prediction, labels=target_names),\n",
    "    index = [\"true:{:}\".format(x) for x in target_names],\n",
    "    columns = [\"pred:{:}\".format(x) for x in target_names]\n",
    ")\n",
    "cm.style.set_properties(**{'text-align': 'center'})"
   ]
  },
  {
   "cell_type": "markdown",
   "metadata": {},
   "source": [
    "# Multilayer Perceptron Classifier"
   ]
  },
  {
   "cell_type": "code",
   "execution_count": 23,
   "metadata": {},
   "outputs": [],
   "source": [
    "#ngram_range = how many words to consider, 1, 2 --> look at every seperate word, and a pair of 2 words: not good --> bad\n",
    "pipeline = Pipeline([(\"vect\", TfidfVectorizer(tokenizer=tokenize, ngram_range=(1, 2), stop_words=None, sublinear_tf=True, max_df=0.75, lowercase = False)), \n",
    "                     (\"chi\", SelectKBest(chi2, k=10000)),\n",
    "                     (\"clf\", MLPClassifier(hidden_layer_sizes=(7,7), max_iter = 6000, random_state = 111))])"
   ]
  },
  {
   "cell_type": "code",
   "execution_count": 27,
   "metadata": {},
   "outputs": [],
   "source": [
    "model = pipeline.fit(X_train, y_train)"
   ]
  },
  {
   "cell_type": "code",
   "execution_count": 28,
   "metadata": {},
   "outputs": [],
   "source": [
    "vectorizer = model.named_steps[\"vect\"]\n",
    "chi = model.named_steps[\"chi\"]\n",
    "clf = model.named_steps[\"clf\"]"
   ]
  },
  {
   "cell_type": "code",
   "execution_count": 29,
   "metadata": {},
   "outputs": [],
   "source": [
    "prediction = model.predict(X_test)"
   ]
  },
  {
   "cell_type": "code",
   "execution_count": 30,
   "metadata": {},
   "outputs": [
    {
     "name": "stdout",
     "output_type": "stream",
     "text": [
      "number of layers: 4\n"
     ]
    }
   ],
   "source": [
    "print(\"number of layers:\", clf.n_layers_)"
   ]
  },
  {
   "cell_type": "code",
   "execution_count": 32,
   "metadata": {},
   "outputs": [],
   "source": [
    "target_names = clf.classes_"
   ]
  },
  {
   "cell_type": "code",
   "execution_count": 35,
   "metadata": {},
   "outputs": [
    {
     "name": "stdout",
     "output_type": "stream",
     "text": [
      "******Multilayer Perceptron classification report (hashtags + mentions, all data)******\n",
      "accuracy: 0.5613815907594709\n",
      "                       precision    recall  f1-score   support\n",
      "\n",
      "                  AfD     0.7269    0.6310    0.6756     23977\n",
      "Bündnis 90/Die Grünen     0.4431    0.7823    0.5658    106610\n",
      "                  CDU     0.5925    0.4786    0.5295     68602\n",
      "                  CSU     0.7114    0.3250    0.4462     16828\n",
      "            Die Linke     0.6852    0.5181    0.5901     73693\n",
      "                  FDP     0.7023    0.4417    0.5423     40827\n",
      "                  SPD     0.6755    0.4551    0.5438     70479\n",
      "\n",
      "             accuracy                         0.5614    401016\n",
      "            macro avg     0.6481    0.5188    0.5562    401016\n",
      "         weighted avg     0.6086    0.5614    0.5593    401016\n",
      "\n"
     ]
    }
   ],
   "source": [
    "print(\"******Multilayer Perceptron classification report (hashtags + mentions, all data)******\")\n",
    "print(\"accuracy:\", accuracy_score(y_test, prediction))\n",
    "print(classification_report(y_test, prediction, target_names=target_names, digits=4))"
   ]
  },
  {
   "cell_type": "code",
   "execution_count": 36,
   "metadata": {},
   "outputs": [
    {
     "name": "stdout",
     "output_type": "stream",
     "text": [
      "***Multilayer Perceptron (two hidden layer, each has 7 neurons) confusion matrix (hashtags + mentions, all data)***\n"
     ]
    },
    {
     "data": {
      "text/html": [
       "<style  type=\"text/css\" >\n",
       "#T_02ae336b_bd38_11eb_948b_305a3a083b3frow0_col0,#T_02ae336b_bd38_11eb_948b_305a3a083b3frow0_col1,#T_02ae336b_bd38_11eb_948b_305a3a083b3frow0_col2,#T_02ae336b_bd38_11eb_948b_305a3a083b3frow0_col3,#T_02ae336b_bd38_11eb_948b_305a3a083b3frow0_col4,#T_02ae336b_bd38_11eb_948b_305a3a083b3frow0_col5,#T_02ae336b_bd38_11eb_948b_305a3a083b3frow0_col6,#T_02ae336b_bd38_11eb_948b_305a3a083b3frow1_col0,#T_02ae336b_bd38_11eb_948b_305a3a083b3frow1_col1,#T_02ae336b_bd38_11eb_948b_305a3a083b3frow1_col2,#T_02ae336b_bd38_11eb_948b_305a3a083b3frow1_col3,#T_02ae336b_bd38_11eb_948b_305a3a083b3frow1_col4,#T_02ae336b_bd38_11eb_948b_305a3a083b3frow1_col5,#T_02ae336b_bd38_11eb_948b_305a3a083b3frow1_col6,#T_02ae336b_bd38_11eb_948b_305a3a083b3frow2_col0,#T_02ae336b_bd38_11eb_948b_305a3a083b3frow2_col1,#T_02ae336b_bd38_11eb_948b_305a3a083b3frow2_col2,#T_02ae336b_bd38_11eb_948b_305a3a083b3frow2_col3,#T_02ae336b_bd38_11eb_948b_305a3a083b3frow2_col4,#T_02ae336b_bd38_11eb_948b_305a3a083b3frow2_col5,#T_02ae336b_bd38_11eb_948b_305a3a083b3frow2_col6,#T_02ae336b_bd38_11eb_948b_305a3a083b3frow3_col0,#T_02ae336b_bd38_11eb_948b_305a3a083b3frow3_col1,#T_02ae336b_bd38_11eb_948b_305a3a083b3frow3_col2,#T_02ae336b_bd38_11eb_948b_305a3a083b3frow3_col3,#T_02ae336b_bd38_11eb_948b_305a3a083b3frow3_col4,#T_02ae336b_bd38_11eb_948b_305a3a083b3frow3_col5,#T_02ae336b_bd38_11eb_948b_305a3a083b3frow3_col6,#T_02ae336b_bd38_11eb_948b_305a3a083b3frow4_col0,#T_02ae336b_bd38_11eb_948b_305a3a083b3frow4_col1,#T_02ae336b_bd38_11eb_948b_305a3a083b3frow4_col2,#T_02ae336b_bd38_11eb_948b_305a3a083b3frow4_col3,#T_02ae336b_bd38_11eb_948b_305a3a083b3frow4_col4,#T_02ae336b_bd38_11eb_948b_305a3a083b3frow4_col5,#T_02ae336b_bd38_11eb_948b_305a3a083b3frow4_col6,#T_02ae336b_bd38_11eb_948b_305a3a083b3frow5_col0,#T_02ae336b_bd38_11eb_948b_305a3a083b3frow5_col1,#T_02ae336b_bd38_11eb_948b_305a3a083b3frow5_col2,#T_02ae336b_bd38_11eb_948b_305a3a083b3frow5_col3,#T_02ae336b_bd38_11eb_948b_305a3a083b3frow5_col4,#T_02ae336b_bd38_11eb_948b_305a3a083b3frow5_col5,#T_02ae336b_bd38_11eb_948b_305a3a083b3frow5_col6,#T_02ae336b_bd38_11eb_948b_305a3a083b3frow6_col0,#T_02ae336b_bd38_11eb_948b_305a3a083b3frow6_col1,#T_02ae336b_bd38_11eb_948b_305a3a083b3frow6_col2,#T_02ae336b_bd38_11eb_948b_305a3a083b3frow6_col3,#T_02ae336b_bd38_11eb_948b_305a3a083b3frow6_col4,#T_02ae336b_bd38_11eb_948b_305a3a083b3frow6_col5,#T_02ae336b_bd38_11eb_948b_305a3a083b3frow6_col6{\n",
       "            text-align:  center;\n",
       "        }</style><table id=\"T_02ae336b_bd38_11eb_948b_305a3a083b3f\" ><thead>    <tr>        <th class=\"blank level0\" ></th>        <th class=\"col_heading level0 col0\" >pred:AfD</th>        <th class=\"col_heading level0 col1\" >pred:Bündnis 90/Die Grünen</th>        <th class=\"col_heading level0 col2\" >pred:CDU</th>        <th class=\"col_heading level0 col3\" >pred:CSU</th>        <th class=\"col_heading level0 col4\" >pred:Die Linke</th>        <th class=\"col_heading level0 col5\" >pred:FDP</th>        <th class=\"col_heading level0 col6\" >pred:SPD</th>    </tr></thead><tbody>\n",
       "                <tr>\n",
       "                        <th id=\"T_02ae336b_bd38_11eb_948b_305a3a083b3flevel0_row0\" class=\"row_heading level0 row0\" >true:AfD</th>\n",
       "                        <td id=\"T_02ae336b_bd38_11eb_948b_305a3a083b3frow0_col0\" class=\"data row0 col0\" >15130</td>\n",
       "                        <td id=\"T_02ae336b_bd38_11eb_948b_305a3a083b3frow0_col1\" class=\"data row0 col1\" >4591</td>\n",
       "                        <td id=\"T_02ae336b_bd38_11eb_948b_305a3a083b3frow0_col2\" class=\"data row0 col2\" >1542</td>\n",
       "                        <td id=\"T_02ae336b_bd38_11eb_948b_305a3a083b3frow0_col3\" class=\"data row0 col3\" >20</td>\n",
       "                        <td id=\"T_02ae336b_bd38_11eb_948b_305a3a083b3frow0_col4\" class=\"data row0 col4\" >1257</td>\n",
       "                        <td id=\"T_02ae336b_bd38_11eb_948b_305a3a083b3frow0_col5\" class=\"data row0 col5\" >674</td>\n",
       "                        <td id=\"T_02ae336b_bd38_11eb_948b_305a3a083b3frow0_col6\" class=\"data row0 col6\" >763</td>\n",
       "            </tr>\n",
       "            <tr>\n",
       "                        <th id=\"T_02ae336b_bd38_11eb_948b_305a3a083b3flevel0_row1\" class=\"row_heading level0 row1\" >true:Bündnis 90/Die Grünen</th>\n",
       "                        <td id=\"T_02ae336b_bd38_11eb_948b_305a3a083b3frow1_col0\" class=\"data row1 col0\" >1365</td>\n",
       "                        <td id=\"T_02ae336b_bd38_11eb_948b_305a3a083b3frow1_col1\" class=\"data row1 col1\" >83398</td>\n",
       "                        <td id=\"T_02ae336b_bd38_11eb_948b_305a3a083b3frow1_col2\" class=\"data row1 col2\" >6640</td>\n",
       "                        <td id=\"T_02ae336b_bd38_11eb_948b_305a3a083b3frow1_col3\" class=\"data row1 col3\" >663</td>\n",
       "                        <td id=\"T_02ae336b_bd38_11eb_948b_305a3a083b3frow1_col4\" class=\"data row1 col4\" >7365</td>\n",
       "                        <td id=\"T_02ae336b_bd38_11eb_948b_305a3a083b3frow1_col5\" class=\"data row1 col5\" >2064</td>\n",
       "                        <td id=\"T_02ae336b_bd38_11eb_948b_305a3a083b3frow1_col6\" class=\"data row1 col6\" >5115</td>\n",
       "            </tr>\n",
       "            <tr>\n",
       "                        <th id=\"T_02ae336b_bd38_11eb_948b_305a3a083b3flevel0_row2\" class=\"row_heading level0 row2\" >true:CDU</th>\n",
       "                        <td id=\"T_02ae336b_bd38_11eb_948b_305a3a083b3frow2_col0\" class=\"data row2 col0\" >1145</td>\n",
       "                        <td id=\"T_02ae336b_bd38_11eb_948b_305a3a083b3frow2_col1\" class=\"data row2 col1\" >25227</td>\n",
       "                        <td id=\"T_02ae336b_bd38_11eb_948b_305a3a083b3frow2_col2\" class=\"data row2 col2\" >32836</td>\n",
       "                        <td id=\"T_02ae336b_bd38_11eb_948b_305a3a083b3frow2_col3\" class=\"data row2 col3\" >627</td>\n",
       "                        <td id=\"T_02ae336b_bd38_11eb_948b_305a3a083b3frow2_col4\" class=\"data row2 col4\" >3119</td>\n",
       "                        <td id=\"T_02ae336b_bd38_11eb_948b_305a3a083b3frow2_col5\" class=\"data row2 col5\" >1487</td>\n",
       "                        <td id=\"T_02ae336b_bd38_11eb_948b_305a3a083b3frow2_col6\" class=\"data row2 col6\" >4161</td>\n",
       "            </tr>\n",
       "            <tr>\n",
       "                        <th id=\"T_02ae336b_bd38_11eb_948b_305a3a083b3flevel0_row3\" class=\"row_heading level0 row3\" >true:CSU</th>\n",
       "                        <td id=\"T_02ae336b_bd38_11eb_948b_305a3a083b3frow3_col0\" class=\"data row3 col0\" >170</td>\n",
       "                        <td id=\"T_02ae336b_bd38_11eb_948b_305a3a083b3frow3_col1\" class=\"data row3 col1\" >6034</td>\n",
       "                        <td id=\"T_02ae336b_bd38_11eb_948b_305a3a083b3frow3_col2\" class=\"data row3 col2\" >2682</td>\n",
       "                        <td id=\"T_02ae336b_bd38_11eb_948b_305a3a083b3frow3_col3\" class=\"data row3 col3\" >5469</td>\n",
       "                        <td id=\"T_02ae336b_bd38_11eb_948b_305a3a083b3frow3_col4\" class=\"data row3 col4\" >523</td>\n",
       "                        <td id=\"T_02ae336b_bd38_11eb_948b_305a3a083b3frow3_col5\" class=\"data row3 col5\" >1140</td>\n",
       "                        <td id=\"T_02ae336b_bd38_11eb_948b_305a3a083b3frow3_col6\" class=\"data row3 col6\" >810</td>\n",
       "            </tr>\n",
       "            <tr>\n",
       "                        <th id=\"T_02ae336b_bd38_11eb_948b_305a3a083b3flevel0_row4\" class=\"row_heading level0 row4\" >true:Die Linke</th>\n",
       "                        <td id=\"T_02ae336b_bd38_11eb_948b_305a3a083b3frow4_col0\" class=\"data row4 col0\" >1162</td>\n",
       "                        <td id=\"T_02ae336b_bd38_11eb_948b_305a3a083b3frow4_col1\" class=\"data row4 col1\" >27746</td>\n",
       "                        <td id=\"T_02ae336b_bd38_11eb_948b_305a3a083b3frow4_col2\" class=\"data row4 col2\" >3305</td>\n",
       "                        <td id=\"T_02ae336b_bd38_11eb_948b_305a3a083b3frow4_col3\" class=\"data row4 col3\" >154</td>\n",
       "                        <td id=\"T_02ae336b_bd38_11eb_948b_305a3a083b3frow4_col4\" class=\"data row4 col4\" >38181</td>\n",
       "                        <td id=\"T_02ae336b_bd38_11eb_948b_305a3a083b3frow4_col5\" class=\"data row4 col5\" >727</td>\n",
       "                        <td id=\"T_02ae336b_bd38_11eb_948b_305a3a083b3frow4_col6\" class=\"data row4 col6\" >2418</td>\n",
       "            </tr>\n",
       "            <tr>\n",
       "                        <th id=\"T_02ae336b_bd38_11eb_948b_305a3a083b3flevel0_row5\" class=\"row_heading level0 row5\" >true:FDP</th>\n",
       "                        <td id=\"T_02ae336b_bd38_11eb_948b_305a3a083b3frow5_col0\" class=\"data row5 col0\" >899</td>\n",
       "                        <td id=\"T_02ae336b_bd38_11eb_948b_305a3a083b3frow5_col1\" class=\"data row5 col1\" >14702</td>\n",
       "                        <td id=\"T_02ae336b_bd38_11eb_948b_305a3a083b3frow5_col2\" class=\"data row5 col2\" >2867</td>\n",
       "                        <td id=\"T_02ae336b_bd38_11eb_948b_305a3a083b3frow5_col3\" class=\"data row5 col3\" >468</td>\n",
       "                        <td id=\"T_02ae336b_bd38_11eb_948b_305a3a083b3frow5_col4\" class=\"data row5 col4\" >1716</td>\n",
       "                        <td id=\"T_02ae336b_bd38_11eb_948b_305a3a083b3frow5_col5\" class=\"data row5 col5\" >18035</td>\n",
       "                        <td id=\"T_02ae336b_bd38_11eb_948b_305a3a083b3frow5_col6\" class=\"data row5 col6\" >2140</td>\n",
       "            </tr>\n",
       "            <tr>\n",
       "                        <th id=\"T_02ae336b_bd38_11eb_948b_305a3a083b3flevel0_row6\" class=\"row_heading level0 row6\" >true:SPD</th>\n",
       "                        <td id=\"T_02ae336b_bd38_11eb_948b_305a3a083b3frow6_col0\" class=\"data row6 col0\" >942</td>\n",
       "                        <td id=\"T_02ae336b_bd38_11eb_948b_305a3a083b3frow6_col1\" class=\"data row6 col1\" >26510</td>\n",
       "                        <td id=\"T_02ae336b_bd38_11eb_948b_305a3a083b3frow6_col2\" class=\"data row6 col2\" >5552</td>\n",
       "                        <td id=\"T_02ae336b_bd38_11eb_948b_305a3a083b3frow6_col3\" class=\"data row6 col3\" >287</td>\n",
       "                        <td id=\"T_02ae336b_bd38_11eb_948b_305a3a083b3frow6_col4\" class=\"data row6 col4\" >3561</td>\n",
       "                        <td id=\"T_02ae336b_bd38_11eb_948b_305a3a083b3frow6_col5\" class=\"data row6 col5\" >1553</td>\n",
       "                        <td id=\"T_02ae336b_bd38_11eb_948b_305a3a083b3frow6_col6\" class=\"data row6 col6\" >32074</td>\n",
       "            </tr>\n",
       "    </tbody></table>"
      ],
      "text/plain": [
       "<pandas.io.formats.style.Styler at 0x21b2be94d90>"
      ]
     },
     "execution_count": 36,
     "metadata": {},
     "output_type": "execute_result"
    }
   ],
   "source": [
    "print(\"***Multilayer Perceptron (two hidden layer, each has 7 neurons) confusion matrix (hashtags + mentions, all data)***\")\n",
    "cm = pd.DataFrame(\n",
    "    confusion_matrix(y_test, prediction, labels=target_names),\n",
    "    index = [\"true:{:}\".format(x) for x in target_names],\n",
    "    columns = [\"pred:{:}\".format(x) for x in target_names]\n",
    ")\n",
    "cm.style.set_properties(**{'text-align': 'center'})"
   ]
  }
 ],
 "metadata": {
  "kernelspec": {
   "display_name": "Python 3",
   "language": "python",
   "name": "python3"
  },
  "language_info": {
   "codemirror_mode": {
    "name": "ipython",
    "version": 3
   },
   "file_extension": ".py",
   "mimetype": "text/x-python",
   "name": "python",
   "nbconvert_exporter": "python",
   "pygments_lexer": "ipython3",
   "version": "3.8.5"
  }
 },
 "nbformat": 4,
 "nbformat_minor": 4
}
